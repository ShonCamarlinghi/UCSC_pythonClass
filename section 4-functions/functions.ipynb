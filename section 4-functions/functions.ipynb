{
 "cells": [
  {
   "cell_type": "markdown",
   "metadata": {
    "collapsed": false,
    "deletable": true,
    "editable": true
   },
   "source": [
    "In this notebook we will discuss:\n",
    "1. Functions\n",
    "2. Arguments and outputs\n",
    "3. default argument\n",
    "4. keyword based arguments"
   ]
  },
  {
   "cell_type": "code",
   "execution_count": 3,
   "metadata": {
    "collapsed": false,
    "deletable": true,
    "editable": true,
    "scrolled": true
   },
   "outputs": [
    {
     "name": "stdout",
     "output_type": "stream",
     "text": [
      "the increment value is : 21\n",
      "21\n"
     ]
    }
   ],
   "source": [
    "'''\n",
    "Syntax for function\n",
    "def name_of_the_function(list of arguments):\n",
    "    statements that need to be executed\n",
    "    return value\n",
    "\n",
    "'''\n",
    "global c\n",
    "c = \"Bad Idea\"\n",
    "def increment(a):\n",
    "    b = a+1\n",
    "    print 'the increment value is : %d' %b\n",
    "    return b\n",
    "    print c\n",
    "\n",
    "print increment(20) # calling the function and passing a required argument."
   ]
  },
  {
   "cell_type": "code",
   "execution_count": 30,
   "metadata": {
    "collapsed": false,
    "deletable": true,
    "editable": true
   },
   "outputs": [
    {
     "name": "stdout",
     "output_type": "stream",
     "text": [
      "the increment value is : 21\n",
      "21\n"
     ]
    }
   ],
   "source": [
    "# Scope of variables that are is local to the function. \n",
    "\n",
    "'''\n",
    "The variable b does not exist outside the function.  \n",
    "So we will get NameError exception.\n",
    "'''\n",
    "\n",
    "def increment(a):\n",
    "    b = a+1\n",
    "    print 'the increment value is : %d' %b\n",
    "    return b\n",
    "\n",
    "print increment(20) # calling the function and passing a required argument. \n",
    "#print b"
   ]
  },
  {
   "cell_type": "code",
   "execution_count": 31,
   "metadata": {
    "collapsed": false,
    "deletable": true,
    "editable": true
   },
   "outputs": [
    {
     "name": "stdout",
     "output_type": "stream",
     "text": [
      "The value of a is: 3\n",
      "13\n"
     ]
    }
   ],
   "source": [
    "# A function can take multiple inputs\n",
    "def increment(a,incr):\n",
    "    c = a+incr\n",
    "    print 'The value of a is: %d' %a\n",
    "    return c\n",
    "\n",
    "print increment(3,10) # calling the function and passing two required arguments. \n",
    "# 10 will be assigned to a and \n",
    "# 3 will be assigned to incr. So these are called positional arguments."
   ]
  },
  {
   "cell_type": "code",
   "execution_count": 32,
   "metadata": {
    "collapsed": false,
    "deletable": true,
    "editable": true
   },
   "outputs": [
    {
     "name": "stdout",
     "output_type": "stream",
     "text": [
      "(13, 10, 3)\n"
     ]
    }
   ],
   "source": [
    "def increment(a,incr):\n",
    "    c = a+incr\n",
    "    return (c,a,incr)\n",
    "    # returning multiple values as a tuple\n",
    "print increment(10,3)"
   ]
  },
  {
   "cell_type": "code",
   "execution_count": 33,
   "metadata": {
    "collapsed": false,
    "deletable": true,
    "editable": true
   },
   "outputs": [
    {
     "name": "stdout",
     "output_type": "stream",
     "text": [
      "4\n",
      "7\n"
     ]
    }
   ],
   "source": [
    "# Specifying default values\n",
    "def increment(a,incr=1):\n",
    "    a = a+incr\n",
    "    return a\n",
    "\n",
    "print increment(3) # for this the incr will default to 1\n",
    "print increment(3,4) \n",
    "# here the incr is assigned a value of 4 which overrides the default value"
   ]
  },
  {
   "cell_type": "code",
   "execution_count": 34,
   "metadata": {
    "collapsed": false,
    "deletable": true,
    "editable": true
   },
   "outputs": [
    {
     "name": "stdout",
     "output_type": "stream",
     "text": [
      "the value of a is :6\n",
      "8\n"
     ]
    }
   ],
   "source": [
    "def increment(a=4,incr1=1):\n",
    "    print 'the value of a is :%d' %a\n",
    "    a = a+incr1\n",
    "    return a\n",
    "\n",
    "print increment(a=6,incr1=2) # 2 keyword arguments"
   ]
  },
  {
   "cell_type": "code",
   "execution_count": 35,
   "metadata": {
    "collapsed": false,
    "deletable": true,
    "editable": true
   },
   "outputs": [
    {
     "name": "stdout",
     "output_type": "stream",
     "text": [
      "the value of a is :3\n",
      "5\n"
     ]
    }
   ],
   "source": [
    "print increment(incr1=2,a=3)\n",
    "# Unlike positional arguments, order is not important for keyword arguments."
   ]
  },
  {
   "cell_type": "code",
   "execution_count": 36,
   "metadata": {
    "collapsed": false,
    "deletable": true,
    "editable": true
   },
   "outputs": [
    {
     "name": "stdout",
     "output_type": "stream",
     "text": [
      "the value of a is :10\n",
      "15\n"
     ]
    }
   ],
   "source": [
    "print increment(10,incr1=5) # if you assign a value for a keyword argument \n",
    "# then other arguments to its right should also be assigned values."
   ]
  },
  {
   "cell_type": "code",
   "execution_count": 37,
   "metadata": {
    "collapsed": false,
    "deletable": true,
    "editable": true
   },
   "outputs": [
    {
     "ename": "SyntaxError",
     "evalue": "non-keyword arg after keyword arg (<ipython-input-37-c94119bfccf7>, line 1)",
     "output_type": "error",
     "traceback": [
      "\u001b[1;36m  File \u001b[1;32m\"<ipython-input-37-c94119bfccf7>\"\u001b[1;36m, line \u001b[1;32m1\u001b[0m\n\u001b[1;33m    print increment(a=10,5) # This will generate a Syntax error\u001b[0m\n\u001b[1;31mSyntaxError\u001b[0m\u001b[1;31m:\u001b[0m non-keyword arg after keyword arg\n"
     ]
    }
   ],
   "source": [
    "print increment(a=10,5) # This will generate a Syntax error"
   ]
  },
  {
   "cell_type": "code",
   "execution_count": 38,
   "metadata": {
    "collapsed": false,
    "deletable": true,
    "editable": true
   },
   "outputs": [
    {
     "name": "stdout",
     "output_type": "stream",
     "text": [
      "the value of a is :5\n",
      "7\n"
     ]
    }
   ],
   "source": [
    "print increment(5,incr1=2) \n",
    "# if you assign a value for a keyword argument \n",
    "# then other keyword arguments to its right should also be assigned values."
   ]
  },
  {
   "cell_type": "code",
   "execution_count": 39,
   "metadata": {
    "collapsed": false,
    "deletable": true,
    "editable": true
   },
   "outputs": [
    {
     "name": "stdout",
     "output_type": "stream",
     "text": [
      "<type 'function'>\n",
      "<function increment at 0x04AB62B0>\n"
     ]
    }
   ],
   "source": [
    "print type(increment)\n",
    "print increment"
   ]
  },
  {
   "cell_type": "markdown",
   "metadata": {
    "deletable": true,
    "editable": true
   },
   "source": [
    "Mutable and Immutable objects in Python - Mutable objects can be changed in place that means we can change their content without changing their identity. Whereas immutable objects cannot be changed in place. \n",
    "\n",
    "Mutable objects:\n",
    "    \n",
    "    Set\n",
    "    \n",
    "    List\n",
    "    \n",
    "    Dictionary\n",
    "    \n",
    "Immutable objects:\n",
    "    \n",
    "    String\n",
    "    \n",
    "    Integer\n",
    "    \n",
    "    Float\n",
    "    \n",
    "    Tuple\n",
    "    \n",
    "    bool"
   ]
  },
  {
   "cell_type": "code",
   "execution_count": 4,
   "metadata": {
    "collapsed": false,
    "deletable": true,
    "editable": true
   },
   "outputs": [
    {
     "name": "stdout",
     "output_type": "stream",
     "text": [
      "10 4298149424\n",
      "10 4298149424\n",
      "10 4298149424\n",
      "21 4298149160\n"
     ]
    }
   ],
   "source": [
    "a = 10\n",
    "b = a\n",
    "print a, id(a)\n",
    "print b, id(b)\n",
    "b = b + 11\n",
    "print a, id(a)\n",
    "print b, id(b)"
   ]
  },
  {
   "cell_type": "code",
   "execution_count": 3,
   "metadata": {
    "collapsed": false,
    "deletable": true,
    "editable": true
   },
   "outputs": [
    {
     "name": "stdout",
     "output_type": "stream",
     "text": [
      "[12, 14] 71842184\n",
      "[12, 14] 71842184\n",
      "[12, 14, -12] 71842184\n",
      "[12, 14, -12] 71842184\n"
     ]
    }
   ],
   "source": [
    "C = [12, 14]\n",
    "D = C\n",
    "print C, id(C)\n",
    "print D, id(D)\n",
    "D.append(-12)\n",
    "print C, id(C)\n",
    "print D, id(D)"
   ]
  },
  {
   "cell_type": "markdown",
   "metadata": {
    "collapsed": false,
    "deletable": true,
    "editable": true
   },
   "source": [
    "Pass-by-value and pass-by-reference\n",
    "\n",
    "http://stackoverflow.com/questions/986006/how-do-i-pass-a-variable-by-reference"
   ]
  },
  {
   "cell_type": "code",
   "execution_count": 40,
   "metadata": {
    "collapsed": false,
    "deletable": true,
    "editable": true
   },
   "outputs": [
    {
     "name": "stdout",
     "output_type": "stream",
     "text": [
      "a =  4\n",
      "b =  2\n"
     ]
    }
   ],
   "source": [
    "def myfunc(a):# a is an int\n",
    "    a = a*2\n",
    "    print \"a = \", a\n",
    "    return a\n",
    "b = 2\n",
    "myfunc(b)\n",
    "print \"b = \", b"
   ]
  },
  {
   "cell_type": "code",
   "execution_count": 41,
   "metadata": {
    "collapsed": false,
    "deletable": true,
    "editable": true
   },
   "outputs": [
    {
     "name": "stdout",
     "output_type": "stream",
     "text": [
      "a =  (4, 5, 6)\n",
      "b =  (1, 2, 3)\n"
     ]
    }
   ],
   "source": [
    "def myfunc(a):# a is a TUPLE that is completely replaced\n",
    "    a = (4, 5, 6,)\n",
    "    print \"a = \", a\n",
    "    return a\n",
    "b = (1,2,3)\n",
    "myfunc(b)\n",
    "print \"b = \", b"
   ]
  },
  {
   "cell_type": "code",
   "execution_count": 42,
   "metadata": {
    "collapsed": false,
    "deletable": true,
    "editable": true
   },
   "outputs": [
    {
     "name": "stdout",
     "output_type": "stream",
     "text": [
      "a =  [4, 5, 6]\n",
      "b =  [1, 2, 3]\n"
     ]
    }
   ],
   "source": [
    "def myfunc(a):# a is a list that is completely replaced\n",
    "    a = [4,5,6]\n",
    "    print \"a = \", a\n",
    "    return a\n",
    "b = [1,2,3]\n",
    "myfunc(b)\n",
    "print \"b = \", b"
   ]
  },
  {
   "cell_type": "code",
   "execution_count": 43,
   "metadata": {
    "collapsed": false,
    "deletable": true,
    "editable": true
   },
   "outputs": [
    {
     "name": "stdout",
     "output_type": "stream",
     "text": [
      "a =  [1, 2, 3, 4]\n",
      "b =  [1, 2, 3, 4]\n"
     ]
    }
   ],
   "source": [
    "def myfunc(a):# a is a LIST that is modified inline\n",
    "    a.append(4)\n",
    "    print \"a = \", a\n",
    "    return a\n",
    "b = [1,2,3]\n",
    "myfunc(b)\n",
    "print \"b = \", b"
   ]
  },
  {
   "cell_type": "code",
   "execution_count": 44,
   "metadata": {
    "collapsed": false,
    "deletable": true,
    "editable": true
   },
   "outputs": [
    {
     "name": "stdout",
     "output_type": "stream",
     "text": [
      "a =  [1, 2, 3, 4]\n",
      "b =  [1, 2, 3]\n"
     ]
    }
   ],
   "source": [
    "def myfunc(a):# a is a LIST that is modified inline\n",
    "    a = a[:] \n",
    "    # Creating a deepcopy will solve the problem of pass by reference\n",
    "    a.append(4)\n",
    "    print \"a = \", a\n",
    "    return a\n",
    "b = [1,2,3]\n",
    "myfunc(b)\n",
    "print \"b = \", b"
   ]
  },
  {
   "cell_type": "code",
   "execution_count": null,
   "metadata": {
    "collapsed": false,
    "deletable": true,
    "editable": true
   },
   "outputs": [],
   "source": [
    "'''\n",
    "Summary of pass-by-value and pass-by-reference\n",
    "\n",
    "immutable object : pass-by-value\n",
    "mutable object : pass-by-reference\n",
    "\n",
    "'''"
   ]
  },
  {
   "cell_type": "markdown",
   "metadata": {
    "deletable": true,
    "editable": true
   },
   "source": [
    "<img src=\"http://i.stack.imgur.com/hKDcu.png = 70*70\">"
   ]
  },
  {
   "cell_type": "code",
   "execution_count": 9,
   "metadata": {
    "collapsed": false,
    "deletable": true,
    "editable": true
   },
   "outputs": [
    {
     "name": "stdout",
     "output_type": "stream",
     "text": [
      "[4, 49, 100]\n",
      "{-7: 49, 2: 4, 10: 100}\n"
     ]
    }
   ],
   "source": [
    "'''\n",
    "In-class activity\n",
    "\n",
    "1) Create a function called squared which takes a list called mylist and \n",
    "returns another list where the elements are square of mylist. \n",
    "\n",
    "2) Create another function that takes mylist and returns a dictionary where the \n",
    "key is the input and the value is the square of the input. \n",
    "The output should be [2:4, -7:49, 10:100]\n",
    "\n",
    "'''\n",
    "global mylist \n",
    "mylist = [2, -7, 10]\n",
    "\n",
    "def squared():\n",
    "    newlist = [x*x for x in mylist]\n",
    "    return newlist\n",
    "\n",
    "def makeDict():\n",
    "    d = {x:x*x for x in mylist}\n",
    "    return d\n",
    "\n",
    "print squared()\n",
    "print makeDict()\n"
   ]
  },
  {
   "cell_type": "code",
   "execution_count": 10,
   "metadata": {
    "collapsed": false,
    "deletable": true,
    "editable": true
   },
   "outputs": [
    {
     "name": "stdout",
     "output_type": "stream",
     "text": [
      "(-10,) <type 'tuple'>\n",
      "-10\n",
      "(1, 2, 3) <type 'tuple'>\n",
      "1\n",
      "2\n",
      "3\n"
     ]
    }
   ],
   "source": [
    "# args and kwargs helps to supply variable number of arguments to a \n",
    "# function. Inside the function, args is of type tuple.\n",
    "def take1(*args):\n",
    "    print args, type(args)\n",
    "    for i in args:\n",
    "        print i\n",
    "        \n",
    "take1(-10)\n",
    "take1(1,2,3)"
   ]
  },
  {
   "cell_type": "code",
   "execution_count": 46,
   "metadata": {
    "collapsed": false,
    "deletable": true,
    "editable": true
   },
   "outputs": [
    {
     "name": "stdout",
     "output_type": "stream",
     "text": [
      "{'a': 'abe'} <type 'dict'>\n",
      "{'a': 'abe', 'b': 'cab'} <type 'dict'>\n"
     ]
    }
   ],
   "source": [
    "# kwargs is a dictionary, with the dictionary key being the variable \n",
    "# name and dictionary value is the value of that variable\n",
    "def utake(**kwargs):\n",
    "    print kwargs, type(kwargs)\n",
    "    \n",
    "utake(a = 'abe')\n",
    "utake(a = 'abe', b ='cab')"
   ]
  },
  {
   "cell_type": "code",
   "execution_count": 47,
   "metadata": {
    "collapsed": false,
    "deletable": true,
    "editable": true
   },
   "outputs": [
    {
     "name": "stdout",
     "output_type": "stream",
     "text": [
      "a 7\n",
      "c 3\n",
      "b -5\n",
      "d -10\n"
     ]
    }
   ],
   "source": [
    "def ptab(**kwargs):\n",
    "    # since kwargs is a dictionary, we can iterate using items() function. \n",
    "    for key, value in kwargs.items():\n",
    "        print key, value\n",
    "\n",
    "ptab(a = 7, b = -5, c = 3, d = -10)"
   ]
  },
  {
   "cell_type": "code",
   "execution_count": null,
   "metadata": {
    "collapsed": false,
    "deletable": true,
    "editable": true
   },
   "outputs": [],
   "source": [
    "'''\n",
    "In-class activity: define a function that takes a word and prints \n",
    "characters from the word. Call the function and pass a word.\n",
    "'''"
   ]
  },
  {
   "cell_type": "code",
   "execution_count": null,
   "metadata": {
    "collapsed": false,
    "deletable": true,
    "editable": true
   },
   "outputs": [],
   "source": [
    "'''\n",
    "In-class activity: define a function that converts Fahrenheit into \n",
    "Celsius. The formula is C = (F - 32)*(5.0/9). Use sys in the code and \n",
    "pass the value when running the program from the command line \n",
    "(if Windows) or terminal (if MAC).\n",
    "'''"
   ]
  },
  {
   "cell_type": "code",
   "execution_count": null,
   "metadata": {
    "collapsed": true,
    "deletable": true,
    "editable": true
   },
   "outputs": [],
   "source": []
  }
 ],
 "metadata": {
  "kernelspec": {
   "display_name": "Python 2",
   "language": "python",
   "name": "python2"
  },
  "language_info": {
   "codemirror_mode": {
    "name": "ipython",
    "version": 2
   },
   "file_extension": ".py",
   "mimetype": "text/x-python",
   "name": "python",
   "nbconvert_exporter": "python",
   "pygments_lexer": "ipython2",
   "version": "2.7.13"
  }
 },
 "nbformat": 4,
 "nbformat_minor": 0
}
