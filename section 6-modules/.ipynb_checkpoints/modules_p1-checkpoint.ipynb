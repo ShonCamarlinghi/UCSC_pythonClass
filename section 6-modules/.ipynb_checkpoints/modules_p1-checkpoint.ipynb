{
 "cells": [
  {
   "cell_type": "markdown",
   "metadata": {
    "collapsed": false
   },
   "source": [
    "In this notebook we will discuss:\n",
    "1. File IO\n",
    "\n",
    "    a. using module csv\n",
    "    \n",
    "    b. using module xlrd\n",
    "    \n",
    "2. walking a directory and all its sub-directories\n",
    "\n",
    "    a. glob\n",
    "    \n",
    "    b. os \n",
    "    \n",
    "3. creating custom modules"
   ]
  },
  {
   "cell_type": "code",
   "execution_count": null,
   "metadata": {
    "collapsed": false
   },
   "outputs": [],
   "source": [
    "import csv\n",
    "with open('exgrade.csv', 'r') as fo:\n",
    "    alllines = csv.reader(fo,delimiter=',')\n",
    "    for lines in alllines:\n",
    "        print lines"
   ]
  },
  {
   "cell_type": "code",
   "execution_count": null,
   "metadata": {
    "collapsed": false
   },
   "outputs": [],
   "source": [
    "import csv\n",
    "with open('animals.csv', 'w') as fo:\n",
    "    wo = csv.writer(fo)\n",
    "    lines = [['Zebra', 10], ['Giraffe', 17]]\n",
    "    wo.writerows(lines)"
   ]
  },
  {
   "cell_type": "code",
   "execution_count": null,
   "metadata": {
    "collapsed": false
   },
   "outputs": [],
   "source": [
    "import csv\n",
    "with open('animals.csv', 'r') as fo:\n",
    "    alllines = csv.reader(fo,delimiter=',')\n",
    "    for lines in alllines:\n",
    "        print lines"
   ]
  },
  {
   "cell_type": "markdown",
   "metadata": {
    "collapsed": false
   },
   "source": [
    "Module xlrd is used for reading data from xls and xlsx files.\n",
    "\n",
    "To learn more check the following links:\n",
    "\n",
    "http://www.python-excel.org/\n",
    "\n",
    "http://www.youlikeprogramming.com/2012/03/examples-reading-excel-xls-documents-using-pythons-xlrd/"
   ]
  },
  {
   "cell_type": "code",
   "execution_count": 5,
   "metadata": {
    "collapsed": false
   },
   "outputs": [
    {
     "name": "stdout",
     "output_type": "stream",
     "text": [
      "[u'Sheet1']\n"
     ]
    }
   ],
   "source": [
    "# Open an excel file and get all the sheet names\n",
    "import xlrd\n",
    "wb = xlrd.open_workbook('exgrade.xls')\n",
    "print wb.sheet_names()"
   ]
  },
  {
   "cell_type": "code",
   "execution_count": 6,
   "metadata": {
    "collapsed": false
   },
   "outputs": [
    {
     "name": "stdout",
     "output_type": "stream",
     "text": [
      "10\n"
     ]
    }
   ],
   "source": [
    "# In sheet 1, get the number of rows\n",
    "ws = wb.sheet_by_name('Sheet1')\n",
    "print ws.nrows"
   ]
  },
  {
   "cell_type": "code",
   "execution_count": null,
   "metadata": {
    "collapsed": false
   },
   "outputs": [],
   "source": [
    "print ws.row(0) # Get the content of first row as a list\n",
    "print ws.row(0)[1] # Get the second element of the first row list "
   ]
  },
  {
   "cell_type": "markdown",
   "metadata": {},
   "source": [
    "Module xlwt is used to write data to xls files. "
   ]
  },
  {
   "cell_type": "code",
   "execution_count": 8,
   "metadata": {
    "collapsed": false
   },
   "outputs": [
    {
     "name": "stdout",
     "output_type": "stream",
     "text": [
      "0 ['Name', 'Security code'] 2\n",
      "1 ['Adam', ' 10034'] 2\n",
      "2 ['Nitin', ' 10043'] 2\n",
      "3 ['Rob', ' 10134'] 2\n",
      "4 ['Sheela', ' 10045'] 2\n"
     ]
    }
   ],
   "source": [
    "# xlwt module is used to write into excel file.\n",
    "import xlwt\n",
    "workbook = xlwt.Workbook() \n",
    "sheet = workbook.add_sheet(\"Sheet 1\") \n",
    "\n",
    "#sheet.write(0, 0, 'Adam') # row, column, value\n",
    "\n",
    "g = [['Name', 'Security code'], \n",
    "     ['Adam', ' 10034'],\n",
    "     ['Nitin', ' 10043'],\n",
    "     ['Rob', ' 10134'],\n",
    "     ['Sheela', ' 10045']]\n",
    "\n",
    "for i,v in enumerate(g):\n",
    "    print i, v, len(v)\n",
    "    if len(v) >= 2:\n",
    "        sheet.write(i,0,v[0])\n",
    "        sheet.write(i,1,v[1])\n",
    "        \n",
    "workbook.save('Xcel1.xls')"
   ]
  },
  {
   "cell_type": "markdown",
   "metadata": {
    "collapsed": false
   },
   "source": [
    "Module sqlite3 is used to write data to and read data from databases."
   ]
  },
  {
   "cell_type": "code",
   "execution_count": null,
   "metadata": {
    "collapsed": false
   },
   "outputs": [],
   "source": [
    "import sqlite3\n",
    "\n",
    "# Create a connection to sqlite\n",
    "conn = sqlite3.connect('test.db')\n",
    "\n",
    "# Open a cursor\n",
    "c = conn.cursor()\n",
    "\n",
    "# Execute any SQL statement\n",
    "# Create table named \"stocks\" if it does not already exist.\n",
    "c.execute(\"create table if not exists stocks \\\n",
    "           (date text, trans text,symbol text, qty real, price real)\")\n",
    "\n",
    "# Add entries\n",
    "c.execute(\"insert into stocks values ('2006-02-05','SELL','RHAT',50,50.25)\")\n",
    "c.execute(\"insert into stocks values ('2006-03-15','BUY','GOOG',1000,350.13)\")\n",
    "c.execute(\"insert into stocks values ('2006-10-05','BUY','GOOG',100000,400.14)\")\n",
    "conn.commit()\n",
    "\n",
    "# Query all the entries in the database\n",
    "alllines = c.execute(\"select * from stocks\")\n",
    "print alllines\n",
    "\n",
    "# Print it\n",
    "for lines in alllines:\n",
    "    print lines\n",
    "\n",
    "c.close()"
   ]
  },
  {
   "cell_type": "code",
   "execution_count": null,
   "metadata": {
    "collapsed": false
   },
   "outputs": [],
   "source": [
    "'''\n",
    "In-class activity - Create a database and call it 'UserSignUp.' In the \n",
    "database create a table called 'FirstSignUp' with columns Name, Country, \n",
    "Date, Type. Date should contain information on first login date and type \n",
    "should be paid or free user. Add five entries. Then print out the rows. \n",
    "'''"
   ]
  },
  {
   "cell_type": "markdown",
   "metadata": {
    "collapsed": false
   },
   "source": [
    "Module os provides operating system dependent functionalities. \n",
    "\n",
    "https://docs.python.org/2/library/os.html"
   ]
  },
  {
   "cell_type": "code",
   "execution_count": 11,
   "metadata": {
    "collapsed": false
   },
   "outputs": [
    {
     "data": {
      "text/plain": [
       "['.ipynb_checkpoints',\n",
       " 'animals.csv',\n",
       " 'exgrade.csv',\n",
       " 'exgrade.xls',\n",
       " 'modules_p1.ipynb',\n",
       " 'modules_p1.py',\n",
       " 'modules_p2.ipynb',\n",
       " 'modules_p2.py',\n",
       " 'newfile.csv',\n",
       " 'prog1.py',\n",
       " 'prog1.pyc',\n",
       " 'python_list.txt',\n",
       " 'python_list1.txt',\n",
       " 'test.db',\n",
       " 'ufolder',\n",
       " 'webscrapping_lxml.txt',\n",
       " 'Xcel1.xls',\n",
       " 'Xcel1.xlsx']"
      ]
     },
     "execution_count": 11,
     "metadata": {},
     "output_type": "execute_result"
    }
   ],
   "source": [
    "import os\n",
    "# gives a list of folders and files that are in \n",
    "# the current working directory\n",
    "os.listdir(\".\")"
   ]
  },
  {
   "cell_type": "markdown",
   "metadata": {},
   "source": [
    "Module glob can be used to finds all the pathnames matching a specified \n",
    "pattern according to the rules used by the Unix shell.\n",
    "\n",
    "glob.glob(_directory_name) will return all the files in a particular \n",
    "directory or folder"
   ]
  },
  {
   "cell_type": "code",
   "execution_count": 13,
   "metadata": {
    "collapsed": false
   },
   "outputs": [
    {
     "name": "stdout",
     "output_type": "stream",
     "text": [
      "['animals.csv', 'exgrade.csv', 'exgrade.xls', 'modules_p1.ipynb', 'modules_p1.py', 'modules_p2.ipynb', 'modules_p2.py', 'newfile.csv', 'prog1.py', 'prog1.pyc', 'python_list.txt', 'python_list1.txt', 'test.db', 'webscrapping_lxml.txt', 'Xcel1.xls', 'Xcel1.xlsx']\n"
     ]
    }
   ],
   "source": [
    "import glob\n",
    "\n",
    "# will return a list of files that are in the current working directory \n",
    "print glob.glob(\"*.*\")\n"
   ]
  },
  {
   "cell_type": "code",
   "execution_count": null,
   "metadata": {
    "collapsed": false
   },
   "outputs": [],
   "source": [
    "# in this example it will return all the ipython notebook files in the \n",
    "# current directory\n",
    "print glob.glob(\"*.ipynb\")"
   ]
  },
  {
   "cell_type": "code",
   "execution_count": null,
   "metadata": {
    "collapsed": false
   },
   "outputs": [],
   "source": [
    "import os\n",
    "# os.walk returns three values - root, directories and files and they are \n",
    "# passed to the variables root, dirs and files respectively.\n",
    "for root, dirs, files in os.walk(\"sridevi/Desktop/\"):\n",
    "    # root, dirs, files\n",
    "    for file in files:\n",
    "        if file.endswith(\".py\"):\n",
    "             print os.path.join(root, file)"
   ]
  },
  {
   "cell_type": "code",
   "execution_count": null,
   "metadata": {
    "collapsed": false
   },
   "outputs": [],
   "source": [
    "import os\n",
    "os.getcwd()"
   ]
  },
  {
   "cell_type": "markdown",
   "metadata": {},
   "source": [
    "Different ways of importing a module."
   ]
  },
  {
   "cell_type": "code",
   "execution_count": null,
   "metadata": {
    "collapsed": false
   },
   "outputs": [],
   "source": [
    "# Import all functions in a given module.\n",
    "# We have to refer to the module name when \n",
    "# calling the function\n",
    "import math\n",
    "print math.sin(math.pi/4)"
   ]
  },
  {
   "cell_type": "code",
   "execution_count": null,
   "metadata": {
    "collapsed": false
   },
   "outputs": [],
   "source": [
    "# Import all functions in a given module.\n",
    "# We do not need to refer to the module name when \n",
    "# calling the function\n",
    "from math import *\n",
    "print sin(pi/4)"
   ]
  },
  {
   "cell_type": "code",
   "execution_count": null,
   "metadata": {
    "collapsed": false
   },
   "outputs": [],
   "source": [
    "# Give a shortcut name to the module. \n",
    "# Especially true for modules with long names such as matplotlib\n",
    "import math as ma\n",
    "print ma.sin(ma.pi/4)"
   ]
  },
  {
   "cell_type": "code",
   "execution_count": null,
   "metadata": {
    "collapsed": false
   },
   "outputs": [],
   "source": [
    "# Only import the necessary functions from a module\n",
    "# This is memory efficient\n",
    "from math import sin,pi\n",
    "print sin(pi/4)"
   ]
  },
  {
   "cell_type": "code",
   "execution_count": null,
   "metadata": {
    "collapsed": false
   },
   "outputs": [],
   "source": [
    "import numpy as np\n",
    "a = np.array([1,5,8,6], float)\n",
    "print a\n",
    "c = a/2\n",
    "print c"
   ]
  },
  {
   "cell_type": "code",
   "execution_count": null,
   "metadata": {
    "collapsed": false
   },
   "outputs": [],
   "source": [
    "print a.sum()\n",
    "print a.prod()\n",
    "print a.min()\n",
    "print a.max()"
   ]
  },
  {
   "cell_type": "markdown",
   "metadata": {},
   "source": [
    "Subprocess module is useful for making calls to the *nix operating system. \n",
    "Check documentation in https://docs.python.org/2/library/subprocess.html\n",
    "https://pymotw.com/2/subprocess/"
   ]
  },
  {
   "cell_type": "code",
   "execution_count": null,
   "metadata": {
    "collapsed": false
   },
   "outputs": [],
   "source": [
    "'''\n",
    "You need to use the Popen function and pass the command\n",
    "The following piece of code can only be used on Mac or Linux. \n",
    "\n",
    "Invoking the system shell with shell = True can be a security hazard if \n",
    "combined with untrusted input\n",
    "'''\n",
    "\n",
    "import subprocess\n",
    "sp = subprocess.Popen('ls', stdout=subprocess.PIPE)\n",
    "s = sp.communicate() # Returns a tuple (stdout,stderr)\n",
    "print s\n",
    "\n",
    "# You can iterate through the tuple that is returned by the function\n",
    "for items in s:\n",
    "    print items"
   ]
  },
  {
   "cell_type": "code",
   "execution_count": 15,
   "metadata": {
    "collapsed": false
   },
   "outputs": [
    {
     "name": "stdout",
     "output_type": "stream",
     "text": [
      "[' Volume in drive C is Windows\\r\\n', ' Volume Serial Number is 08AA-F110\\r\\n', '\\r\\n', ' Directory of c:\\\\users\\\\sridevi\\\\dropbox\\\\python corporate\\\\juniper\\\\latest notes june 2017\\\\section 6-modules\\r\\n', '\\r\\n', '09/06/2017  12:12 PM    <DIR>          .\\r\\n', '09/06/2017  12:12 PM    <DIR>          ..\\r\\n', '09/02/2017  04:14 PM    <DIR>          .ipynb_checkpoints\\r\\n', '08/04/2016  05:41 AM                22 animals.csv\\r\\n', '10/05/2015  08:14 PM               110 exgrade.csv\\r\\n', '10/05/2015  08:25 PM            26,112 exgrade.xls\\r\\n', '09/06/2017  12:12 PM            14,889 modules_p1.ipynb\\r\\n', '08/08/2017  08:42 PM             5,998 modules_p1.py\\r\\n', '09/05/2017  06:45 PM            12,165 modules_p2.ipynb\\r\\n', '08/08/2017  08:42 PM             6,166 modules_p2.py\\r\\n', '08/04/2016  05:33 AM                22 newfile.csv\\r\\n', '04/10/2015  03:45 PM                71 prog1.py\\r\\n', '09/27/2016  11:07 AM               234 prog1.pyc\\r\\n', '10/07/2015  03:10 PM                27 python_list.txt\\r\\n', '02/25/2016  11:18 AM                 7 python_list1.txt\\r\\n', '08/04/2016  10:17 AM             8,192 test.db\\r\\n', '09/02/2017  04:14 PM    <DIR>          ufolder\\r\\n', '02/24/2016  08:33 PM               251 webscrapping_lxml.txt\\r\\n', '09/06/2017  11:49 AM             5,632 Xcel1.xls\\r\\n', '09/06/2017  11:41 AM             5,632 Xcel1.xlsx\\r\\n', '              16 File(s)         85,530 bytes\\r\\n', '               4 Dir(s)  107,128,160,256 bytes free\\r\\n']\n"
     ]
    }
   ],
   "source": [
    "'''\n",
    "The following subprocess code can be used on Windows\n",
    "'''\n",
    "import subprocess\n",
    "sp = subprocess.Popen('dir', shell =True, stdout=subprocess.PIPE, stderr=subprocess.PIPE)\n",
    "#s = sp.communicate() # Returns a tuple (stdout,stderr)\n",
    "\n",
    "results = []\n",
    "# You can iterate through the tuple that is returned by the function\n",
    "for items in sp.stdout:\n",
    "    results.append(items)\n",
    "    \n",
    "print results"
   ]
  },
  {
   "cell_type": "code",
   "execution_count": null,
   "metadata": {
    "collapsed": false
   },
   "outputs": [],
   "source": [
    "'''\n",
    "Creating custom modules\n",
    "'''"
   ]
  },
  {
   "cell_type": "code",
   "execution_count": null,
   "metadata": {
    "collapsed": false
   },
   "outputs": [],
   "source": [
    "# The file prog1.py is in the same folder as this IPython notebook\n",
    "import prog1\n",
    "print prog1.increment(2,3)"
   ]
  },
  {
   "cell_type": "code",
   "execution_count": null,
   "metadata": {
    "collapsed": false
   },
   "outputs": [],
   "source": [
    "# The file uprog1.py is in the folder \"ufolder\" which is \n",
    "# in the same location as this IPython notebook\n",
    "from ufolder import uprog1\n",
    "print uprog1.increment(10)"
   ]
  },
  {
   "cell_type": "code",
   "execution_count": null,
   "metadata": {
    "collapsed": false
   },
   "outputs": [],
   "source": [
    "import ufolder\n",
    "print ufolder.uprog1.increment(16)"
   ]
  },
  {
   "cell_type": "code",
   "execution_count": null,
   "metadata": {
    "collapsed": false
   },
   "outputs": [],
   "source": [
    "import ufolder as uf\n",
    "print uf.uprog1.increment(20,3)"
   ]
  },
  {
   "cell_type": "markdown",
   "metadata": {
    "collapsed": false
   },
   "source": [
    "Note: sometimes Jupyter (iPython) notebook might give an attribute error when you say - \n",
    "import usermodule_name. \n",
    "\n",
    "the best way to go around this is to say - \n",
    "from usermodule_name import userfile_name"
   ]
  },
  {
   "cell_type": "code",
   "execution_count": null,
   "metadata": {
    "collapsed": false
   },
   "outputs": [],
   "source": [
    "'''\n",
    "In-class activity - create a folder and make it a Python importable folder. \n",
    "Write a program that returns a list of odd numbers from a given list and \n",
    "save it in that folder. Write a code in the iPython notebook that imports \n",
    "the folder and then make a function call and supply the list.\n",
    "'''"
   ]
  }
 ],
 "metadata": {
  "kernelspec": {
   "display_name": "Python 2",
   "language": "python",
   "name": "python2"
  },
  "language_info": {
   "codemirror_mode": {
    "name": "ipython",
    "version": 2
   },
   "file_extension": ".py",
   "mimetype": "text/x-python",
   "name": "python",
   "nbconvert_exporter": "python",
   "pygments_lexer": "ipython2",
   "version": "2.7.11"
  }
 },
 "nbformat": 4,
 "nbformat_minor": 0
}
