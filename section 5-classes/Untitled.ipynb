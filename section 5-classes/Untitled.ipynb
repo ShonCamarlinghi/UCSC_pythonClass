{
 "cells": [
  {
   "cell_type": "code",
   "execution_count": 51,
   "metadata": {
    "collapsed": false,
    "deletable": true,
    "editable": true
   },
   "outputs": [
    {
     "name": "stdout",
     "output_type": "stream",
     "text": [
      "Please enter 7: 7\n",
      "[2, 5, 3, 6, 7]\n",
      "[2, 5, 3, 6]\n",
      "[2, 5, 3]\n",
      "[2, 5]\n",
      "[2]\n",
      "[]\n"
     ]
    }
   ],
   "source": [
    " \n",
    "'''Question 1 (5 points): A queue follows FIFO (first-in, first-out). FIFO is the case where the \n",
    "first element added is the first element  that can be retrieved. Consider \n",
    "a list with values [2, 5, 3, 6]. \n",
    "Create a class called MyQueue that will have \n",
    "two methods: queueadd and queueretrieve to add and pop elements \n",
    "from the list in FIFO order respectively. After each function call, \n",
    "print the contents of the list. Add 7 to the queue and then follow the \n",
    "FIFO rules to pop elements until the list is empty. follow the FIFO rules to pop elements \n",
    "until the list is empty.'''\n",
    "\n",
    "import random\n",
    "class MyQueue(object):\n",
    "    \n",
    "    '''The attributes for this class are name and balance '''\n",
    "    \n",
    "    def __init__(self, mylist):\n",
    "        self.mylist = mylist\n",
    "        self.value = value\n",
    "       \n",
    "    # you must explicitly list self as the first argument for each method\n",
    "    # including __init__ method\n",
    "    def queueadd(self, value):\n",
    "        self.mylist.append(value)\n",
    "        return self.mylist\n",
    "    \n",
    "    def queueretrieve(self):\n",
    "        self.mylist.pop(-1)\n",
    "        return self.mylist\n",
    "    \n",
    "L1 = [2, 5, 3, 6]        \n",
    "# creating an instance of the class \n",
    "a = int(raw_input('Please enter 7: '))\n",
    "b = MyQueue(L1) \n",
    "print b.queueadd(a)\n",
    " \n",
    "while len(L1) != 0:\n",
    "    b.queueretrieve()\n",
    "    print(b.mylist)\n",
    "    "
   ]
  },
  {
   "cell_type": "code",
   "execution_count": 52,
   "metadata": {
    "collapsed": false,
    "deletable": true,
    "editable": true
   },
   "outputs": [
    {
     "data": {
      "text/plain": [
       "'W12B1W12B3W24B1W14'"
      ]
     },
     "execution_count": 52,
     "metadata": {},
     "output_type": "execute_result"
    }
   ],
   "source": [
    " '''Question 2 (5 points): Implement an encoding scheme.\n",
    "The string \n",
    "WWWWWWWWWWWWBWWWWWWWWWWWWBBBWWWWWWWWWWWWWWWWWWWWWWWWBWWWWWWWWWWWWWW\n",
    "has 67 characters. Write a function called getcompressed to convert this string to \n",
    "12W1B12W3B24W1B14W. The new string is created\n",
    "by calculating the number of times a characters appears consecutively and\n",
    "placing the character next to it. The new string only needs 18 character,\n",
    "thus compressing the original string by 73%.\n",
    "'''\n",
    "\n",
    "#def getcompressed(s1)\n",
    "\n",
    "\n",
    "\n",
    "\n",
    "def getcompressed(s):\n",
    "    count = 1\n",
    "    prev = ''\n",
    "    newS = ''\n",
    "    for i in s:\n",
    "        if i == prev:\n",
    "            count += 1          \n",
    "        else:\n",
    "            if prev:\n",
    "                newS = newS + prev + str(count)               \n",
    "            count = 1\n",
    "            prev = i           \n",
    "    else:\n",
    "        newS = newS + i + str(count)\n",
    "\n",
    "    return newS\n",
    "\n",
    "s1 = 'WWWWWWWWWWWWBWWWWWWWWWWWWBBBWWWWWWWWWWWWWWWWWWWWWWWWBWWWWWWWWWWWWWW'\n",
    "getcompressed(s1)"
   ]
  },
  {
   "cell_type": "code",
   "execution_count": 5,
   "metadata": {
    "collapsed": false,
    "deletable": true,
    "editable": true
   },
   "outputs": [
    {
     "ename": "TypeError",
     "evalue": "__init__() takes exactly 2 arguments (1 given)",
     "output_type": "error",
     "traceback": [
      "\u001b[0;31m\u001b[0m",
      "\u001b[0;31mTypeError\u001b[0mTraceback (most recent call last)",
      "\u001b[0;32m<ipython-input-5-c9b07dcd64f5>\u001b[0m in \u001b[0;36m<module>\u001b[0;34m()\u001b[0m\n\u001b[1;32m     17\u001b[0m         \u001b[0;32mreturn\u001b[0m \u001b[0;34m\"Myau!\"\u001b[0m\u001b[0;34m\u001b[0m\u001b[0m\n\u001b[1;32m     18\u001b[0m \u001b[0;34m\u001b[0m\u001b[0m\n\u001b[0;32m---> 19\u001b[0;31m \u001b[0mf\u001b[0m \u001b[0;34m=\u001b[0m \u001b[0mForest\u001b[0m\u001b[0;34m(\u001b[0m\u001b[0;34m)\u001b[0m\u001b[0;34m\u001b[0m\u001b[0m\n\u001b[0m\u001b[1;32m     20\u001b[0m \u001b[0mb\u001b[0m \u001b[0;34m=\u001b[0m \u001b[0mBear\u001b[0m\u001b[0;34m(\u001b[0m\u001b[0;34m)\u001b[0m\u001b[0;34m\u001b[0m\u001b[0m\n\u001b[1;32m     21\u001b[0m \u001b[0mr\u001b[0m \u001b[0;34m=\u001b[0m \u001b[0mRabbit\u001b[0m\u001b[0;34m(\u001b[0m\u001b[0;34m)\u001b[0m\u001b[0;34m\u001b[0m\u001b[0m\n",
      "\u001b[0;31mTypeError\u001b[0m: __init__() takes exactly 2 arguments (1 given)"
     ]
    }
   ],
   "source": [
    "class Forest(object):\n",
    "    def __init__(self, name):\n",
    "        self.name = name\n",
    "    def speak(self):\n",
    "        print \"%s says: \" %(name) \n",
    "        \n",
    "class Bear(Forest):\n",
    "    def speak(self):\n",
    "        return \"Roarrr!\" \n",
    "\n",
    "class Rabbit(Forest):\n",
    "    def speak(self):\n",
    "        return \"Squeek!\"\n",
    "\n",
    "class Cat(Forest):\n",
    "    def speak(self):\n",
    "        return \"Myau!\"\n",
    "        \n",
    "f = Forest() \n",
    "b = Bear() \n",
    "r = Rabbit()\n",
    "c = Cat()\n",
    "f.speak('Bear'), b.speak()\n",
    "f.speak('Rabbit'), r.speak()\n",
    "f.speak('Cat'), c.speak()\n",
    "       "
   ]
  },
  {
   "cell_type": "code",
   "execution_count": null,
   "metadata": {
    "collapsed": true,
    "deletable": true,
    "editable": true
   },
   "outputs": [],
   "source": []
  }
 ],
 "metadata": {
  "kernelspec": {
   "display_name": "Python 2",
   "language": "python",
   "name": "python2"
  },
  "language_info": {
   "codemirror_mode": {
    "name": "ipython",
    "version": 2
   },
   "file_extension": ".py",
   "mimetype": "text/x-python",
   "name": "python",
   "nbconvert_exporter": "python",
   "pygments_lexer": "ipython2",
   "version": "2.7.13"
  }
 },
 "nbformat": 4,
 "nbformat_minor": 2
}
