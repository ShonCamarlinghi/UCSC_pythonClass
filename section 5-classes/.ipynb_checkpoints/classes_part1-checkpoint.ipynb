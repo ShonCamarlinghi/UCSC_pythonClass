{
 "cells": [
  {
   "cell_type": "markdown",
   "metadata": {
    "collapsed": false,
    "deletable": true,
    "editable": true
   },
   "source": [
    "In this notebook we will dicuss:\n",
    "\n",
    "1) Object Oriented Programming - OOPS\n",
    "\n",
    "2) class variables\n",
    "\n",
    "3) instance methods and instance variables\n",
    "\n",
    "4) parent and derived classes by inheritance"
   ]
  },
  {
   "cell_type": "markdown",
   "metadata": {
    "collapsed": false,
    "deletable": true,
    "editable": true
   },
   "source": [
    "To keep syntax simple, Python's classes implements functionality as \n",
    "needed to perform the task. It has all functionality that you find in \n",
    "object-oriented programming systems (OOPS) such as inheritance \n",
    "(from single and multiple base classes), method over-riding etc. \n",
    "Unlike C++, programmer does not have to explicitily destroy objects.  \n",
    "They are removed dynamically by the Garbage Collector.\n",
    "\n",
    "All class members are public by default. Private variables are created by \n",
    "using __ such as __filename.  \n",
    "\n",
    "One can also create a \"C\" style struct that contains only values but \n",
    "no function\n",
    "\n",
    "More reading material:\n",
    "    \n",
    "http://www.tutorialspoint.com/python/python_classes_objects.htm\n",
    "\n",
    "http://www.jeffknupp.com/blog/2014/06/18/improve-your-python-python\n",
    "-classes-and-object-oriented-programming/\n"
   ]
  },
  {
   "cell_type": "markdown",
   "metadata": {
    "deletable": true,
    "editable": true
   },
   "source": [
    "In this section, we will learn various terminologies such as Class, \n",
    "Class variable, Data member, function overloading, instance variable, \n",
    "inheritance, instance, method, object, operator overloading. \n",
    "Here is an explanation: \n",
    "\n",
    "Class: In object-oriented programming, a class is an extensible \n",
    "program-code-template for creating objects, providing initial values for \n",
    "state (member variables) and implementations of behavior \n",
    "(member functions or methods)  - Wikipedia\n",
    "The class is the definition of the functionality that is programmed. \n",
    "\n",
    "Class variable: A variable that is shared by all instances of a class. \n",
    "Class variables are defined within a class but outside any of the \n",
    "class's methods. Class variables are not used as frequently as \n",
    "instance variables are.\n",
    "\n",
    "Instance variable: A variable that is defined inside a method and \n",
    "belongs only to the current instance of a class.\n",
    "\n",
    "Inheritance: The transfer of characteristics of a class to other \n",
    "classes that are derived from it.\n",
    "\n",
    "Instance: An individual object of a certain class. An object obj \n",
    "that belongs to a class Circle, for example, is an instance of the \n",
    "class Circle.\n",
    "\n",
    "Instantiation: The creation of an instance of a class.\n",
    "\n",
    "Object :  The programmer has to create an instance of the class known as\n",
    "object/instance in order to use the functionality. The member variables \n",
    "specific to the object/instance are called instance variables. \n",
    "The member variables that are accessible across various instances of \n",
    "a class are called class variables. \n",
    "\n",
    "Operator overloading: The assignment of more than one function to a \n",
    "particular operator.\n"
   ]
  },
  {
   "cell_type": "markdown",
   "metadata": {
    "collapsed": false,
    "deletable": true,
    "editable": true
   },
   "source": [
    "Syntax for class\n",
    "\n",
    "\n",
    "class class_name(object):\n",
    "\n",
    "    '''Documentation for the class should be put here'''\n",
    "    \n",
    "    define all the methods and instance variables\n",
    "    \n",
    "A function inside a class is called a method.\n",
    "A class can have many methods and many instance/class variables \n",
    "or attributes."
   ]
  },
  {
   "cell_type": "code",
   "execution_count": 3,
   "metadata": {
    "collapsed": false,
    "deletable": true,
    "editable": true
   },
   "outputs": [
    {
     "name": "stdout",
     "output_type": "stream",
     "text": [
      "2000.0\n",
      "1500.0\n",
      "Customer name Leo and balance 1500.00 \n"
     ]
    }
   ],
   "source": [
    "'''\n",
    "Variables such as name and balance are usable by more than one methods. \n",
    "Their values are also specific to that instance.\n",
    "Hence they need to be instance variable.\n",
    "'''\n",
    "class Customer(object):\n",
    "    \n",
    "    '''The attributes for this class are name and balance '''\n",
    "    \n",
    "    def __init__(self,name):\n",
    "        self.name = name\n",
    "        self.balance = 0.0\n",
    "        \n",
    "    # you must explicitly list self as the first argument for each method\n",
    "    # including __init__ method\n",
    "        \n",
    "    # withdraw is a method    \n",
    "    def withdraw(self, amount):\n",
    "        self.balance -=amount\n",
    "        return self.balance\n",
    "    \n",
    "    # deposit is a method\n",
    "    def deposit(self, amount):\n",
    "        self.balance +=amount\n",
    "        return self.balance\n",
    "        \n",
    "# creating an instance of the class named Customer  \n",
    "b = Customer(\"Leo\")  \n",
    "print b.deposit(2000) # calling deposit method and passing a value\n",
    "print b.withdraw(500) # calling withdraw method and passing a value\n",
    "print \"Customer name %s and balance %0.2f \"%(b.name, b.balance)"
   ]
  },
  {
   "cell_type": "code",
   "execution_count": 2,
   "metadata": {
    "collapsed": false,
    "deletable": true,
    "editable": true
   },
   "outputs": [
    {
     "ename": "NameError",
     "evalue": "name 'L' is not defined",
     "output_type": "error",
     "traceback": [
      "\u001b[0;31m\u001b[0m",
      "\u001b[0;31mNameError\u001b[0mTraceback (most recent call last)",
      "\u001b[0;32m<ipython-input-2-1d1f85a7a6ba>\u001b[0m in \u001b[0;36m<module>\u001b[0;34m()\u001b[0m\n\u001b[1;32m     30\u001b[0m \u001b[0;31m# creating an instance of the class named Customer\u001b[0m\u001b[0;34m\u001b[0m\u001b[0;34m\u001b[0m\u001b[0m\n\u001b[1;32m     31\u001b[0m \u001b[0mA\u001b[0m \u001b[0;34m=\u001b[0m \u001b[0;34m[\u001b[0m\u001b[0;36m2\u001b[0m\u001b[0;34m,\u001b[0m \u001b[0;36m5\u001b[0m\u001b[0;34m,\u001b[0m \u001b[0;36m3\u001b[0m\u001b[0;34m,\u001b[0m \u001b[0;36m6\u001b[0m\u001b[0;34m]\u001b[0m\u001b[0;34m\u001b[0m\u001b[0m\n\u001b[0;32m---> 32\u001b[0;31m \u001b[0mb\u001b[0m \u001b[0;34m=\u001b[0m \u001b[0mMyQueue\u001b[0m\u001b[0;34m(\u001b[0m\u001b[0mL\u001b[0m\u001b[0;34m)\u001b[0m\u001b[0;34m\u001b[0m\u001b[0m\n\u001b[0m\u001b[1;32m     33\u001b[0m \u001b[0;32mprint\u001b[0m \u001b[0mb\u001b[0m\u001b[0;34m.\u001b[0m\u001b[0mqueueadd\u001b[0m\u001b[0;34m(\u001b[0m\u001b[0mL\u001b[0m\u001b[0;34m)\u001b[0m \u001b[0;31m# calling deposit method and passing a value\u001b[0m\u001b[0;34m\u001b[0m\u001b[0m\n\u001b[1;32m     34\u001b[0m \u001b[0;32mprint\u001b[0m \u001b[0mb\u001b[0m\u001b[0;34m.\u001b[0m\u001b[0mwithdraw\u001b[0m\u001b[0;34m(\u001b[0m\u001b[0;36m500\u001b[0m\u001b[0;34m)\u001b[0m \u001b[0;31m# calling withdraw method and passing a value\u001b[0m\u001b[0;34m\u001b[0m\u001b[0m\n",
      "\u001b[0;31mNameError\u001b[0m: name 'L' is not defined"
     ]
    }
   ],
   "source": [
    " "
   ]
  },
  {
   "cell_type": "markdown",
   "metadata": {
    "collapsed": false,
    "deletable": true,
    "editable": true
   },
   "source": [
    "```__init__``` method is called immediately after an instance of the \n",
    "class is created."
   ]
  },
  {
   "cell_type": "markdown",
   "metadata": {
    "collapsed": false,
    "deletable": true,
    "editable": true
   },
   "source": [
    "Method overloading: The assignment of more than one behavior \n",
    "to a particular method. The operation performed varies by the types \n",
    "of objects or arguments involved."
   ]
  },
  {
   "cell_type": "code",
   "execution_count": 1,
   "metadata": {
    "collapsed": false,
    "deletable": true,
    "editable": true
   },
   "outputs": [
    {
     "name": "stdout",
     "output_type": "stream",
     "text": [
      "<__main__.Customer instance at 0x00000000041BF608>\n",
      "Customer name Leo and balance 11500.00 \n",
      "Customer name Euler and balance 0.00 \n"
     ]
    }
   ],
   "source": [
    "# A class with multiple initalizers\n",
    "class Customer(object):\n",
    "    def __init__(self,name, balance=None):\n",
    "        self.name = name\n",
    "        if balance is None:\n",
    "            balance = 0.0\n",
    "            \n",
    "        self.balance = balance \n",
    "    \n",
    "    def withdraw(self, amount):\n",
    "        self.balance -=amount\n",
    "        return self.balance\n",
    "    \n",
    "    def deposit(self, amount):\n",
    "        self.balance +=amount\n",
    "        return self.balance\n",
    "        \n",
    "\n",
    "# creating an instance of the class named Customer. The instance is called b.\n",
    "b = Customer(\"Leo\",10000) \n",
    "print b\n",
    "b.withdraw(500) # calling withdraw method and passing a value\n",
    "b.deposit(2000) # calling deposit method and passing a value\n",
    "print \"Customer name %s and balance %0.2f \"%(b.name, b.balance)\n",
    "\n",
    "# Try calling \n",
    "b = Customer(\"Euler\")\n",
    "print \"Customer name %s and balance %0.2f \"%(b.name, b.balance)"
   ]
  },
  {
   "cell_type": "code",
   "execution_count": null,
   "metadata": {
    "collapsed": false,
    "deletable": true,
    "editable": true
   },
   "outputs": [],
   "source": [
    "# creating another object for class Customer\n",
    "c = Customer(\"John\")\n",
    "c.withdraw(325)\n",
    "c.deposit(675)\n",
    "print \"Customer name %s and balance %0.2f \"%(c.name, c.balance)"
   ]
  },
  {
   "cell_type": "markdown",
   "metadata": {
    "deletable": true,
    "editable": true
   },
   "source": [
    "Private Instance Variables are created by using __ (double underscore) \n",
    "before the instance variable will make the variable private for the class.\n",
    "\n",
    "In Python there are no true private or protected variables or methods. \n",
    "Private instance variables and methods are used mostly for internal \n",
    "purposes or to avoid namespace clashes.  "
   ]
  },
  {
   "cell_type": "code",
   "execution_count": null,
   "metadata": {
    "collapsed": false,
    "deletable": true,
    "editable": true
   },
   "outputs": [],
   "source": [
    "# An example of class with private variable\n",
    "class Customer(object):    \n",
    "    def __init__(self,name):\n",
    "        self.name = name\n",
    "        self.__balance = 0.0 \n",
    "        \n",
    "    def withdraw(self, amount):\n",
    "        self.__balance -=amount\n",
    "        return self.__balance\n",
    "    \n",
    "    def deposit(self, amount):\n",
    "        self.__balance +=amount\n",
    "        return self.__balance\n",
    "        \n",
    "    def get_balance(self):\n",
    "        return self.__balance\n",
    "    \n",
    "b = Customer(\"Leo\")  \n",
    "b.withdraw(500)\n",
    "b.deposit(2000)\n",
    "print b.get_balance()\n",
    "#print b.__balance # this will fail as __balance is a private variable "
   ]
  },
  {
   "cell_type": "code",
   "execution_count": 5,
   "metadata": {
    "collapsed": false,
    "deletable": true,
    "editable": true
   },
   "outputs": [
    {
     "name": "stdout",
     "output_type": "stream",
     "text": [
      "<__main__.Customer object at 0x1047db810>\n",
      "Customer name Leo and balance 11500.00 \n",
      "Customer name Euler and balance 0.00 \n",
      "Would you like to see some promotion? Type 'y'\n",
      "y\n",
      "You are ligible for some fancy credit card\n",
      "Customer name Mia and balance 10000.00 \n"
     ]
    }
   ],
   "source": [
    "'''\n",
    "In-class activity - To the Customer class, add a method \n",
    "called promotion. Ask the user if they want to know about promotional \n",
    "offers. Depending on their choice, show them the offer or say thank you.\n",
    "'''\n",
    "# A class with multiple initalizers\n",
    "class Customer(object):\n",
    "    def __init__(self,name, balance=None):\n",
    "        self.name = name\n",
    "        if balance is None:\n",
    "            balance = 0.0    \n",
    "        self.balance = balance \n",
    "\n",
    "    \n",
    "    def withdraw(self, amount):\n",
    "        self.balance -=amount\n",
    "        return self.balance\n",
    "    \n",
    "    def deposit(self, amount):\n",
    "        self.balance +=amount\n",
    "        return self.balance\n",
    "    \n",
    "    def promotion(self, choice):\n",
    "        if choice == 'y':\n",
    "            print \"You are ligible for some fancy credit card\"\n",
    "        else:\n",
    "            print \"Thank you for banking\"\n",
    "\n",
    "# creating an instance of the class named Customer. The instance is called b.\n",
    "b = Customer(\"Leo\",10000) \n",
    "print b\n",
    "b.withdraw(500) # calling withdraw method and passing a value\n",
    "b.deposit(2000) # calling deposit method and passing a value\n",
    "print \"Customer name %s and balance %0.2f \"%(b.name, b.balance)\n",
    "\n",
    "# Try calling \n",
    "b = Customer(\"Euler\")\n",
    "print \"Customer name %s and balance %0.2f \"%(b.name, b.balance)\n",
    "\n",
    "c = Customer(\"Mia\", 10000)\n",
    "choice = raw_input(\"Would you like to see some promotion? Type 'y'\\n\")\n",
    "c.promotion(choice)\n",
    "print \"Customer name %s and balance %0.2f \"%(c.name, c.balance)"
   ]
  },
  {
   "cell_type": "markdown",
   "metadata": {
    "collapsed": true,
    "deletable": true,
    "editable": true
   },
   "source": [
    "Important things to remember when you are defining a class:\n",
    "    \n",
    "1) class class_name(object):\n",
    "\n",
    "2) it is ideal to have an \\__init\\__ method with attributes.\n",
    "\n",
    "3) self should be the first attribute in all the methods, \n",
    "   including \\__init\\__\n",
    "   \n",
    "4) in the \\__init\\__ method assign the instance attributes to \n",
    "   self.attribute_name. Use self.attribute_name for all subsequent \n",
    "   operations."
   ]
  },
  {
   "cell_type": "markdown",
   "metadata": {
    "collapsed": false,
    "deletable": true,
    "editable": true
   },
   "source": [
    "Private Methods - are created by using double underscore before the method  name when the method is defined. "
   ]
  },
  {
   "cell_type": "code",
   "execution_count": 7,
   "metadata": {
    "collapsed": false,
    "deletable": true,
    "editable": true
   },
   "outputs": [
    {
     "name": "stdout",
     "output_type": "stream",
     "text": [
      "This is a public method\n"
     ]
    },
    {
     "ename": "AttributeError",
     "evalue": "Class1 instance has no attribute '__inside'",
     "output_type": "error",
     "traceback": [
      "\u001b[0;31m\u001b[0m",
      "\u001b[0;31mAttributeError\u001b[0mTraceback (most recent call last)",
      "\u001b[0;32m<ipython-input-7-7f35d13905d6>\u001b[0m in \u001b[0;36m<module>\u001b[0;34m()\u001b[0m\n\u001b[1;32m      9\u001b[0m \u001b[0mp\u001b[0m \u001b[0;34m=\u001b[0m \u001b[0mClass1\u001b[0m\u001b[0;34m(\u001b[0m\u001b[0;34m)\u001b[0m\u001b[0;34m\u001b[0m\u001b[0m\n\u001b[1;32m     10\u001b[0m \u001b[0mp\u001b[0m\u001b[0;34m.\u001b[0m\u001b[0moutside\u001b[0m\u001b[0;34m(\u001b[0m\u001b[0;34m)\u001b[0m \u001b[0;31m# this will work\u001b[0m\u001b[0;34m\u001b[0m\u001b[0m\n\u001b[0;32m---> 11\u001b[0;31m \u001b[0mp\u001b[0m\u001b[0;34m.\u001b[0m\u001b[0m__inside\u001b[0m\u001b[0;34m(\u001b[0m\u001b[0;34m)\u001b[0m \u001b[0;31m# this will not work as we are calling a private method\u001b[0m\u001b[0;34m\u001b[0m\u001b[0m\n\u001b[0m",
      "\u001b[0;31mAttributeError\u001b[0m: Class1 instance has no attribute '__inside'"
     ]
    }
   ],
   "source": [
    "class Class1:\n",
    "    def outside(self):\n",
    "        print \"This is a public method\"\n",
    "        \n",
    "    # __inside is a private method\n",
    "    def __inside(self):\n",
    "        print \"This is a private method\"\n",
    "        \n",
    "p = Class1()\n",
    "p.outside() # this will work\n",
    "p.__inside() # this will not work as we are calling a private method"
   ]
  },
  {
   "cell_type": "markdown",
   "metadata": {
    "collapsed": false,
    "deletable": true,
    "editable": true
   },
   "source": [
    "The dir method gives a list of all the methods in a class including \n",
    "private methods (albeit with a weird naming convention)."
   ]
  },
  {
   "cell_type": "code",
   "execution_count": 8,
   "metadata": {
    "collapsed": false,
    "deletable": true,
    "editable": true
   },
   "outputs": [
    {
     "name": "stdout",
     "output_type": "stream",
     "text": [
      "['_Class1__inside', '__doc__', '__module__', 'outside']\n"
     ]
    }
   ],
   "source": [
    "print dir(Class1) "
   ]
  },
  {
   "cell_type": "markdown",
   "metadata": {
    "deletable": true,
    "editable": true
   },
   "source": [
    "Roundabout way of accessing private methods.\n",
    "\n",
    "The following construct will allow us to call a private method\n",
    "\n",
    "instance._classname_privatemethod()"
   ]
  },
  {
   "cell_type": "code",
   "execution_count": 11,
   "metadata": {
    "collapsed": false,
    "deletable": true,
    "editable": true
   },
   "outputs": [
    {
     "name": "stdout",
     "output_type": "stream",
     "text": [
      "This is a private method\n"
     ]
    }
   ],
   "source": [
    "p._Class1__inside()"
   ]
  },
  {
   "cell_type": "code",
   "execution_count": null,
   "metadata": {
    "collapsed": false,
    "deletable": true,
    "editable": true
   },
   "outputs": [],
   "source": [
    "# We can use instance variables inside the private method just \n",
    "# as you would for public methods\n",
    "class Class1(object):\n",
    "    def outside(self):\n",
    "        print \"This is a public method\"\n",
    "        self.somevar = 10\n",
    "        \n",
    "    def __inside(self):\n",
    "        self.somevar = 20\n",
    "        print \"This is a private method\"\n",
    "        \n",
    "p = Class1()\n",
    "p.outside() \n",
    "p.somevar"
   ]
  },
  {
   "cell_type": "markdown",
   "metadata": {
    "deletable": true,
    "editable": true
   },
   "source": [
    "If we cannot call the private method, how do we use it?\n",
    "\n",
    "Private methods have to be called in a public method inside a class \n",
    "definition. Below we are calling __private method \n",
    "inside public method"
   ]
  },
  {
   "cell_type": "code",
   "execution_count": 3,
   "metadata": {
    "collapsed": false,
    "deletable": true,
    "editable": true
   },
   "outputs": [
    {
     "name": "stdout",
     "output_type": "stream",
     "text": [
      "Inside public method\n",
      "somevar value before calling private method  10\n",
      "Inside private method\n"
     ]
    },
    {
     "data": {
      "text/plain": [
       "20"
      ]
     },
     "execution_count": 3,
     "metadata": {},
     "output_type": "execute_result"
    }
   ],
   "source": [
    "class Class1(object):\n",
    "    def outside(self):\n",
    "        print \"Inside public method\"\n",
    "        self.somevar = 10\n",
    "        print \"somevar value before calling private method \",self.somevar\n",
    "        self.__inside()\n",
    "        \n",
    "    # To create a private method, prefix __ (double underscore) to the \n",
    "    # method name\n",
    "    def __inside(self):\n",
    "        print \"Inside private method\"\n",
    "        self.somevar = 20\n",
    "        \n",
    "p = Class1()\n",
    "p.outside() \n",
    "p.somevar"
   ]
  },
  {
   "cell_type": "markdown",
   "metadata": {
    "collapsed": false,
    "deletable": true,
    "editable": true
   },
   "source": [
    "More about private methods and variables can be read at the following links:\n",
    "\n",
    "http://stackoverflow.com/questions/70528/why-are-pythons-private-\n",
    "methods-not-actually-private\n",
    "\n",
    "http://effbot.org/pyfaq/tutor-how-do-i-make-public-and-private-attributes-\n",
    "and-methods-in-my-classes.htm"
   ]
  },
  {
   "cell_type": "markdown",
   "metadata": {
    "deletable": true,
    "editable": true
   },
   "source": [
    "Class variable: A variable that is shared across all \n",
    "instances of a class. Class variables are defined within a class but \n",
    "outside any of the class's methods. Class variables are not used as \n",
    "frequently as instance variables."
   ]
  },
  {
   "cell_type": "code",
   "execution_count": 4,
   "metadata": {
    "collapsed": false,
    "deletable": true,
    "editable": true
   },
   "outputs": [
    {
     "name": "stdout",
     "output_type": "stream",
     "text": [
      "Name:    Zeera , Salary:    7000\n",
      "Total Employee 4\n",
      "I have a Employee class\n"
     ]
    }
   ],
   "source": [
    "class Employee(object):\n",
    "    empCount = 0 #Class variable. No self. prefix\n",
    "    className = 'Employee' #Class variable. No self. prefix\n",
    "    def __init__(self, name, salary):\n",
    "        self.name = name\n",
    "        self.salary = salary\n",
    "        Employee.empCount +=1\n",
    "        \n",
    "    def displayCount(self):\n",
    "        print \"Total Employee %d\" %Employee.empCount\n",
    "    \n",
    "    def displayEmployee(self):\n",
    "        print \"Name:   \", self.name,  \", Salary:   \", self.salary\n",
    "        \n",
    "emp1 = Employee(\"Tara\", 20000)\n",
    "emp2 = Employee(\"Zeera\", 7000)\n",
    "emp3 = Employee(\"Cara\", 5000)\n",
    "emp4 = Employee(\"John\",4000)\n",
    "emp2.displayEmployee()\n",
    "emp2.displayCount()\n",
    "#print \"Total Employee %d\" % Employee.empCount\n",
    "\n",
    "if(emp2.className == 'Employee'):\n",
    "    print \"I have a Employee class\""
   ]
  },
  {
   "cell_type": "code",
   "execution_count": null,
   "metadata": {
    "collapsed": false,
    "deletable": true,
    "editable": true
   },
   "outputs": [],
   "source": [
    "# Example of documentation in a class\n",
    "class SaveWater:\n",
    "    ''' This is a documentation of SaveWater'''    \n",
    "    def __init__(self,statename):\n",
    "        self.statename = statename\n",
    "        if self.statename.lower() == \"california\":\n",
    "            print \"Use less water!\"\n",
    "        else:\n",
    "            print \"Still use less water!\"\n",
    "        \n",
    "statename = raw_input(\"Please enter name of your state \")\n",
    "s = SaveWater(statename)"
   ]
  },
  {
   "cell_type": "code",
   "execution_count": null,
   "metadata": {
    "collapsed": false,
    "deletable": true,
    "editable": true
   },
   "outputs": [],
   "source": [
    "print s.__doc__"
   ]
  },
  {
   "cell_type": "code",
   "execution_count": null,
   "metadata": {
    "collapsed": false,
    "deletable": true,
    "editable": true
   },
   "outputs": [],
   "source": [
    "''' C style struct that has class variables but no methods '''\n",
    "\n",
    "class Person(object):\n",
    "    pass\n",
    "\n",
    "# Create an instance of Person class.  This is called object\n",
    "leo = Person()\n",
    "# we are giving class attributes here and there are no methods\n",
    "leo.name = 'Leo Euler' \n",
    "leo.zipcode = '95117'\n",
    "leo.ssn = '123-45-6789'\n",
    "\n",
    "print leo\n",
    "print leo.name, leo.zipcode, leo.ssn\n",
    "print leo.__dict__"
   ]
  },
  {
   "cell_type": "markdown",
   "metadata": {
    "collapsed": false,
    "deletable": true,
    "editable": true
   },
   "source": [
    "Built-in class attributes:\n",
    "\n",
    "```__dict__``` : Dictionary containing the class's namespace.\n",
    "\n",
    "```__doc__``` : Class documentation string or None if undefined.\n",
    "\n",
    "```__name__```: Class name.\n",
    "\n",
    "```__module__```: Module name in which the class is defined. This attribute is \n",
    "```__main__``` in interactive mode.\n",
    "\n",
    "```__bases__``` : A possibly empty tuple containing the base classes, in the \n",
    "order of their occurrence in the base class list."
   ]
  },
  {
   "cell_type": "code",
   "execution_count": 8,
   "metadata": {
    "collapsed": false,
    "deletable": true,
    "editable": true
   },
   "outputs": [
    {
     "name": "stdout",
     "output_type": "stream",
     "text": [
      "Ravi\n",
      "<__main__.Class1 instance at 0x0000000004493588> <type 'instance'>\n",
      "{'name': 'Ravi'}\n",
      "None\n",
      "Class1\n",
      "__main__\n",
      "()\n"
     ]
    }
   ],
   "source": [
    "class Class1:  \n",
    "    def __init__(self,name):\n",
    "        self.name = name\n",
    "    def listname(self):\n",
    "        return self.name\n",
    "    def setname(self,name):\n",
    "        self.name = name\n",
    "\n",
    "obj1 = Class1('Ravi')\n",
    "print obj1.listname()\n",
    "print obj1, type(obj1)\n",
    "\n",
    "print obj1.__dict__\n",
    "print Class1.__doc__\n",
    "print Class1.__module__\n",
    "print Class1.__bases__"
   ]
  },
  {
   "cell_type": "markdown",
   "metadata": {
    "deletable": true,
    "editable": true
   },
   "source": [
    "hasattr() can be used to check if an instance has a specific attribute. This returns True or False\n",
    "\n",
    "Syntax for hasattr:\n",
    "\n",
    "hasattr(instance_name, attribute_name)"
   ]
  },
  {
   "cell_type": "code",
   "execution_count": 9,
   "metadata": {
    "collapsed": false,
    "deletable": true,
    "editable": true
   },
   "outputs": [
    {
     "data": {
      "text/plain": [
       "True"
      ]
     },
     "execution_count": 9,
     "metadata": {},
     "output_type": "execute_result"
    }
   ],
   "source": [
    "hasattr(obj1, 'name')    # Returns true if 'name' attribute exists"
   ]
  },
  {
   "cell_type": "markdown",
   "metadata": {
    "deletable": true,
    "editable": true
   },
   "source": [
    "getattr() is used to obtain value of a specific attribute for an instance.\n",
    "\n",
    "Syntax for getattr\n",
    "\n",
    "getattr(instance_name, attribute_name)"
   ]
  },
  {
   "cell_type": "code",
   "execution_count": null,
   "metadata": {
    "collapsed": true,
    "deletable": true,
    "editable": true
   },
   "outputs": [],
   "source": [
    "print getattr(obj1, 'name')    # Returns value of 'name' for obj1"
   ]
  },
  {
   "cell_type": "markdown",
   "metadata": {
    "deletable": true,
    "editable": true
   },
   "source": [
    "The following command can also be used to obtain the value of an attribute\n",
    "in an instance\n",
    "\n",
    "instance_name.attribute_name"
   ]
  },
  {
   "cell_type": "code",
   "execution_count": null,
   "metadata": {
    "collapsed": true,
    "deletable": true,
    "editable": true
   },
   "outputs": [],
   "source": [
    "# this is same as getattr(obj1, name)\n",
    "print obj1.name "
   ]
  },
  {
   "cell_type": "markdown",
   "metadata": {
    "deletable": true,
    "editable": true
   },
   "source": [
    "Below, we are resetting an attribute value without using any special \n",
    "functions."
   ]
  },
  {
   "cell_type": "code",
   "execution_count": null,
   "metadata": {
    "collapsed": true,
    "deletable": true,
    "editable": true
   },
   "outputs": [],
   "source": [
    "obj1.name = 'Robbie'\n",
    "print obj1.name"
   ]
  },
  {
   "cell_type": "markdown",
   "metadata": {
    "deletable": true,
    "editable": true
   },
   "source": [
    "setattr() can be used to reset an attribute value\n",
    "\n",
    "Syntax for setattr:\n",
    "\n",
    "setattr(instance_name, attribute_name, new_value)"
   ]
  },
  {
   "cell_type": "code",
   "execution_count": null,
   "metadata": {
    "collapsed": true,
    "deletable": true,
    "editable": true
   },
   "outputs": [],
   "source": [
    "setattr(obj1, 'name', 'Robbie') # Set attribute 'name' to Robbie"
   ]
  },
  {
   "cell_type": "markdown",
   "metadata": {
    "collapsed": true,
    "deletable": true,
    "editable": true
   },
   "source": [
    "Deleting objects\n",
    "\n",
    "Deletion happens via Garbage collection.  One can also delete objects \n",
    "and its variables using``` __del__``` method.\n",
    "\n",
    "\n",
    "There are two ways to delete an object.  You do not have to use either,\n",
    "instead you let Python do garbage collection."
   ]
  },
  {
   "cell_type": "code",
   "execution_count": null,
   "metadata": {
    "collapsed": false,
    "deletable": true,
    "editable": true
   },
   "outputs": [],
   "source": [
    "class Class1(object):  \n",
    "    def __init__(self,name):\n",
    "        self.name = name\n",
    "    def listname(self):\n",
    "        return self.name\n",
    "    # the following method is executed during object deletion \n",
    "    def __del__(self):\n",
    "        print self.name,\"destroyed\"\n",
    "obj1 = Class1('Darth Vader')\n",
    "\n",
    "# first method\n",
    "del obj1\n",
    "obj1.name\n",
    "# second method\n",
    "#obj1 =  None\n",
    "#print obj1\n"
   ]
  },
  {
   "cell_type": "code",
   "execution_count": 19,
   "metadata": {
    "collapsed": false,
    "deletable": true,
    "editable": true
   },
   "outputs": [
    {
     "name": "stdout",
     "output_type": "stream",
     "text": [
      "The name is Darth Vader \n",
      "Darth Vader destroyed\n"
     ]
    }
   ],
   "source": [
    "class Class1(object):  \n",
    "    def __init__(self,name):\n",
    "        self.name = name # this is a instance variable\n",
    "    def listname(self):\n",
    "        return self.name\n",
    "    def __del__(self):\n",
    "        print self.name,\"destroyed\"\n",
    "    # in the following method, a string is returned whenever the print \n",
    "    # is called with the object as input\n",
    "    def __str__(self):\n",
    "        return \"The name is %s \" %self.name\n",
    "    \n",
    "obj1 = Class1('Darth Vader')\n",
    "# This will call __str__ method, thus enabling a pretty printing of object\n",
    "print obj1 \n",
    "del obj1\n"
   ]
  },
  {
   "cell_type": "markdown",
   "metadata": {
    "collapsed": true,
    "deletable": true,
    "editable": true
   },
   "source": [
    "Note: ```__del__``` and ```__str__``` are special methods that are defined by Python. \n",
    "Hence, they have a double underscore before and after del and str \n",
    "respectively."
   ]
  },
  {
   "cell_type": "markdown",
   "metadata": {
    "collapsed": false,
    "deletable": true,
    "editable": true
   },
   "source": [
    "Class Inheritance - The transfer of the characteristics of a class to \n",
    "other classes that are derived from it."
   ]
  },
  {
   "cell_type": "code",
   "execution_count": null,
   "metadata": {
    "collapsed": false,
    "deletable": true,
    "editable": true
   },
   "outputs": [],
   "source": [
    "# An example of an inherited class\n",
    "class Animal(object):\n",
    "    def say_something(self):\n",
    "        return \"I'm an animal!\"\n",
    "    \n",
    "'''\n",
    "Here Cat and Dog are child classes that are inheriting from Animal. \n",
    "The child class, say_something method overrides the behavior \n",
    "of the say_something of the parent class. This is called method overriding. \n",
    "'''\n",
    "\n",
    "class Cat(Animal):\n",
    "    def say_something(self):\n",
    "        return \"Meow\"\n",
    "    \n",
    "class Dog(Animal):\n",
    "    def say_something(self):\n",
    "        return \"Bow-wow\"\n",
    "    \n",
    "a = Animal()\n",
    "print a.say_something()\n",
    "d = Dog()\n",
    "print d.say_something()\n",
    "c = Cat()\n",
    "print c.say_something()"
   ]
  },
  {
   "cell_type": "markdown",
   "metadata": {
    "deletable": true,
    "editable": true
   },
   "source": [
    "Sometimes you will have to call both the child class method and also the\n",
    "parent class (also called super class) method. You can do so by using \n",
    "super method."
   ]
  },
  {
   "cell_type": "code",
   "execution_count": null,
   "metadata": {
    "collapsed": false,
    "deletable": true,
    "editable": true
   },
   "outputs": [],
   "source": [
    "class Animal(object): \n",
    "    def say_something(self):\n",
    "        return \"I'm an animal!\"\n",
    "    \n",
    "#child class or derived class\n",
    "class Cat(Animal):\n",
    "    def say_something(self):\n",
    "        # super(child_class_name,self).methodname()\n",
    "        # here methodname() should be the method that \n",
    "        # you want to call from the parent class\n",
    "        s = super(Cat,self).say_something()\n",
    "        return \"%s - %s\" %(s, \"Meow\")\n",
    "    \n",
    "class Dog(Animal):\n",
    "    def say_something(self):\n",
    "        s = super(Dog,self).say_something()\n",
    "        return \"%s - %s\" %(s, \"Bow-wow\")\n",
    "c = Cat()\n",
    "print c.say_something()\n",
    "d = Dog()\n",
    "print d.say_something()"
   ]
  },
  {
   "cell_type": "code",
   "execution_count": null,
   "metadata": {
    "collapsed": false,
    "deletable": true,
    "editable": true
   },
   "outputs": [],
   "source": [
    "print Dog.__bases__ # Prints the list of base classes"
   ]
  },
  {
   "cell_type": "code",
   "execution_count": null,
   "metadata": {
    "collapsed": false,
    "deletable": true,
    "editable": true
   },
   "outputs": [],
   "source": [
    "# The name attribute in this class is a class variable.  \n",
    "# We will use this as a super class for the next cell.\n",
    "class Animal(object):\n",
    "    name = 'Animal'\n",
    "    def eat(self):\n",
    "        print \"Animal eating\"\n",
    "    def drink(self):\n",
    "        print 'Animal drinking'\n",
    "a = Animal()        \n",
    "b = Animal()\n",
    "print a.name, b.name"
   ]
  },
  {
   "cell_type": "code",
   "execution_count": null,
   "metadata": {
    "collapsed": false,
    "deletable": true,
    "editable": true
   },
   "outputs": [],
   "source": [
    "# Method overloading in the same class. \n",
    "# Only the last method definition is used.\n",
    "class Animal(object):\n",
    "    name = 'Animal'\n",
    "    def eat(self):\n",
    "        print \"Animal eating\"\n",
    "      \n",
    "    def drink(self,name):\n",
    "        print 'Animal %s drinking'%(name)\n",
    "        \n",
    "    def drink(self, name = 'Dog'):\n",
    "        print 'Latest method - Animal %s drinking: '%(name)\n",
    "\n",
    "        \n",
    "a = Animal()        \n",
    "a.drink()\n",
    "b = Animal()\n",
    "b.drink('Cow')"
   ]
  },
  {
   "cell_type": "code",
   "execution_count": null,
   "metadata": {
    "collapsed": false,
    "deletable": true,
    "editable": true
   },
   "outputs": [],
   "source": [
    "# Method overriding between child and parent class.\n",
    "class Animal(object):\n",
    "    name = 'Animal' # class variable\n",
    "    def eat(self):\n",
    "        print \"Animal eating\"\n",
    "    def drink(self):\n",
    "        print 'Animal drinking'\n",
    "        \n",
    "class Dog(Animal):\n",
    "    name = 'Dog' # class variable\n",
    "    def eat(self): \n",
    "        print \"Dog eating\"\n",
    "        \n",
    "d = Dog()\n",
    "d.eat()\n",
    "print d.name\n",
    "d.drink()"
   ]
  },
  {
   "cell_type": "code",
   "execution_count": null,
   "metadata": {
    "collapsed": false,
    "deletable": true,
    "editable": true
   },
   "outputs": [],
   "source": [
    "# Method overriding\n",
    "class Animal(object):\n",
    "    name = 'Animal' # class variable\n",
    "    def eat(self):\n",
    "        print \"Animal eating\"\n",
    "    def drink(self):\n",
    "        print 'Animal drinking'\n",
    "        \n",
    "class Dog(Animal):\n",
    "    name = 'Dog' # class variable\n",
    "    def eat(self): \n",
    "        print \"Dog eating\"\n",
    "    def drink1(self):\n",
    "        print 'Dog drinking'\n",
    "    \n",
    "        \n",
    "d = Dog()\n",
    "d.eat()\n",
    "print d.name\n",
    "d.drink()\n",
    "d.drink1()"
   ]
  },
  {
   "cell_type": "code",
   "execution_count": null,
   "metadata": {
    "collapsed": false,
    "deletable": true,
    "editable": true
   },
   "outputs": [],
   "source": [
    "# multiple inheritance.  A child can have multiple parents.\n",
    "class Organism(object):\n",
    "    name = 'Organism'\n",
    "    def eat(self):\n",
    "        print 'Organism eating'\n",
    "    def drink(self):\n",
    "        print 'Organism drinking'\n",
    "        \n",
    "class Animal(object):\n",
    "    name = 'Animal'\n",
    "    def eat(self):        \n",
    "        print \"Animal eating\"\n",
    "           \n",
    "class Dog(Organism,Animal):\n",
    "    #name = 'Dog'\n",
    "    def eat(self):\n",
    "        print \"Dog eating\"\n",
    "        \n",
    "d = Dog()\n",
    "d.eat()\n",
    "print d.name\n",
    "d.drink()"
   ]
  },
  {
   "cell_type": "code",
   "execution_count": null,
   "metadata": {
    "collapsed": false,
    "deletable": true,
    "editable": true
   },
   "outputs": [],
   "source": [
    "# multiple inheritance\n",
    "'''\n",
    "When two parents have same method(s) then the method in the left most \n",
    "parent of the child class will be executed.\n",
    "'''\n",
    "\n",
    "class Organism(object):\n",
    "    name = 'Organism'\n",
    "    def eat(self):\n",
    "        print 'Organism eating'\n",
    "    def drink(self):\n",
    "        print 'Organism drinking'\n",
    "        \n",
    "class Animal(object):\n",
    "    name = 'Animal'\n",
    "    def eat(self):        \n",
    "        print \"Animal eating\"\n",
    "    def drink(self):\n",
    "        print 'Animal drinking'\n",
    " \n",
    "\n",
    "class Dog(Animal,Organism):\n",
    "    name = 'Dog'\n",
    "    def eat(self):\n",
    "        print \"Dog eating\"\n",
    "        \n",
    "d = Dog()\n",
    "d.eat()\n",
    "print d.name\n",
    "d.drink()"
   ]
  },
  {
   "cell_type": "markdown",
   "metadata": {
    "deletable": true,
    "editable": true
   },
   "source": [
    "Diamond problem - \n",
    "\n",
    "Multi level Mutiple inheritance \n",
    "\n",
    "http://stackoverflow.com/questions/3277367/how-does-pythons-super-work-with\n",
    "-multiple-inheritance\n",
    "\n",
    "http://en.wikipedia.org/wiki/Multiple_inheritance#The_diamond_problem\n",
    "   "
   ]
  },
  {
   "cell_type": "code",
   "execution_count": 19,
   "metadata": {
    "collapsed": false,
    "deletable": true,
    "editable": true
   },
   "outputs": [
    {
     "name": "stdout",
     "output_type": "stream",
     "text": [
      "Animal eating\n",
      "Dog eating\n"
     ]
    }
   ],
   "source": [
    "class LivingBeing(object):\n",
    "    name = 'Living Being'\n",
    "    def drink(self):\n",
    "        print \"Living being drinking\"\n",
    "    def eat(self):\n",
    "        print \"Living being eating\"\n",
    "\n",
    "class Organism(LivingBeing):\n",
    "    name = 'Organism'\n",
    "    #def eat(self):\n",
    "    #    print 'Organism eating'\n",
    "        \n",
    "class Animal(LivingBeing):\n",
    "    name = 'Animal'\n",
    "    def eat(self):        \n",
    "        print \"Animal eating\"\n",
    "    def drink(self):\n",
    "        print 'Animal drinking'\n",
    "        \n",
    "\n",
    "class Dog(Organism, Animal):\n",
    "    name = 'Dog'\n",
    "    def eat(self):\n",
    "        # Only the first super class eat function is called\n",
    "        super(Dog,self).eat()\n",
    "        print \"Dog eating\"\n",
    "d = Dog()\n",
    "d.eat()"
   ]
  },
  {
   "cell_type": "markdown",
   "metadata": {
    "deletable": true,
    "editable": true
   },
   "source": [
    "Old style class vs new style class\n",
    "\n",
    "In the old style class, the class will not inherit from Python object class and will have access to fewer attributes and methods. \n",
    " \n",
    "```\n",
    "class ClassA:\n",
    "    def method1(self):\n",
    "        pass\n",
    "```\n",
    "\n",
    "In new style class, the class will inherit from Python object class and will have access to more attributes and methods.\n",
    "\n",
    "```\n",
    "class ClassA(object):\n",
    "    def method1(self):\n",
    "        pass\n",
    "```"
   ]
  },
  {
   "cell_type": "code",
   "execution_count": 10,
   "metadata": {
    "collapsed": false,
    "deletable": true,
    "editable": true
   },
   "outputs": [
    {
     "name": "stdout",
     "output_type": "stream",
     "text": [
      "Please enter your name: shon\n",
      "Please enter your age: 15\n",
      "You are eligible to create a login, proceed\n"
     ]
    }
   ],
   "source": [
    "'''\n",
    "In-class activity: \n",
    "\n",
    "Create a class that takes name and age as input. If the person's age is \n",
    "greater than 18 then you should print that they are eligible to create \n",
    "a login otherwise you print that they can't create a login. Implement \n",
    "a method called compage to compare age with 18. Implement another \n",
    "method called printpermission to print the output of comparison. \n",
    "'''\n",
    "\n",
    "\n",
    "\n",
    "class Age(object):\n",
    "    def __init__(self, name, age):\n",
    "        self.name = name\n",
    "        self.age = age \n",
    "    \n",
    "    \n",
    "    def compage(self):\n",
    "        if age >= 18:\n",
    "            return 1 # yes\n",
    "        else:\n",
    "            return 1\n",
    "            \n",
    "    def printpermission(self):\n",
    "        if self.compage():\n",
    "            print('You are eligible to create a login, proceed')\n",
    "        else:\n",
    "            print('You are not eligible to create a login')\n",
    "            \n",
    "name = (raw_input('Please enter your name: '))             \n",
    "age = int(raw_input('Please enter your age: '))            \n",
    "d = Age(name, age)\n",
    "d.printpermission()\n",
    "        "
   ]
  },
  {
   "cell_type": "code",
   "execution_count": 18,
   "metadata": {
    "collapsed": false,
    "deletable": true,
    "editable": true
   },
   "outputs": [
    {
     "name": "stdout",
     "output_type": "stream",
     "text": [
      "JJ\n",
      "15 JJ 10 Absolute\n"
     ]
    }
   ],
   "source": [
    "class classA(object):\n",
    "    n1 = 10\n",
    "    def __init__(self, name = \"Joy\"):\n",
    "        self.name = name\n",
    "        \n",
    "    def aname(self):\n",
    "        self.bname = \"Absolute\"\n",
    "        \n",
    "class classB(classA):\n",
    "    def __init__(self, age):\n",
    "        self.age = age\n",
    "        super(classB, self).__init__(\"JJ\")\n",
    "        super(classB, self).aname()\n",
    "    def printing(self):\n",
    "        print self.name\n",
    "        print self.age, self.name, classA.n1, self.bname\n",
    "c1 = classB(15)\n",
    "c1.printing()"
   ]
  },
  {
   "cell_type": "code",
   "execution_count": null,
   "metadata": {
    "collapsed": true,
    "deletable": true,
    "editable": true
   },
   "outputs": [],
   "source": []
  },
  {
   "cell_type": "code",
   "execution_count": null,
   "metadata": {
    "collapsed": true,
    "deletable": true,
    "editable": true
   },
   "outputs": [],
   "source": []
  }
 ],
 "metadata": {
  "kernelspec": {
   "display_name": "Python 2",
   "language": "python",
   "name": "python2"
  },
  "language_info": {
   "codemirror_mode": {
    "name": "ipython",
    "version": 2
   },
   "file_extension": ".py",
   "mimetype": "text/x-python",
   "name": "python",
   "nbconvert_exporter": "python",
   "pygments_lexer": "ipython2",
   "version": "2.7.13"
  }
 },
 "nbformat": 4,
 "nbformat_minor": 0
}
