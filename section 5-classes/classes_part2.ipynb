{
 "cells": [
  {
   "cell_type": "markdown",
   "metadata": {
    "collapsed": false,
    "deletable": true,
    "editable": true
   },
   "source": [
    "In this notebook we will discuss the following:\n",
    "\n",
    "1) Operator overloading\n",
    "\n",
    "2) Abstract classes\n",
    "\n",
    "3) class method\n",
    "\n",
    "4) static method\n",
    "\n",
    "5) Proxy design pattern\n",
    "\n",
    "6) Factory design pattern"
   ]
  },
  {
   "cell_type": "markdown",
   "metadata": {
    "deletable": true,
    "editable": true
   },
   "source": [
    "Operator overloading: The assignment of more than one function to a \n",
    "particular operator.\n",
    "\n",
    "More reading material:\n",
    "    \n",
    "https://docs.python.org/2/library/operator.html\n",
    "    \n",
    "http://thepythonguru.com/python-operator-overloading/"
   ]
  },
  {
   "cell_type": "markdown",
   "metadata": {
    "deletable": true,
    "editable": true
   },
   "source": [
    "Question - Let us say we have two vectors (5, 8) and (5, -2) and we want to add them. The answer should be (10, 6). Can we use the addition operator '+' to do this?"
   ]
  },
  {
   "cell_type": "code",
   "execution_count": null,
   "metadata": {
    "collapsed": true,
    "deletable": true,
    "editable": true
   },
   "outputs": [],
   "source": [
    "'''\n",
    "When we try (5, 8) + (5, -2) we get a tuple (5, 8, 5, -2). which is not what \n",
    "we were expecting. \n",
    "'''\n",
    "a = (5, 8)\n",
    "b = (5, -2) \n",
    "c = a + b\n",
    "print c  # here + gives us a new tuple. Which is not our desired result."
   ]
  },
  {
   "cell_type": "markdown",
   "metadata": {
    "deletable": true,
    "editable": true
   },
   "source": [
    "Solution - To perform above vector addition, we need to give a new meaning to the addition operator. For this, we define an \\__add\\__ method in the class that will automatically get called when instances of the class have to be added using the add, (+) operator. "
   ]
  },
  {
   "cell_type": "code",
   "execution_count": null,
   "metadata": {
    "collapsed": false,
    "deletable": true,
    "editable": true
   },
   "outputs": [],
   "source": [
    "class Vector(object):\n",
    "    def __init__(self, a, b):\n",
    "        self.a = a\n",
    "        self.b = b\n",
    "\n",
    "    def __str__(self):\n",
    "        return 'Vector (%d, %d)' % (self.a, self.b)\n",
    "   \n",
    "    def __add__(self,other):\n",
    "        return Vector(self.a + other.a, self.b + other.b)\n",
    "    \n",
    "\n",
    "v1 = Vector(5,8)\n",
    "v2 = Vector(5,-2)\n",
    "# when Python interpreter sees + it looks if there is a ___add__ defined in \n",
    "# the class and if it, then that method will be used. \n",
    "print v1+v2"
   ]
  },
  {
   "cell_type": "markdown",
   "metadata": {
    "deletable": true,
    "editable": true
   },
   "source": [
    "Question - How can we notify a class if it fails to implement an important method?\n",
    "\n",
    "Solution - how about we have a parent class that raises a flag whenever a method is not impleremented in the child class? This is a reasonable solution. "
   ]
  },
  {
   "cell_type": "markdown",
   "metadata": {
    "collapsed": false,
    "deletable": true,
    "editable": true
   },
   "source": [
    "Abstract classes are used to define a signature that will be implemented \n",
    "by all the classes that inherit it. For example, let us say that two \n",
    "programming groups have to read and write into files but how they read and \n",
    "write method may differ. In such cases we can have read and write method \n",
    "signature in the abstract class and the two groups can inherit from the \n",
    "abstract class and create their own concrete classes.\n",
    "\n",
    "\n",
    "Below is an example of an abstract class without importing any special \n",
    "module\n",
    "\n",
    "Here the abstract class AbstractImage has the methods that consist of \n",
    "signature that all the child classes will inherit. We are raising not \n",
    "implemented error to say that the methods by themselves are not doing \n",
    "anything until implemented by a child class. "
   ]
  },
  {
   "cell_type": "code",
   "execution_count": 1,
   "metadata": {
    "collapsed": false,
    "deletable": true,
    "editable": true
   },
   "outputs": [
    {
     "name": "stdout",
     "output_type": "stream",
     "text": [
      "<__main__.AbstractImage object at 0x10477ae10>\n"
     ]
    },
    {
     "ename": "NotImplementedError",
     "evalue": "",
     "output_type": "error",
     "traceback": [
      "\u001b[0;31m\u001b[0m",
      "\u001b[0;31mNotImplementedError\u001b[0mTraceback (most recent call last)",
      "\u001b[0;32m<ipython-input-1-3907af5aabda>\u001b[0m in \u001b[0;36m<module>\u001b[0;34m()\u001b[0m\n\u001b[1;32m      7\u001b[0m \u001b[0mai\u001b[0m \u001b[0;34m=\u001b[0m \u001b[0mAbstractImage\u001b[0m\u001b[0;34m(\u001b[0m\u001b[0;34m)\u001b[0m\u001b[0;34m\u001b[0m\u001b[0m\n\u001b[1;32m      8\u001b[0m \u001b[0;32mprint\u001b[0m \u001b[0mai\u001b[0m\u001b[0;34m\u001b[0m\u001b[0m\n\u001b[0;32m----> 9\u001b[0;31m \u001b[0mai\u001b[0m\u001b[0;34m.\u001b[0m\u001b[0mread\u001b[0m\u001b[0;34m(\u001b[0m\u001b[0;34m)\u001b[0m\u001b[0;34m\u001b[0m\u001b[0m\n\u001b[0m",
      "\u001b[0;32m<ipython-input-1-3907af5aabda>\u001b[0m in \u001b[0;36mread\u001b[0;34m(self)\u001b[0m\n\u001b[1;32m      1\u001b[0m \u001b[0;32mclass\u001b[0m \u001b[0mAbstractImage\u001b[0m\u001b[0;34m(\u001b[0m\u001b[0mobject\u001b[0m\u001b[0;34m)\u001b[0m\u001b[0;34m:\u001b[0m\u001b[0;34m\u001b[0m\u001b[0m\n\u001b[1;32m      2\u001b[0m     \u001b[0;32mdef\u001b[0m \u001b[0mread\u001b[0m\u001b[0;34m(\u001b[0m\u001b[0mself\u001b[0m\u001b[0;34m)\u001b[0m\u001b[0;34m:\u001b[0m\u001b[0;34m\u001b[0m\u001b[0m\n\u001b[0;32m----> 3\u001b[0;31m         \u001b[0;32mraise\u001b[0m \u001b[0mNotImplementedError\u001b[0m\u001b[0;34m(\u001b[0m\u001b[0;34m)\u001b[0m\u001b[0;34m\u001b[0m\u001b[0m\n\u001b[0m\u001b[1;32m      4\u001b[0m     \u001b[0;32mdef\u001b[0m \u001b[0mwrite\u001b[0m\u001b[0;34m(\u001b[0m\u001b[0mself\u001b[0m\u001b[0;34m)\u001b[0m\u001b[0;34m:\u001b[0m\u001b[0;34m\u001b[0m\u001b[0m\n\u001b[1;32m      5\u001b[0m         \u001b[0;32mraise\u001b[0m \u001b[0mNotImplementedError\u001b[0m\u001b[0;34m(\u001b[0m\u001b[0;34m)\u001b[0m\u001b[0;34m\u001b[0m\u001b[0m\n",
      "\u001b[0;31mNotImplementedError\u001b[0m: "
     ]
    }
   ],
   "source": [
    "class AbstractImage(object):\n",
    "    def read(self):\n",
    "        raise NotImplementedError()\n",
    "    def write(self):\n",
    "        raise NotImplementedError()\n",
    "\n",
    "ai = AbstractImage()\n",
    "print ai\n",
    "ai.read()"
   ]
  },
  {
   "cell_type": "code",
   "execution_count": 3,
   "metadata": {
    "collapsed": false,
    "deletable": true,
    "editable": true
   },
   "outputs": [
    {
     "name": "stdout",
     "output_type": "stream",
     "text": [
      "<__main__.Dicom object at 0x104761a10>\n",
      "reading file in the child class\n"
     ]
    },
    {
     "ename": "NotImplementedError",
     "evalue": "",
     "output_type": "error",
     "traceback": [
      "\u001b[0;31m\u001b[0m",
      "\u001b[0;31mNotImplementedError\u001b[0mTraceback (most recent call last)",
      "\u001b[0;32m<ipython-input-3-3bb51b008583>\u001b[0m in \u001b[0;36m<module>\u001b[0;34m()\u001b[0m\n\u001b[1;32m     12\u001b[0m \u001b[0;32mprint\u001b[0m \u001b[0md\u001b[0m\u001b[0;34m\u001b[0m\u001b[0m\n\u001b[1;32m     13\u001b[0m \u001b[0md\u001b[0m\u001b[0;34m.\u001b[0m\u001b[0mread\u001b[0m\u001b[0;34m(\u001b[0m\u001b[0;34m)\u001b[0m \u001b[0;31m# Makes the call to Dicom child class\u001b[0m\u001b[0;34m\u001b[0m\u001b[0m\n\u001b[0;32m---> 14\u001b[0;31m \u001b[0md\u001b[0m\u001b[0;34m.\u001b[0m\u001b[0mwrite\u001b[0m\u001b[0;34m(\u001b[0m\u001b[0;34m)\u001b[0m\u001b[0;34m\u001b[0m\u001b[0m\n\u001b[0m",
      "\u001b[0;32m<ipython-input-3-3bb51b008583>\u001b[0m in \u001b[0;36mwrite\u001b[0;34m(self)\u001b[0m\n\u001b[1;32m      3\u001b[0m         \u001b[0;32mraise\u001b[0m \u001b[0mNotImplementedError\u001b[0m\u001b[0;34m(\u001b[0m\u001b[0;34m)\u001b[0m\u001b[0;34m\u001b[0m\u001b[0m\n\u001b[1;32m      4\u001b[0m     \u001b[0;32mdef\u001b[0m \u001b[0mwrite\u001b[0m\u001b[0;34m(\u001b[0m\u001b[0mself\u001b[0m\u001b[0;34m)\u001b[0m\u001b[0;34m:\u001b[0m\u001b[0;34m\u001b[0m\u001b[0m\n\u001b[0;32m----> 5\u001b[0;31m         \u001b[0;32mraise\u001b[0m \u001b[0mNotImplementedError\u001b[0m\u001b[0;34m(\u001b[0m\u001b[0;34m)\u001b[0m\u001b[0;34m\u001b[0m\u001b[0m\n\u001b[0m\u001b[1;32m      6\u001b[0m \u001b[0;34m\u001b[0m\u001b[0m\n\u001b[1;32m      7\u001b[0m \u001b[0;32mclass\u001b[0m \u001b[0mDicom\u001b[0m\u001b[0;34m(\u001b[0m\u001b[0mAbstractDicom\u001b[0m\u001b[0;34m)\u001b[0m\u001b[0;34m:\u001b[0m\u001b[0;34m\u001b[0m\u001b[0m\n",
      "\u001b[0;31mNotImplementedError\u001b[0m: "
     ]
    }
   ],
   "source": [
    "class AbstractDicom(object):   \n",
    "    def read(self):\n",
    "        raise NotImplementedError()\n",
    "    def write(self):\n",
    "        raise NotImplementedError()\n",
    "    \n",
    "class Dicom(AbstractDicom):\n",
    "    def read(self):\n",
    "        print \"reading file in the child class\"\n",
    "        \n",
    "d = Dicom()\n",
    "print d\n",
    "d.read() # Makes the call to Dicom child class\n",
    "d.write()"
   ]
  },
  {
   "cell_type": "markdown",
   "metadata": {
    "deletable": true,
    "editable": true
   },
   "source": [
    "What will happen if make a call to write() method? \n",
    "\n",
    "d.write() \n",
    "\n",
    "First Python makes the call to Dicom child class. But since 'write' method \n",
    "is not implemented in the child class the write method in the parent class \n",
    "will be called and 'NotImplementedError' will be raised. Let's check."
   ]
  },
  {
   "cell_type": "code",
   "execution_count": null,
   "metadata": {
    "collapsed": true,
    "deletable": true,
    "editable": true
   },
   "outputs": [],
   "source": [
    "# d.write() "
   ]
  },
  {
   "cell_type": "code",
   "execution_count": 4,
   "metadata": {
    "collapsed": false,
    "deletable": true,
    "editable": true
   },
   "outputs": [
    {
     "name": "stdout",
     "output_type": "stream",
     "text": [
      "<__main__.Dicom object at 0x104761d90>\n",
      "reading file\n",
      "writing file\n"
     ]
    }
   ],
   "source": [
    "class AbstractDicom(object):\n",
    "    def read(self):\n",
    "        raise NotImplementedError()\n",
    "    def write(self):\n",
    "        raise NotImplementedError()\n",
    "    \n",
    "class Dicom(AbstractDicom):\n",
    "    def read(self):\n",
    "        print \"reading file\"\n",
    "    def write(self):\n",
    "        print \"writing file\"\n",
    "        \n",
    "d = Dicom()\n",
    "print d\n",
    "d.read() # Makes the call to Dicom child class\n",
    "d.write() # Makes the call to Dicom child class"
   ]
  },
  {
   "cell_type": "code",
   "execution_count": 16,
   "metadata": {
    "collapsed": false,
    "deletable": true,
    "editable": true
   },
   "outputs": [
    {
     "ename": "NotImplementedError",
     "evalue": "",
     "output_type": "error",
     "traceback": [
      "\u001b[0;31m\u001b[0m",
      "\u001b[0;31mNotImplementedError\u001b[0mTraceback (most recent call last)",
      "\u001b[0;32m<ipython-input-16-b7a73ec830fa>\u001b[0m in \u001b[0;36m<module>\u001b[0;34m()\u001b[0m\n\u001b[1;32m     48\u001b[0m \u001b[0mc\u001b[0m \u001b[0;34m=\u001b[0m \u001b[0mCICal\u001b[0m\u001b[0;34m(\u001b[0m\u001b[0;36m1000\u001b[0m\u001b[0;34m,\u001b[0m\u001b[0;36m5\u001b[0m\u001b[0;34m,\u001b[0m\u001b[0;36m6\u001b[0m\u001b[0;34m,\u001b[0m\u001b[0;36m2\u001b[0m\u001b[0;34m)\u001b[0m\u001b[0;34m\u001b[0m\u001b[0m\n\u001b[1;32m     49\u001b[0m \u001b[0mc\u001b[0m\u001b[0;34m.\u001b[0m\u001b[0mcompcal\u001b[0m\u001b[0;34m(\u001b[0m\u001b[0;34m)\u001b[0m\u001b[0;34m\u001b[0m\u001b[0m\n\u001b[0;32m---> 50\u001b[0;31m \u001b[0;32mprint\u001b[0m \u001b[0mc\u001b[0m\u001b[0;34m.\u001b[0m\u001b[0mcompout\u001b[0m\u001b[0;34m(\u001b[0m\u001b[0;34m)\u001b[0m\u001b[0;34m\u001b[0m\u001b[0m\n\u001b[0m\u001b[1;32m     51\u001b[0m \u001b[0;34m\u001b[0m\u001b[0m\n",
      "\u001b[0;32m<ipython-input-16-b7a73ec830fa>\u001b[0m in \u001b[0;36mcompout\u001b[0;34m(self)\u001b[0m\n\u001b[1;32m     28\u001b[0m         \u001b[0;32mraise\u001b[0m \u001b[0mNotImplementedError\u001b[0m\u001b[0;34m(\u001b[0m\u001b[0;34m)\u001b[0m\u001b[0;34m\u001b[0m\u001b[0m\n\u001b[1;32m     29\u001b[0m     \u001b[0;32mdef\u001b[0m \u001b[0mcompout\u001b[0m\u001b[0;34m(\u001b[0m\u001b[0mself\u001b[0m\u001b[0;34m)\u001b[0m\u001b[0;34m:\u001b[0m\u001b[0;34m\u001b[0m\u001b[0m\n\u001b[0;32m---> 30\u001b[0;31m         \u001b[0;32mraise\u001b[0m \u001b[0mNotImplementedError\u001b[0m\u001b[0;34m(\u001b[0m\u001b[0;34m)\u001b[0m\u001b[0;34m\u001b[0m\u001b[0m\n\u001b[0m\u001b[1;32m     31\u001b[0m \u001b[0;34m\u001b[0m\u001b[0m\n\u001b[1;32m     32\u001b[0m \u001b[0;32mclass\u001b[0m \u001b[0mCICal\u001b[0m\u001b[0;34m(\u001b[0m\u001b[0mAbstractInterestCal\u001b[0m\u001b[0;34m)\u001b[0m\u001b[0;34m:\u001b[0m\u001b[0;34m\u001b[0m\u001b[0m\n",
      "\u001b[0;31mNotImplementedError\u001b[0m: "
     ]
    }
   ],
   "source": [
    "'''\n",
    "Create an abstract class called 'InterestCal'. Create a child class called \n",
    "'CICal'. The 'CICal' class will inherit the abstract class and implement compound \n",
    "interesst calculator. The formula is finalval = P*(1+(r/n)**(years*n))\n",
    "where n is the number of times the amount is compounded annually.\n",
    "\n",
    "This child class will have three methods:\n",
    "1) __init__ method\n",
    "2) a method called compcal that computes the compound interest \n",
    "3) a method called compout that prints the compounded value.\n",
    "\n",
    "\n",
    "Once all classes have been defined, then call to calculate and print the \n",
    "amount. The user should pass the attributes Principal, years, \n",
    "interestrate, n when the class is instanstiated. \n",
    "\n",
    "Follow the code below:\n",
    "\n",
    "c = CICal(1000,5,6,2) \n",
    "c.compcal()\n",
    "print c.compout()\n",
    "\n",
    "In the above code, the principal amount is 1000, the number of years is 5, \n",
    "the interest rate is 6%, and n = 2. \n",
    "'''\n",
    "class AbstractInterestCal(object):\n",
    "    def compcal(self):\n",
    "        raise NotImplementedError()\n",
    "    def compout(self):\n",
    "        raise NotImplementedError()\n",
    "\n",
    "class CICal(AbstractInterestCal):\n",
    "    def __init__(self, P, y, r, n):\n",
    "        self.P = P\n",
    "        self.y = y\n",
    "        self.r = r\n",
    "        self.n = n\n",
    "        \n",
    "    def compcal(self):\n",
    "        num = 1.0 + self.r/(self.n * 100.0)\n",
    "        self.finalval = self.P*(num**(self.n*self.y)) \n",
    "        \n",
    "    def compout(self):\n",
    "        print \"%0.2f\" % self.finalval\n",
    "        \n",
    "         \n",
    "        \n",
    "c = CICal(1000,5,6,2) \n",
    "c.compcal()\n",
    "print c.compout()\n",
    "\n"
   ]
  },
  {
   "cell_type": "code",
   "execution_count": 9,
   "metadata": {
    "collapsed": false
   },
   "outputs": [
    {
     "ename": "AttributeError",
     "evalue": "'CICalculator' object has no attribute 'finalval'",
     "output_type": "error",
     "traceback": [
      "\u001b[0;31m\u001b[0m",
      "\u001b[0;31mAttributeError\u001b[0mTraceback (most recent call last)",
      "\u001b[0;32m<ipython-input-9-777c64717bb2>\u001b[0m in \u001b[0;36m<module>\u001b[0;34m()\u001b[0m\n\u001b[1;32m     67\u001b[0m \u001b[0mt\u001b[0m \u001b[0;34m=\u001b[0m \u001b[0;36m2\u001b[0m\u001b[0;34m\u001b[0m\u001b[0m\n\u001b[1;32m     68\u001b[0m \u001b[0mc\u001b[0m \u001b[0;34m=\u001b[0m \u001b[0mCICalculator\u001b[0m\u001b[0;34m(\u001b[0m\u001b[0mp\u001b[0m\u001b[0;34m,\u001b[0m \u001b[0mr\u001b[0m\u001b[0;34m,\u001b[0m \u001b[0mt\u001b[0m\u001b[0;34m,\u001b[0m \u001b[0mn\u001b[0m\u001b[0;34m)\u001b[0m\u001b[0;34m\u001b[0m\u001b[0m\n\u001b[0;32m---> 69\u001b[0;31m \u001b[0mc\u001b[0m\u001b[0;34m.\u001b[0m\u001b[0mcalcfinalval\u001b[0m\u001b[0;34m(\u001b[0m\u001b[0;34m)\u001b[0m\u001b[0;34m\u001b[0m\u001b[0m\n\u001b[0m\u001b[1;32m     70\u001b[0m \u001b[0;32mprint\u001b[0m \u001b[0mc\u001b[0m\u001b[0;34m.\u001b[0m\u001b[0mfinalval\u001b[0m\u001b[0;34m\u001b[0m\u001b[0m\n\u001b[1;32m     71\u001b[0m \u001b[0;34m\u001b[0m\u001b[0m\n",
      "\u001b[0;32m<ipython-input-9-777c64717bb2>\u001b[0m in \u001b[0;36mcalcfinalval\u001b[0;34m(self)\u001b[0m\n\u001b[1;32m     49\u001b[0m \u001b[0;34m\u001b[0m\u001b[0m\n\u001b[1;32m     50\u001b[0m     \u001b[0;32mdef\u001b[0m \u001b[0mcalcfinalval\u001b[0m\u001b[0;34m(\u001b[0m\u001b[0mself\u001b[0m\u001b[0;34m)\u001b[0m\u001b[0;34m:\u001b[0m\u001b[0;34m\u001b[0m\u001b[0m\n\u001b[0;32m---> 51\u001b[0;31m         \u001b[0;32mprint\u001b[0m \u001b[0;34m\"%0.2f\"\u001b[0m \u001b[0;34m%\u001b[0m \u001b[0mself\u001b[0m\u001b[0;34m.\u001b[0m\u001b[0mfinalval\u001b[0m\u001b[0;34m\u001b[0m\u001b[0m\n\u001b[0m\u001b[1;32m     52\u001b[0m \u001b[0;34m\u001b[0m\u001b[0m\n\u001b[1;32m     53\u001b[0m \u001b[0;32mclass\u001b[0m \u001b[0mSIcalculator\u001b[0m\u001b[0;34m(\u001b[0m\u001b[0mInterestCalculator\u001b[0m\u001b[0;34m)\u001b[0m\u001b[0;34m:\u001b[0m\u001b[0;34m\u001b[0m\u001b[0m\n",
      "\u001b[0;31mAttributeError\u001b[0m: 'CICalculator' object has no attribute 'finalval'"
     ]
    }
   ],
   "source": [
    "'''Question 2 (5 points) Create a base/parent class called 'InterestCalculator'. \n",
    "Create a child class called 'CICalculator'. \n",
    "The 'CICalculator' class will \n",
    "have only one parent, the 'InterestCalculator'. Create a child class called \n",
    "'SICalculator'. The 'SI' \n",
    "class will have only one parent, the 'InterestCalculator'. \n",
    "The parent class needs to have an __init__ method, that will initialize\n",
    "all the values needed for calculating and storing interest.\n",
    "\n",
    "The child class 'CICalculator' and 'SICalculator'\n",
    "must implement 'calcfinalval' method that will calculate the final value \n",
    "for each case. The compound interest formula is A = p*(1+(r/(n*100)))^(n*t), assume n = 2\n",
    "\n",
    "The simple interest formula is A = p*(1+(r*t/100)). \n",
    "For both the formulae,  p is the principal amount,\n",
    "r is the rate of interest usually given in percentage and t is time in years \n",
    "and A is the total amount after t years.\n",
    "\n",
    "Once all classes have been defined, the call to calculate and print the \n",
    "final value must follow the code below.\n",
    "p = 1000\n",
    "\n",
    "r = 6\n",
    "\n",
    "t = 2\n",
    "c = CICalculator(p, r, t)\n",
    "c.calcfinalval()\n",
    "print c.finalval\n",
    "\n",
    "s = SICalculator(p, r, t)\n",
    "s.calcfinalval()\n",
    "print s.finalval\n",
    "'''\n",
    "\n",
    "\n",
    "class InterestCalculator(object):\n",
    "    def __init__(self, p, y, r, n):\n",
    "        self.p = p\n",
    "        self.y = y\n",
    "        self.r = r\n",
    "        self.n = n   \n",
    "        \n",
    "class CICalculator(InterestCalculator):\n",
    "    def __init__(self, p, y, r, n):\n",
    "        InterestCalculator.__init__(self, p, y, r, n)\n",
    "    \n",
    "    def compcal(self):         \n",
    "        self.finalval = self.p*(1+(self.r/(self.n*100)))**(self.n*self.t)\n",
    "        \n",
    "    def calcfinalval(self):\n",
    "        print \"%0.2f\" % self.finalval\n",
    "        \n",
    "class SIcalculator(InterestCalculator):\n",
    "    def __init__(self, p, y, r, n):\n",
    "        InterestCalculator.__init__(self, p, y, r, n)\n",
    "    \n",
    "    def compcal(self):\n",
    "        self.finalval = self.p*(1+(self.r*self.t/100))\n",
    "        \n",
    "    def calcfinalval(self):\n",
    "        print \"%0.2f\" % self.finalval\n",
    "        \n",
    "         \n",
    "p = 1000\n",
    "r = 6\n",
    "n = 2\n",
    "t = 2\n",
    "c = CICalculator(p, r, t, n)\n",
    "c.calcfinalval()\n",
    "print c.finalval\n",
    "\n",
    "s = SICalculator(p, r, t, n)\n",
    "s.calcfinalval()\n",
    "print s.finalval\n",
    "\n"
   ]
  },
  {
   "cell_type": "markdown",
   "metadata": {
    "collapsed": true,
    "deletable": true,
    "editable": true
   },
   "source": [
    "Abstract base classes can be implemented by using a module called abc. \n",
    "Please check these links to learn more:\n",
    "\n",
    "https://pymotw.com/2/abc/\n",
    "\n",
    "https://docs.python.org/2/library/abc.html"
   ]
  },
  {
   "cell_type": "markdown",
   "metadata": {
    "collapsed": true,
    "deletable": true,
    "editable": true
   },
   "source": [
    "Class methods are methods that are bound to the class itself and not \n",
    "to any object(s).  \n",
    "Class method takes the class itself as the first argument. \n",
    "\n",
    "syntax for class method\n",
    "```\n",
    "@classmethod\n",
    "def name_of_the_method(cls):\n",
    "    statements\n",
    "```\n",
    " \n",
    "Note 1: @classmethod is a decorator. A decorator is a function that takes \n",
    "another function and extends the behavior of the latter function without \n",
    "explicitly modifying it. Decorators provide a simple syntax for calling \n",
    "higher-order functions. The method classmethod takes name_of_the_method as \n",
    "an input and modifies it's behavior.\n",
    "\n",
    "Note 2: cls is analogous to self keyword in instance methods. Here cls is \n",
    "a label for the class itself."
   ]
  },
  {
   "cell_type": "code",
   "execution_count": 17,
   "metadata": {
    "collapsed": false,
    "deletable": true,
    "editable": true
   },
   "outputs": [
    {
     "name": "stdout",
     "output_type": "stream",
     "text": [
      "The radius is:  42\n",
      "True\n",
      "The radius is:  42\n",
      "True\n"
     ]
    }
   ],
   "source": [
    "class Cylinder(object):\n",
    "    radius = 42\n",
    "    @classmethod\n",
    "    def print_radius(cls):\n",
    "        print \"The radius is: \", cls.radius\n",
    "        # since we want to print the value of radius we have to say \n",
    "        # cls.radius or Cylinder.radius\n",
    "        return True\n",
    "b = Cylinder.print_radius()\n",
    "print b\n",
    "\n",
    "p = Cylinder()\n",
    "print p.print_radius()"
   ]
  },
  {
   "cell_type": "code",
   "execution_count": 20,
   "metadata": {
    "collapsed": false,
    "deletable": true,
    "editable": true
   },
   "outputs": [
    {
     "name": "stdout",
     "output_type": "stream",
     "text": [
      "Vector (10, 13)\n"
     ]
    }
   ],
   "source": [
    "import random\n",
    "\n",
    "class Vector(object):\n",
    "    def __init__(self, a, b):\n",
    "        self.a = a\n",
    "        self.b = b\n",
    "        \n",
    "    @classmethod\n",
    "    def createvec(cls):\n",
    "        return cls(random.randint(1,10), random.randint(1,10))\n",
    "    \n",
    "    def __str__(self):\n",
    "        return 'Vector (%d, %d)' % (self.a, self.b)\n",
    "   \n",
    "    def __add__(self,other):\n",
    "        return Vector(self.a + other.a, self.b + other.b)\n",
    "    \n",
    "\n",
    "v1 = Vector.createvec()\n",
    "v2 = Vector.createvec()\n",
    "print v1+v2"
   ]
  },
  {
   "cell_type": "markdown",
   "metadata": {
    "collapsed": true,
    "deletable": true,
    "editable": true
   },
   "source": [
    "Staticmethod doesn't take the class (cls) or self as arguments. It is used \n",
    "to define functions that logically belong to the class and are accessible \n",
    "to all the instances of the class."
   ]
  },
  {
   "cell_type": "code",
   "execution_count": null,
   "metadata": {
    "collapsed": false,
    "deletable": true,
    "editable": true
   },
   "outputs": [],
   "source": [
    "import math\n",
    "class Cylinder(object):\n",
    "    \n",
    "    @staticmethod\n",
    "    def youChoose():\n",
    "        return \"We can compute area and volume of the cylinder using methods compArea and compVolume\"\n",
    "    \n",
    "    def compArea(self, radius):\n",
    "        Area = math.pi *radius*radius\n",
    "        return Area\n",
    "    \n",
    "    def compVolume(self, radius, height):\n",
    "        volume = math.pi*radius*radius*height\n",
    "        return volume\n",
    "\n",
    "b = Cylinder()\n",
    "print b.youChoose()\n",
    "\n",
    "print b.compArea(10)\n",
    "print b.compVolume(10, 20)"
   ]
  },
  {
   "cell_type": "markdown",
   "metadata": {
    "collapsed": true,
    "deletable": true,
    "editable": true
   },
   "source": [
    "Accessing a missing attribute:\n",
    "    \n",
    "When we make a call to an attribute that is not defined for an instance then \n",
    "Python will throw an 'AttributeError'."
   ]
  },
  {
   "cell_type": "code",
   "execution_count": null,
   "metadata": {
    "collapsed": true,
    "deletable": true,
    "editable": true
   },
   "outputs": [],
   "source": [
    "# An example of accessing a missing attribute\n",
    "class United(object):\n",
    "    def __init__(self, name):\n",
    "        self.name = name\n",
    "        \n",
    "u1 = United(\"Joy\")\n",
    "u1.age"
   ]
  },
  {
   "cell_type": "code",
   "execution_count": null,
   "metadata": {
    "collapsed": true,
    "deletable": true,
    "editable": true
   },
   "outputs": [],
   "source": [
    "# Solution - define the attribute in the class so that we don't get an exception\n",
    "\n",
    "class United(object):\n",
    "    def __init__(self, name, age):\n",
    "        self.name = name\n",
    "        self.age = age\n",
    "            \n",
    "u1 = United(\"Joy\", 25)\n",
    "print u1.name\n",
    "print u1.age"
   ]
  },
  {
   "cell_type": "markdown",
   "metadata": {
    "deletable": true,
    "editable": true
   },
   "source": [
    "Can we safely access attributes that are not defined? Yes, we can by using the magic method \\__getattr\\__."
   ]
  },
  {
   "cell_type": "code",
   "execution_count": null,
   "metadata": {
    "collapsed": true,
    "deletable": true,
    "editable": true
   },
   "outputs": [],
   "source": [
    "class United(object):\n",
    "    def __init__(self, name):\n",
    "        self.name = name\n",
    "        \n",
    "    #def printOut(self):\n",
    "    #    return \"The name is: \", self.name\n",
    "    \n",
    "    def __getattr__(self, attr):\n",
    "        return self.name\n",
    "    \n",
    "u2 = United(\"Joy\")\n",
    "print u2.name\n",
    "print u2.age\n",
    "print dir(United)\n",
    "print u2.printOut"
   ]
  },
  {
   "cell_type": "markdown",
   "metadata": {
    "collapsed": false,
    "deletable": true,
    "editable": true
   },
   "source": [
    "Design Pattern is a general repeatable solution to a commonly occurring \n",
    "problem in software design. It is a description or template for how to \n",
    "solve a problem that can be used in many different situations.\n",
    "https://sourcemaking.com/design_patterns\n",
    "\n",
    "Two design patters that we will consider are:\n",
    "    Proxy pattern\n",
    "    Factory pattern"
   ]
  },
  {
   "cell_type": "markdown",
   "metadata": {
    "collapsed": false,
    "deletable": true,
    "editable": true
   },
   "source": [
    "Proxy pattern is used when we want to shield access to an object from the\n",
    "outside world. For proxy to work, in addition to the class that you want to \n",
    "shield, you also have to create a proxy class, which will internally create \n",
    "an instance of the shielded class when a certain requirement is satisfied \n",
    "or a request is made.\n",
    "\n",
    "The syntax for Proxy pattern is \n",
    "```\n",
    "class Proxy:\n",
    "    def __init__(self,subject):\n",
    "        self.__subject = subject\n",
    "    def __getattr__(self,name):\n",
    "        return getattr( self.__subject, name )   \n",
    "```"
   ]
  },
  {
   "cell_type": "code",
   "execution_count": null,
   "metadata": {
    "collapsed": false,
    "deletable": true,
    "editable": true
   },
   "outputs": [],
   "source": [
    "# Proxy Pattern is used when an object has to be shielded from its clients.\n",
    "\n",
    "class Maintenance:\n",
    "    def visitpage(self):\n",
    "        print \"Our site is under maintenance, please visit us later.\"\n",
    "        \n",
    "class NonMaintenance:\n",
    "    def visitpage(self):\n",
    "        print \"Welcome to the site\"\n",
    "\n",
    "class Proxy:\n",
    "    def __init__(self, maintenanceBool):\n",
    "        if maintenanceBool:\n",
    "            self.implementation = Maintenance()\n",
    "        else:\n",
    "            self.implementation = NonMaintenance()\n",
    "    def __getattr__(self, name):\n",
    "        print name, type(name)\n",
    "        return getattr(self.implementation, name)\n",
    "\n",
    "MAINTENANCE = True\n",
    "p = Proxy(MAINTENANCE)\n",
    "p.visitpage()"
   ]
  },
  {
   "cell_type": "code",
   "execution_count": null,
   "metadata": {
    "collapsed": false,
    "deletable": true,
    "editable": true
   },
   "outputs": [],
   "source": [
    "# Factory pattern\n",
    "\n",
    "class Menu(object):\n",
    "    @staticmethod   \n",
    "    # @staticmethod is an decorator\n",
    "    def factory(objtype):\n",
    "        if objtype == 1: \n",
    "            return Burger()\n",
    "        if objtype == 2: \n",
    "            return Fries()\n",
    "        print \"Bad menu choice: \"\n",
    "    \n",
    "class Burger(Menu):\n",
    "    def listitem(self): print(\"Burger\")\n",
    "\n",
    "class Fries(Menu):\n",
    "    def listitem(self): print(\"Fries\")\n",
    "\n",
    "print \"Choose a menu item\"\n",
    "print \"1: Burger, 2: Fries\"\n",
    "\n",
    "choice = int(raw_input('Enter your choice number :'))\n",
    "         \n",
    "f = Menu.factory(choice)\n",
    "f.listitem()\n",
    "print type(f)"
   ]
  },
  {
   "cell_type": "code",
   "execution_count": null,
   "metadata": {
    "collapsed": true,
    "deletable": true,
    "editable": true
   },
   "outputs": [],
   "source": []
  }
 ],
 "metadata": {
  "kernelspec": {
   "display_name": "Python 2",
   "language": "python",
   "name": "python2"
  },
  "language_info": {
   "codemirror_mode": {
    "name": "ipython",
    "version": 2
   },
   "file_extension": ".py",
   "mimetype": "text/x-python",
   "name": "python",
   "nbconvert_exporter": "python",
   "pygments_lexer": "ipython2",
   "version": "2.7.13"
  }
 },
 "nbformat": 4,
 "nbformat_minor": 0
}
