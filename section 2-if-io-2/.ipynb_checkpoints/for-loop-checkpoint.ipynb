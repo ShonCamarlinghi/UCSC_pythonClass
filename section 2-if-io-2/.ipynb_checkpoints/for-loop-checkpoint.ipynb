{
 "cells": [
  {
   "cell_type": "markdown",
   "metadata": {
    "collapsed": false,
    "deletable": true,
    "editable": true
   },
   "source": [
    "In this notebook we will discuss the following:\n",
    "    \n",
    "1) if-else\n",
    "\n",
    "2) while\n",
    "\n",
    "3) for-loop\n",
    "\n",
    "4) range and xrange"
   ]
  },
  {
   "cell_type": "code",
   "execution_count": null,
   "metadata": {
    "collapsed": false,
    "deletable": true,
    "editable": true
   },
   "outputs": [],
   "source": [
    "'''\n",
    "Syntax of if-else\n",
    "if condition 1:\n",
    "   execute statement(s) that are under this block\n",
    "elif condition 2:\n",
    "    execute statement(s) that are under this block\n",
    "else:\n",
    "    execute statement(s) that are under this block\n",
    "'''\n",
    "\n",
    "x = int(raw_input(\"Please enter your choice (0 or 1): \"))\n",
    "if x < 0:\n",
    "    print 'Negative number not allowed'\n",
    "elif x == 0:\n",
    "    print \"Zero\"\n",
    "elif x == 1:\n",
    "    print 'One'\n",
    "else:\n",
    "    print 'Number more than 1 is not allowed'"
   ]
  },
  {
   "cell_type": "markdown",
   "metadata": {
    "deletable": true,
    "editable": true
   },
   "source": [
    "In Python, we can compute bool of any data type. What?\n",
    "bool of non-trivial values of any data type will return True whereas bool of trivial values of any data type will return False.\n",
    "\n",
    "bool(0) is False\n",
    "\n",
    "bool(-1) is True\n",
    "\n",
    "bool('') is False\n",
    "\n",
    "bool(' ') is True\n",
    "\n",
    "bool(0.0) is False\n",
    "\n",
    "bool(0.1) is True\n",
    "\n",
    "This will be useful especially when you want to check if something is empty or not using the if-else condition. "
   ]
  },
  {
   "cell_type": "markdown",
   "metadata": {
    "collapsed": false,
    "deletable": true,
    "editable": true
   },
   "source": [
    "\n",
    "To learn more about Truthiness in Python check the following links\n",
    "\n",
    "https://www.udacity.com/wiki/cs258/truthiness-in-python\n",
    "\n",
    "https://docs.python.org/release/2.5.2/lib/truth.html\n",
    "\n",
    "https://www.youtube.com/watch?v=9OK32jb_TdI"
   ]
  },
  {
   "cell_type": "code",
   "execution_count": null,
   "metadata": {
    "collapsed": false,
    "deletable": true,
    "editable": true
   },
   "outputs": [],
   "source": [
    "a = 0\n",
    "if a:\n",
    "    print 'a is non zero integer'\n",
    "else:\n",
    "    print 'a is zero'"
   ]
  },
  {
   "cell_type": "code",
   "execution_count": null,
   "metadata": {
    "collapsed": false,
    "deletable": true,
    "editable": true
   },
   "outputs": [],
   "source": [
    "a = 0.0\n",
    "if a:\n",
    "    print \"a is non zero float\"\n",
    "else:\n",
    "    print \"a is 0.0\""
   ]
  },
  {
   "cell_type": "code",
   "execution_count": null,
   "metadata": {
    "collapsed": false,
    "deletable": true,
    "editable": true
   },
   "outputs": [],
   "source": [
    "a = ''\n",
    "\n",
    "if a:\n",
    "    print \"a is a non-empty string\"\n",
    "    \n",
    "else:\n",
    "    print \"a is an empty string\""
   ]
  },
  {
   "cell_type": "code",
   "execution_count": null,
   "metadata": {
    "collapsed": false,
    "deletable": true,
    "editable": true
   },
   "outputs": [],
   "source": [
    "'the    life  is    good   '.strip(' ')"
   ]
  },
  {
   "cell_type": "code",
   "execution_count": 2,
   "metadata": {
    "collapsed": false,
    "deletable": true,
    "editable": true
   },
   "outputs": [
    {
     "data": {
      "text/plain": [
       "'the    life  is    good'"
      ]
     },
     "execution_count": 2,
     "metadata": {},
     "output_type": "execute_result"
    }
   ],
   "source": [
    "';the    life  is    good   '.strip('; ')"
   ]
  },
  {
   "cell_type": "markdown",
   "metadata": {
    "deletable": true,
    "editable": true
   },
   "source": [
    "Syntax for list \n",
    "\n",
    "n = [item1, item2, item3].\n",
    "\n",
    "Simple way to create a list of integers\n",
    "is by using range(n) that will create a list [0, 1, 2, ..., n-1]"
   ]
  },
  {
   "cell_type": "code",
   "execution_count": null,
   "metadata": {
    "collapsed": false,
    "deletable": true,
    "editable": true
   },
   "outputs": [],
   "source": [
    "print range(5)"
   ]
  },
  {
   "cell_type": "markdown",
   "metadata": {
    "deletable": true,
    "editable": true
   },
   "source": [
    "range(n1, n2) will return a list from n1 to n2-1"
   ]
  },
  {
   "cell_type": "code",
   "execution_count": null,
   "metadata": {
    "collapsed": false,
    "deletable": true,
    "editable": true
   },
   "outputs": [],
   "source": [
    "print range(2, 9)"
   ]
  },
  {
   "cell_type": "markdown",
   "metadata": {
    "deletable": true,
    "editable": true
   },
   "source": [
    "range(n1, n2, incr) will return a list from n1 to n2-1 in steps of incr"
   ]
  },
  {
   "cell_type": "code",
   "execution_count": 1,
   "metadata": {
    "collapsed": false,
    "deletable": true,
    "editable": true
   },
   "outputs": [
    {
     "name": "stdout",
     "output_type": "stream",
     "text": [
      "[2, 5, 8]\n",
      "[-3, -1, 1]\n"
     ]
    }
   ],
   "source": [
    "print range(2, 9, 3)\n",
    "print range(-3, 3, 2)"
   ]
  },
  {
   "cell_type": "markdown",
   "metadata": {
    "deletable": true,
    "editable": true
   },
   "source": [
    "xrange creates an object with an iterator that returns the value on \n",
    "demand. The demand is in the loop"
   ]
  },
  {
   "cell_type": "code",
   "execution_count": null,
   "metadata": {
    "collapsed": false,
    "deletable": true,
    "editable": true
   },
   "outputs": [],
   "source": [
    "print xrange(5)\n",
    "\n",
    "for i in xrange(5):\n",
    "    print i"
   ]
  },
  {
   "cell_type": "markdown",
   "metadata": {
    "collapsed": false,
    "deletable": true,
    "editable": true
   },
   "source": [
    "Loop control statements in Python:\n",
    "\n",
    "1) break - this statement terminates the loop and transfers the execution to the \n",
    "statement after the loop.\n",
    "\n",
    "2) continue - suspends execution of remaining statements in the loop and goes \n",
    "back to the next loop iteration.\n",
    "\n",
    "3) pass - does nothing, is used for syntax purpose, the control goes to the next line."
   ]
  },
  {
   "cell_type": "code",
   "execution_count": null,
   "metadata": {
    "collapsed": false,
    "deletable": true,
    "editable": true
   },
   "outputs": [],
   "source": [
    "for n in range(22, 30):\n",
    "    if n % 3 == 0:\n",
    "        print n, 'is the first multiple of 3'\n",
    "        break\n",
    "    else:\n",
    "        print n, 'is not a multiple of 3'"
   ]
  },
  {
   "cell_type": "code",
   "execution_count": 2,
   "metadata": {
    "collapsed": false,
    "deletable": true,
    "editable": true
   },
   "outputs": [
    {
     "name": "stdout",
     "output_type": "stream",
     "text": [
      "22 is not a multiple of 4\n",
      "23 is not a multiple of 4\n",
      "24 is a multiple of 4\n",
      "25 is not a multiple of 4\n",
      "26 is not a multiple of 4\n",
      "27 is not a multiple of 4\n",
      "28 is a multiple of 4\n",
      "29 is not a multiple of 4\n"
     ]
    }
   ],
   "source": [
    "for n in range(22, 30):\n",
    "    if n % 4 == 0:\n",
    "        print n, 'is a multiple of 4'\n",
    "        continue\n",
    "    print n, 'is not a multiple of 4'"
   ]
  },
  {
   "cell_type": "code",
   "execution_count": null,
   "metadata": {
    "collapsed": false,
    "deletable": true,
    "editable": true
   },
   "outputs": [],
   "source": [
    "for item in [1,2,3]:\n",
    "    pass \n",
    "print item"
   ]
  },
  {
   "cell_type": "code",
   "execution_count": null,
   "metadata": {
    "collapsed": false,
    "deletable": true,
    "editable": true
   },
   "outputs": [],
   "source": [
    "some_list = [1, 3, 6, -2, 5, 8]\n",
    "print some_list"
   ]
  },
  {
   "cell_type": "code",
   "execution_count": null,
   "metadata": {
    "collapsed": false,
    "deletable": true,
    "editable": true
   },
   "outputs": [],
   "source": [
    "for items in some_list:\n",
    "    if items < 0:\n",
    "        # we are iterating through some_list until we hit the first negative number\n",
    "        print items\n",
    "        break"
   ]
  },
  {
   "cell_type": "code",
   "execution_count": 5,
   "metadata": {
    "collapsed": false,
    "deletable": true,
    "editable": true
   },
   "outputs": [
    {
     "name": "stdout",
     "output_type": "stream",
     "text": [
      "Please enter current year: 2010\n"
     ]
    },
    {
     "ename": "KeyboardInterrupt",
     "evalue": "",
     "output_type": "error",
     "traceback": [
      "\u001b[0;31m\u001b[0m",
      "\u001b[0;31mKeyboardInterrupt\u001b[0mTraceback (most recent call last)",
      "\u001b[0;32m<ipython-input-5-8796ada4f730>\u001b[0m in \u001b[0;36m<module>\u001b[0;34m()\u001b[0m\n\u001b[1;32m      9\u001b[0m         \u001b[0;32mbreak\u001b[0m\u001b[0;34m\u001b[0m\u001b[0m\n\u001b[1;32m     10\u001b[0m     \u001b[0;32melse\u001b[0m\u001b[0;34m:\u001b[0m\u001b[0;34m\u001b[0m\u001b[0m\n\u001b[0;32m---> 11\u001b[0;31m         \u001b[0myear\u001b[0m \u001b[0;34m=\u001b[0m \u001b[0mraw_input\u001b[0m\u001b[0;34m(\u001b[0m\u001b[0;34m'Please try to enter correct year'\u001b[0m\u001b[0;34m)\u001b[0m\u001b[0;34m\u001b[0m\u001b[0m\n\u001b[0m\u001b[1;32m     12\u001b[0m \u001b[0;34m\u001b[0m\u001b[0m\n",
      "\u001b[0;32m/Users/iris7/Library/Enthought/Canopy/edm/envs/User/lib/python2.7/site-packages/ipykernel/kernelbase.pyc\u001b[0m in \u001b[0;36mraw_input\u001b[0;34m(self, prompt)\u001b[0m\n\u001b[1;32m    692\u001b[0m             \u001b[0mself\u001b[0m\u001b[0;34m.\u001b[0m\u001b[0m_parent_ident\u001b[0m\u001b[0;34m,\u001b[0m\u001b[0;34m\u001b[0m\u001b[0m\n\u001b[1;32m    693\u001b[0m             \u001b[0mself\u001b[0m\u001b[0;34m.\u001b[0m\u001b[0m_parent_header\u001b[0m\u001b[0;34m,\u001b[0m\u001b[0;34m\u001b[0m\u001b[0m\n\u001b[0;32m--> 694\u001b[0;31m             \u001b[0mpassword\u001b[0m\u001b[0;34m=\u001b[0m\u001b[0mFalse\u001b[0m\u001b[0;34m,\u001b[0m\u001b[0;34m\u001b[0m\u001b[0m\n\u001b[0m\u001b[1;32m    695\u001b[0m         )\n\u001b[1;32m    696\u001b[0m \u001b[0;34m\u001b[0m\u001b[0m\n",
      "\u001b[0;32m/Users/iris7/Library/Enthought/Canopy/edm/envs/User/lib/python2.7/site-packages/ipykernel/kernelbase.pyc\u001b[0m in \u001b[0;36m_input_request\u001b[0;34m(self, prompt, ident, parent, password)\u001b[0m\n\u001b[1;32m    722\u001b[0m             \u001b[0;32mexcept\u001b[0m \u001b[0mKeyboardInterrupt\u001b[0m\u001b[0;34m:\u001b[0m\u001b[0;34m\u001b[0m\u001b[0m\n\u001b[1;32m    723\u001b[0m                 \u001b[0;31m# re-raise KeyboardInterrupt, to truncate traceback\u001b[0m\u001b[0;34m\u001b[0m\u001b[0;34m\u001b[0m\u001b[0m\n\u001b[0;32m--> 724\u001b[0;31m                 \u001b[0;32mraise\u001b[0m \u001b[0mKeyboardInterrupt\u001b[0m\u001b[0;34m\u001b[0m\u001b[0m\n\u001b[0m\u001b[1;32m    725\u001b[0m             \u001b[0;32melse\u001b[0m\u001b[0;34m:\u001b[0m\u001b[0;34m\u001b[0m\u001b[0m\n\u001b[1;32m    726\u001b[0m                 \u001b[0;32mbreak\u001b[0m\u001b[0;34m\u001b[0m\u001b[0m\n",
      "\u001b[0;31mKeyboardInterrupt\u001b[0m: "
     ]
    }
   ],
   "source": [
    "'''\n",
    "In-class activity: Ask the user to input a year and if the input is '2016' \n",
    "then print 'You are right.'\n",
    "'''\n",
    "year = raw_input('Please enter current year: ')\n",
    "while True:\n",
    "    if year == '2016':\n",
    "        print 'You are right'\n",
    "        break\n",
    "    else:\n",
    "        year = raw_input('Please try to enter correct year: ')\n",
    "        \n"
   ]
  },
  {
   "cell_type": "code",
   "execution_count": 11,
   "metadata": {
    "collapsed": false,
    "deletable": true,
    "editable": true
   },
   "outputs": [
    {
     "name": "stdout",
     "output_type": "stream",
     "text": [
      "-10  is not mulsitple of 4\n",
      "-9  is not mulsitple of 4\n",
      "-8  is multiple of 4.\n"
     ]
    }
   ],
   "source": [
    "'''\n",
    "In-class activity: Create a list that starts with -10 and goes all the way \n",
    "up to 10. Then find:\n",
    "1) all the multiples of 4\n",
    "2) stop when you found the first multiple of 4\n",
    "''' \n",
    "# list1 = range(-10,10)\n",
    "# for a in list1:\n",
    "#     if a%4 == 0:\n",
    "#         print a, ' is multiple of 4.'\n",
    "#     else:\n",
    "#         print a, ' is not mulsitple of 4'\n",
    "        \n",
    "list1 = range(-10,10)\n",
    "for a in list1:\n",
    "    if a%4 == 0:\n",
    "        print a, ' is multiple of 4.'\n",
    "        break\n",
    "    else:\n",
    "        print a, ' is not mulsitple of 4'"
   ]
  },
  {
   "cell_type": "code",
   "execution_count": null,
   "metadata": {
    "collapsed": false,
    "deletable": true,
    "editable": true
   },
   "outputs": [],
   "source": [
    "'''\n",
    "while-loop\n",
    "\n",
    "syntax\n",
    "\n",
    "while (condition):\n",
    "    statements\n",
    "    \n",
    "Note: The while loop will get executedonly when the condition is True.\n",
    "'''"
   ]
  },
  {
   "cell_type": "code",
   "execution_count": null,
   "metadata": {
    "collapsed": false,
    "deletable": true,
    "editable": true
   },
   "outputs": [],
   "source": [
    "n = 5\n",
    "while (n > 0):\n",
    "    print n\n",
    "    n -= 1\n"
   ]
  },
  {
   "cell_type": "code",
   "execution_count": null,
   "metadata": {
    "collapsed": false,
    "deletable": true,
    "editable": true
   },
   "outputs": [],
   "source": [
    "# Example of an infinite while-loop with a break statement inside the \n",
    "# if condition\n",
    "\n",
    "n = 0\n",
    "while True:\n",
    "    if n == 4:\n",
    "        print n\n",
    "        break\n",
    "    n += 1"
   ]
  },
  {
   "cell_type": "code",
   "execution_count": null,
   "metadata": {
    "collapsed": true,
    "deletable": true,
    "editable": true
   },
   "outputs": [],
   "source": [
    "n = 5\n",
    "while False:\n",
    "    if n == 4:\n",
    "        print n\n",
    "        break \n",
    "    n -= 1\n",
    "    \n",
    "# Why is this not working?"
   ]
  },
  {
   "cell_type": "code",
   "execution_count": 9,
   "metadata": {
    "collapsed": false,
    "deletable": true,
    "editable": true
   },
   "outputs": [
    {
     "name": "stdout",
     "output_type": "stream",
     "text": [
      "Please enter your name... (Press q or Q if want to stop): Solya\n",
      "None\n",
      "Please enter your name... (Press q or Q if want to stop): Me\n"
     ]
    },
    {
     "ename": "AttributeError",
     "evalue": "'NoneType' object has no attribute 'append'",
     "output_type": "error",
     "traceback": [
      "\u001b[0;31m\u001b[0m",
      "\u001b[0;31mAttributeError\u001b[0mTraceback (most recent call last)",
      "\u001b[0;32m<ipython-input-9-6ebaf3e82a3a>\u001b[0m in \u001b[0;36m<module>\u001b[0;34m()\u001b[0m\n\u001b[1;32m     18\u001b[0m             \u001b[0;32mprint\u001b[0m \u001b[0;34m'You have to enter something'\u001b[0m\u001b[0;34m\u001b[0m\u001b[0m\n\u001b[1;32m     19\u001b[0m         \u001b[0;32melse\u001b[0m\u001b[0;34m:\u001b[0m\u001b[0;34m\u001b[0m\u001b[0m\n\u001b[0;32m---> 20\u001b[0;31m             \u001b[0muserName\u001b[0m \u001b[0;34m=\u001b[0m \u001b[0muserName\u001b[0m\u001b[0;34m.\u001b[0m\u001b[0mappend\u001b[0m\u001b[0;34m(\u001b[0m\u001b[0muserName\u001b[0m\u001b[0;34m)\u001b[0m\u001b[0;34m\u001b[0m\u001b[0m\n\u001b[0m\u001b[1;32m     21\u001b[0m             \u001b[0;32mprint\u001b[0m \u001b[0muserName\u001b[0m\u001b[0;34m\u001b[0m\u001b[0m\n\u001b[1;32m     22\u001b[0m     \u001b[0;32mexcept\u001b[0m \u001b[0mtype\u001b[0m\u001b[0;34m(\u001b[0m\u001b[0muserInput\u001b[0m\u001b[0;34m)\u001b[0m \u001b[0;34m!=\u001b[0m \u001b[0mstr\u001b[0m\u001b[0;34m:\u001b[0m\u001b[0;34m\u001b[0m\u001b[0m\n",
      "\u001b[0;31mAttributeError\u001b[0m: 'NoneType' object has no attribute 'append'"
     ]
    }
   ],
   "source": [
    "'''\n",
    "In-class activity:\n",
    "Write a code that will keep taking names from the user until the user \n",
    "decides to quit by entering q or Q. Also perform a check to see whether the \n",
    "user entered anything. If the user didn't enter anything, ask them to enter \n",
    "a name. \n",
    "'''\n",
    "userName = []\n",
    "while True:\n",
    "    try:\n",
    "        userInput = raw_input('Please enter your name... (Press q or Q if want to stop): ')\n",
    "        if userInput == 'q' or userInput =='Q':\n",
    "            for i in userName:\n",
    "                print 'You entered names %s with %d characters' % (i, len(i))\n",
    "            print 'Exiting program'\n",
    "            break\n",
    "        elif userInput == '':\n",
    "            print 'You have to enter something'\n",
    "        else:\n",
    "            userName.append(userInput)     \n",
    "            print userName\n",
    "    except type(userInput) != str:\n",
    "        print 'Input type should be string, '\n",
    "        continue\n",
    "        \n",
    "        "
   ]
  },
  {
   "cell_type": "code",
   "execution_count": null,
   "metadata": {
    "collapsed": true,
    "deletable": true,
    "editable": true
   },
   "outputs": [],
   "source": []
  },
  {
   "cell_type": "code",
   "execution_count": null,
   "metadata": {
    "collapsed": true,
    "deletable": true,
    "editable": true
   },
   "outputs": [],
   "source": [
    "4\n"
   ]
  },
  {
   "cell_type": "code",
   "execution_count": null,
   "metadata": {
    "collapsed": true,
    "deletable": true,
    "editable": true
   },
   "outputs": [],
   "source": []
  }
 ],
 "metadata": {
  "anaconda-cloud": {},
  "kernelspec": {
   "display_name": "Python 2",
   "language": "python",
   "name": "python2"
  },
  "language_info": {
   "codemirror_mode": {
    "name": "ipython",
    "version": 2
   },
   "file_extension": ".py",
   "mimetype": "text/x-python",
   "name": "python",
   "nbconvert_exporter": "python",
   "pygments_lexer": "ipython2",
   "version": "2.7.13"
  }
 },
 "nbformat": 4,
 "nbformat_minor": 0
}
