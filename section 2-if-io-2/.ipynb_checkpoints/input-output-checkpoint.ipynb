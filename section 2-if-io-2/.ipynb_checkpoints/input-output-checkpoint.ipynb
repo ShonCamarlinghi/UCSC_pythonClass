{
 "cells": [
  {
   "cell_type": "markdown",
   "metadata": {
    "collapsed": false,
    "deletable": true,
    "editable": true
   },
   "source": [
    "In this notebook we will discuss the following:\n",
    "    \n",
    "1) Input and output functions\n",
    "\n",
    "2) Single and multi-line comments\n",
    "\n",
    "3) Multi line statement\n",
    "\n",
    "4) stdout using print\n",
    "\n",
    "5) formatted printing\n",
    "\n",
    "6) stdin using raw_input\n",
    "\n",
    "7) Reading from and writing to text file\n",
    "\n",
    "8) Changing and obtaining file handler's position in text file"
   ]
  },
  {
   "cell_type": "code",
   "execution_count": null,
   "metadata": {
    "collapsed": false,
    "deletable": true,
    "editable": true
   },
   "outputs": [],
   "source": [
    "a = 4\n",
    "print a # a simple print statement "
   ]
  },
  {
   "cell_type": "code",
   "execution_count": null,
   "metadata": {
    "collapsed": false,
    "deletable": true,
    "editable": true
   },
   "outputs": [],
   "source": [
    "print'the value of a is: ',a \n"
   ]
  },
  {
   "cell_type": "code",
   "execution_count": null,
   "metadata": {
    "collapsed": false,
    "deletable": true,
    "editable": true
   },
   "outputs": [],
   "source": [
    "print 'the value of a is %d' %a "
   ]
  },
  {
   "cell_type": "code",
   "execution_count": null,
   "metadata": {
    "collapsed": false,
    "deletable": true,
    "editable": true
   },
   "outputs": [],
   "source": [
    "# Single line comment in Python should start with # \n",
    "\n",
    "'''\n",
    "Multiple line comments should either start and end with three single \n",
    "quotes or start and end with three double quotes.\n",
    "'''\n",
    "# or\n",
    "\n",
    "\"\"\"\n",
    "Multiple line comments should either start and end with three single \n",
    "quotes or start and end with three double quotes.\n",
    "\"\"\""
   ]
  },
  {
   "cell_type": "code",
   "execution_count": null,
   "metadata": {
    "collapsed": false,
    "deletable": true,
    "editable": true
   },
   "outputs": [],
   "source": [
    "'''\n",
    "Multi-line statements can be indicated by '\\' at the end of each line except \n",
    "for the last line\n",
    "\n",
    "total = item_one + \\\n",
    "        item_two + \\\n",
    "        item_three\n",
    "\n",
    "'''\n",
    "a = 4 + \\\n",
    "    5 + \\\n",
    "    10 \n",
    "\n",
    "\n",
    "print 'the value is: %d' %a # this is an example of a formatted print\n",
    "print a\n",
    "print a + 1"
   ]
  },
  {
   "cell_type": "code",
   "execution_count": null,
   "metadata": {
    "collapsed": false,
    "deletable": true,
    "editable": true
   },
   "outputs": [],
   "source": [
    "# stringA.upper() converts stringA to uppercase\n",
    "a = 'apple'\n",
    "print a.upper()"
   ]
  },
  {
   "cell_type": "code",
   "execution_count": null,
   "metadata": {
    "collapsed": false,
    "deletable": true,
    "editable": true
   },
   "outputs": [],
   "source": [
    "# stringA.lower() converts stringA to lowercase\n",
    "a = 'Hyderabad'\n",
    "print a.lower()\n",
    "\n",
    "b = 'BANANA'\n",
    "print b.lower()"
   ]
  },
  {
   "cell_type": "code",
   "execution_count": null,
   "metadata": {
    "collapsed": false,
    "deletable": true,
    "editable": true
   },
   "outputs": [],
   "source": [
    "# formatted printing\n",
    "print '{0} and {1}'.format('san jose','santa clara')"
   ]
  },
  {
   "cell_type": "code",
   "execution_count": null,
   "metadata": {
    "collapsed": false,
    "deletable": true,
    "editable": true
   },
   "outputs": [],
   "source": [
    "print '{0} and {1}'.format('san jose') # fails as we need to provide two values"
   ]
  },
  {
   "cell_type": "code",
   "execution_count": null,
   "metadata": {
    "collapsed": false,
    "deletable": true,
    "editable": true
   },
   "outputs": [],
   "source": [
    "print '{0}'.format('san jose','santa clara') \n",
    "# the first value in the list will be printed"
   ]
  },
  {
   "cell_type": "code",
   "execution_count": null,
   "metadata": {
    "collapsed": false,
    "deletable": true,
    "editable": true
   },
   "outputs": [],
   "source": [
    "print '{nearcity} and {farcity}'.format(farcity='Sacramento',nearcity='San jose')"
   ]
  },
  {
   "cell_type": "code",
   "execution_count": null,
   "metadata": {
    "collapsed": false,
    "deletable": true,
    "editable": true
   },
   "outputs": [],
   "source": [
    "import math \n",
    "print 'PI = %0.5f' %(math.pi) # The () is optional for one input"
   ]
  },
  {
   "cell_type": "code",
   "execution_count": null,
   "metadata": {
    "collapsed": false,
    "deletable": true,
    "editable": true
   },
   "outputs": [],
   "source": [
    "a = 5\n",
    "b = 3.25\n",
    "c = '5.6'\n",
    "print 'a = %03d b = %0.2f c = %s' %(a,b,c)"
   ]
  },
  {
   "cell_type": "code",
   "execution_count": null,
   "metadata": {
    "collapsed": false,
    "deletable": true,
    "editable": true
   },
   "outputs": [],
   "source": [
    "'''\n",
    "raw_input() gets input from the command line.\n",
    "In this example, we are getting the input from the user and assigning it \n",
    "to variable s.\n",
    "'''\n",
    "s = raw_input('Enter a name : ')\n",
    "print s"
   ]
  },
  {
   "cell_type": "code",
   "execution_count": null,
   "metadata": {
    "collapsed": false,
    "deletable": true,
    "editable": true
   },
   "outputs": [],
   "source": [
    "a = 'r'\n",
    "b = str(2)\n",
    "print a+b"
   ]
  },
  {
   "cell_type": "code",
   "execution_count": null,
   "metadata": {
    "collapsed": false,
    "deletable": true,
    "editable": true
   },
   "outputs": [],
   "source": [
    "'''\n",
    "In-class activity: Can you insert a space between r and 2? If yes, then \n",
    "implement it. \n",
    "'''"
   ]
  },
  {
   "cell_type": "code",
   "execution_count": null,
   "metadata": {
    "collapsed": false,
    "deletable": true,
    "editable": true
   },
   "outputs": [],
   "source": [
    "'''\n",
    "In-class activity: Can you ask the user to enter an integer greater than 50. \n",
    "Then print the value and also its type.\n",
    "'''\n"
   ]
  },
  {
   "cell_type": "code",
   "execution_count": null,
   "metadata": {
    "collapsed": false,
    "deletable": true,
    "editable": true
   },
   "outputs": [],
   "source": [
    "'''\n",
    "Note - Go to for-loop iPython notebook. \n",
    "'''"
   ]
  },
  {
   "cell_type": "code",
   "execution_count": null,
   "metadata": {
    "collapsed": false,
    "deletable": true,
    "editable": true
   },
   "outputs": [],
   "source": [
    "# f is a filehandler\n",
    "f = open('python_list.txt')\n",
    "# readlines reads one line at a time from the file\n",
    "# Syntax filehandle.readlines()\n",
    "for line in f.readlines():\n",
    "    print line.strip() \n",
    "# strip removes newline, carriage return, space etc at the beginning and \n",
    "# at the end of the line\n",
    "f.close()"
   ]
  },
  {
   "cell_type": "code",
   "execution_count": null,
   "metadata": {
    "collapsed": false,
    "deletable": true,
    "editable": true
   },
   "outputs": [],
   "source": [
    "# f is a filehandler\n",
    "f = open('python_list.txt')\n",
    "# readlines reads one line at a time from the file\n",
    "# Syntax filehandle.readlines()\n",
    "for line in f.readlines():\n",
    "    cleanedline = line.strip() \n",
    "    if cleanedline:\n",
    "        print cleanedline\n",
    "f.close()"
   ]
  },
  {
   "cell_type": "code",
   "execution_count": null,
   "metadata": {
    "collapsed": false,
    "deletable": true,
    "editable": true
   },
   "outputs": [],
   "source": [
    "fo = open('python_list.txt', 'r')\n",
    "print fo.readlines()\n",
    "# fo.readlines is a list of string where each item in the list is a string.\n",
    "\n",
    "# Why does the for-loop not produce any output ???\n",
    "for items in fo.readlines():\n",
    "    print 'inside for-loop',items\n",
    "fo.close()"
   ]
  },
  {
   "cell_type": "code",
   "execution_count": null,
   "metadata": {
    "collapsed": false,
    "deletable": true,
    "editable": true
   },
   "outputs": [],
   "source": [
    "# tell() returns the current position within the file. \n",
    "fo = open('python_list.txt', 'r')\n",
    "for items in fo.readlines():\n",
    "    print items\n",
    "print fo.tell()\n",
    "\n",
    "#fo.close()"
   ]
  },
  {
   "cell_type": "markdown",
   "metadata": {
    "deletable": true,
    "editable": true
   },
   "source": [
    "seek() changes the current file position\n",
    "syntax - \n",
    "```\n",
    "filehandler.seek(offset, position)\n",
    "```\n",
    "\n",
    "The number of bytes to be moved is given in offset argument.\n",
    "In the position argument the bytes are to be moved is given.\n",
    "position = 0, means the reference position is the beginning of the file\n",
    "position = 1, means the reference position is the current position \n",
    "position = 2, means the reference position is the end of the file"
   ]
  },
  {
   "cell_type": "code",
   "execution_count": null,
   "metadata": {
    "collapsed": false,
    "deletable": true,
    "editable": true
   },
   "outputs": [],
   "source": [
    "fo.seek(3,1)\n",
    "print fo.tell()\n",
    "print fo.read(5)\n",
    "\n",
    "fo.seek(1,0)\n",
    "print fo.tell()\n",
    "print fo.read(5)\n",
    "\n",
    "fo.seek(1,2)\n",
    "print fo.tell()\n",
    "print fo.read(3)"
   ]
  },
  {
   "cell_type": "code",
   "execution_count": null,
   "metadata": {
    "collapsed": false,
    "deletable": true,
    "editable": true
   },
   "outputs": [],
   "source": [
    "fo.seek(0,0)\n",
    "print fo.tell()\n",
    "for i in fo.readlines():\n",
    "    print i"
   ]
  },
  {
   "cell_type": "code",
   "execution_count": null,
   "metadata": {
    "collapsed": false,
    "deletable": true,
    "editable": true
   },
   "outputs": [],
   "source": [
    "# Writing a file\n",
    "fo = open('python_list1.txt', 'w+') \n",
    "# here the text file is opened in write and read mode. \n",
    "fo.writelines('1,2,3\\n')\n",
    "fo.writelines('a,b,c\\n')\n",
    "print fo\n",
    "fo.close()\n",
    "\n",
    "fo = open('python_list1.txt', 'r')\n",
    "for items in fo.readlines():\n",
    "    print items.strip()\n",
    "fo.close()"
   ]
  },
  {
   "cell_type": "code",
   "execution_count": null,
   "metadata": {
    "collapsed": false,
    "deletable": true,
    "editable": true
   },
   "outputs": [],
   "source": [
    "# appending to a file\n",
    "fo = open('python_list1.txt','a') \n",
    "# here the text file is opened in append mode\n",
    "fo.writelines('little puppy\\n')\n",
    "fo.writelines('cute cub \\n')\n",
    "print fo\n",
    "fo.close()\n",
    "\n",
    "fo = open('python_list1.txt','a+')\n",
    "for items in fo.readlines():\n",
    "    print items.strip()\n",
    "fo.close()"
   ]
  },
  {
   "cell_type": "markdown",
   "metadata": {
    "deletable": true,
    "editable": true
   },
   "source": [
    "The with keyword is called the context manager.\n",
    "It will close the file whether or not there is an exception."
   ]
  },
  {
   "cell_type": "code",
   "execution_count": null,
   "metadata": {
    "collapsed": false,
    "deletable": true,
    "editable": true
   },
   "outputs": [],
   "source": [
    "with open('python_list1.txt', 'r') as fo:\n",
    "    for items in fo.readlines():\n",
    "        print items.strip()\n",
    "# close does not have to be called exclusively "
   ]
  },
  {
   "cell_type": "code",
   "execution_count": 4,
   "metadata": {
    "collapsed": false,
    "deletable": true,
    "editable": true
   },
   "outputs": [
    {
     "name": "stdout",
     "output_type": "stream",
     "text": [
      "<closed file 'MyText.txt', mode 'w+' at 0x104830a50>\n"
     ]
    }
   ],
   "source": [
    "'''\n",
    "In-class activity: Create a txt file and write names of 4 states and close \n",
    "the file. Then open the file and print each line. \n",
    "'''\n",
    "f = open('MyText.txt', 'w+')\n",
    "f.writelines('California\\n')\n",
    "f.writelines('Oregon\\n')\n",
    "f.writelines('Alaska\\n')\n",
    "f.writelines('Oregon\\n')\n",
    "f.seek(0,0)\n",
    "for i in f.readlines():\n",
    "    print i.strip()\n",
    "f.close()\n",
    "print f"
   ]
  },
  {
   "cell_type": "code",
   "execution_count": null,
   "metadata": {
    "collapsed": false,
    "deletable": true,
    "editable": true
   },
   "outputs": [],
   "source": [
    "'''\n",
    "Instead of Python 2.7 raw_input(), in Python 3, you should use input().\n",
    "'''"
   ]
  }
 ],
 "metadata": {
  "anaconda-cloud": {},
  "kernelspec": {
   "display_name": "Python 2",
   "language": "python",
   "name": "python2"
  },
  "language_info": {
   "codemirror_mode": {
    "name": "ipython",
    "version": 2
   },
   "file_extension": ".py",
   "mimetype": "text/x-python",
   "name": "python",
   "nbconvert_exporter": "python",
   "pygments_lexer": "ipython2",
   "version": "2.7.13"
  }
 },
 "nbformat": 4,
 "nbformat_minor": 0
}
