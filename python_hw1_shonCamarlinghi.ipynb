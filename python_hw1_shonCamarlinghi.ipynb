{
 "cells": [
  {
   "cell_type": "code",
   "execution_count": 1,
   "metadata": {
    "collapsed": false,
    "deletable": true,
    "editable": true
   },
   "outputs": [
    {
     "name": "stdout",
     "output_type": "stream",
     "text": [
      "Austin: 50\n"
     ]
    }
   ],
   "source": [
    "# Question 1 (3 points) :  places = {'San Antonio':100, 'Austin':50, 'Houston':200, 'Dallas':75}. \n",
    "# The key in this dictionary is the name of a place and the value is the distance of that place from some origin.  \n",
    "# To the standard output print the place and the distance that is closest to the origin.\n",
    "\n",
    "places = {'San Antonio':100, 'Austin':50, 'Houston':200, 'Dallas':75}\n",
    "for key, value in sorted(places.iteritems(), key=lambda (k,v): (v,k)):\n",
    "    print \"%s: %s\" % (key, value) \n",
    "    break   #print first key-value pair as it is the smallest, and get out of a loop"
   ]
  },
  {
   "cell_type": "code",
   "execution_count": 6,
   "metadata": {
    "collapsed": false,
    "deletable": true,
    "editable": true
   },
   "outputs": [
    {
     "name": "stdout",
     "output_type": "stream",
     "text": [
      "Enter temperature value in Fahrenheit: 98.8\n",
      "37.11\n"
     ]
    }
   ],
   "source": [
    "# Question 2 (4 points) Get the Fahrenheit temperature from the user. \n",
    "# Define a function called cel_fah that would convert Fahrenheit to Celsius using the formula C = (F-32)*5/9. \n",
    "# Make a call to cel_fah function and print the Celsius value.\n",
    "\n",
    "def cel_fah():\n",
    "    F = float(raw_input(\"Enter temperature value in Fahrenheit: \"))\n",
    "    C = (F-32)*5/9\n",
    "    print \"%.2f\"% C\n",
    "    \n",
    "cel_fah()\n"
   ]
  },
  {
   "cell_type": "code",
   "execution_count": null,
   "metadata": {
    "collapsed": false,
    "deletable": true,
    "editable": true
   },
   "outputs": [
    {
     "name": "stdout",
     "output_type": "stream",
     "text": [
      "Please enter your name... (Press q or Q if want to stop): Solya\n",
      "['Solya']\n",
      "Please enter your name... (Press q or Q if want to stop): Me\n",
      "['Solya', 'Me']\n"
     ]
    }
   ],
   "source": [
    "# Question 3 (3 points) Keep getting names from the user until the user decides to quit by entering 'Q' or 'q'. \n",
    "# If the user doesn't enter a name, then inform them that they can't leave it blank. \n",
    "# Check the number of characters in the name. Print the names and the number of characters to the standard output.\n",
    "\n",
    "userName = []\n",
    "while True:\n",
    "    try:\n",
    "        userInput = raw_input('Please enter your name... (Press q or Q if want to stop): ')\n",
    "        if userInput == 'q' or userInput =='Q':\n",
    "            print 'You entered names: '\n",
    "            for i in userName:\n",
    "                print '%s with %d characters' % (i, len(i))\n",
    "            print 'Bye-bye! :)'\n",
    "            break\n",
    "        elif userInput == '':\n",
    "            print 'You have to enter something'\n",
    "        else:\n",
    "            userName.append(userInput)     \n",
    "            print userName\n",
    "    except type(userInput) != str:\n",
    "        print 'Input type should be string, try again'\n",
    "        continue\n",
    "        \n",
    "    "
   ]
  },
  {
   "cell_type": "code",
   "execution_count": null,
   "metadata": {
    "collapsed": true,
    "deletable": true,
    "editable": true
   },
   "outputs": [],
   "source": []
  }
 ],
 "metadata": {
  "kernelspec": {
   "display_name": "Python 2",
   "language": "python",
   "name": "python2"
  },
  "language_info": {
   "codemirror_mode": {
    "name": "ipython",
    "version": 2
   },
   "file_extension": ".py",
   "mimetype": "text/x-python",
   "name": "python",
   "nbconvert_exporter": "python",
   "pygments_lexer": "ipython2",
   "version": "2.7.13"
  }
 },
 "nbformat": 4,
 "nbformat_minor": 2
}
