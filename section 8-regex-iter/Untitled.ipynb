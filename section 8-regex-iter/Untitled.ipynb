{
 "cells": [
  {
   "cell_type": "code",
   "execution_count": 4,
   "metadata": {
    "collapsed": false
   },
   "outputs": [
    {
     "name": "stdout",
     "output_type": "stream",
     "text": [
      "4\n"
     ]
    }
   ],
   "source": [
    "\"\"\"Write a class called Sum_All with an init method that takes two values and a sum_print \n",
    "method that will add the two values and prints them. Create an instance of the class and pass -7 and 10.\"\"\"\n",
    "class Sum_All(object):\n",
    "    def add(self, a, b):\n",
    "        __init__= self\n",
    "        self.a = a\n",
    "        self.b = b\n",
    "        self.sum = self.a + self.b\n",
    "        print self.sum\n",
    "s = Sum_All()\n",
    "s = s.add(1, 3)\n",
    "\n"
   ]
  },
  {
   "cell_type": "code",
   "execution_count": 11,
   "metadata": {
    "collapsed": false
   },
   "outputs": [
    {
     "name": "stdout",
     "output_type": "stream",
     "text": [
      "10\n"
     ]
    }
   ],
   "source": [
    "import re\n",
    "a = '191089102363'\n",
    "m = re.search('10', a)\n",
    "found = m.group()\n",
    "print found\n",
    "\n",
    "# a.findall('10')\n",
    "\n"
   ]
  },
  {
   "cell_type": "code",
   "execution_count": null,
   "metadata": {
    "collapsed": true
   },
   "outputs": [],
   "source": []
  }
 ],
 "metadata": {
  "kernelspec": {
   "display_name": "Python 2",
   "language": "python",
   "name": "python2"
  },
  "language_info": {
   "codemirror_mode": {
    "name": "ipython",
    "version": 2
   },
   "file_extension": ".py",
   "mimetype": "text/x-python",
   "name": "python",
   "nbconvert_exporter": "python",
   "pygments_lexer": "ipython2",
   "version": "2.7.13"
  }
 },
 "nbformat": 4,
 "nbformat_minor": 2
}
