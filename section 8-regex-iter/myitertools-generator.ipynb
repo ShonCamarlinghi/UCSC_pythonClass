{
 "cells": [
  {
   "cell_type": "code",
   "execution_count": null,
   "metadata": {
    "collapsed": false,
    "deletable": true,
    "editable": true
   },
   "outputs": [],
   "source": [
    "'''\n",
    "Itertools - are used for memory efficiency. \n",
    "\n",
    "Check the following links:\n",
    "\n",
    "https://docs.python.org/2/library/itertools.html\n",
    "http://pymotw.com/2/itertools/\n",
    "'''"
   ]
  },
  {
   "cell_type": "code",
   "execution_count": 5,
   "metadata": {
    "collapsed": false,
    "deletable": true,
    "editable": true
   },
   "outputs": [
    {
     "name": "stdout",
     "output_type": "stream",
     "text": [
      "<itertools.chain object at 0x1045d5f50>\n",
      "1 2 3 4 5 6 a b c d f g\n"
     ]
    }
   ],
   "source": [
    "import itertools  #used for memory efficiency\n",
    "list1 = [1,2,3,4,5,6]\n",
    "list2 = ['a','b','c','d','f','g']\n",
    "# chain() function takes several iterators as arguments and returns a single \n",
    "# iterator that produces the contents of all of them as though they came \n",
    "# from a single sequence\n",
    "print itertools.chain(list1,list2) # creates a chain object, it is not list data types anymore\n",
    "\n",
    "for v in itertools.chain(list1,list2): \n",
    "    print v,"
   ]
  },
  {
   "cell_type": "code",
   "execution_count": 7,
   "metadata": {
    "collapsed": false,
    "deletable": true,
    "editable": true
   },
   "outputs": [
    {
     "name": "stdout",
     "output_type": "stream",
     "text": [
      "(1, 'a') (2, 'b') (3, 'c') (4, 'd') (5, 'f') (6, 'g')\n"
     ]
    }
   ],
   "source": [
    "# izip() function takes several iterators and combines their elements into tuples.\n",
    "for v in itertools.izip(list1,list2):\n",
    "    print v,"
   ]
  },
  {
   "cell_type": "code",
   "execution_count": 8,
   "metadata": {
    "collapsed": false,
    "deletable": true,
    "editable": true
   },
   "outputs": [
    {
     "name": "stdout",
     "output_type": "stream",
     "text": [
      "(1, 'e') (2, 'o')\n"
     ]
    }
   ],
   "source": [
    "list3 = ['e','o']\n",
    "for v in itertools.izip(list1,list3):\n",
    "    print v,"
   ]
  },
  {
   "cell_type": "code",
   "execution_count": null,
   "metadata": {
    "collapsed": false,
    "deletable": true,
    "editable": true
   },
   "outputs": [],
   "source": [
    "# allows us to combine two lists\n",
    "c = itertools.izip(list1,list2)\n",
    "# here c is an iterator\n",
    "print c\n",
    "for v in c:\n",
    "    print v,"
   ]
  },
  {
   "cell_type": "code",
   "execution_count": null,
   "metadata": {
    "collapsed": false,
    "deletable": true,
    "editable": true
   },
   "outputs": [],
   "source": [
    "# islice() function returns an iterator which returns slected items from the \n",
    "# input iterator based on index. We are slicing through list2 and want to \n",
    "# stop when we hit the second item.\n",
    "for v in itertools.islice(list2, 2): \n",
    "    print v,"
   ]
  },
  {
   "cell_type": "code",
   "execution_count": null,
   "metadata": {
    "collapsed": false,
    "deletable": true,
    "editable": true
   },
   "outputs": [],
   "source": [
    "for v in itertools.islice(list2, 2, 4): \n",
    "    print v,"
   ]
  },
  {
   "cell_type": "code",
   "execution_count": null,
   "metadata": {
    "collapsed": false,
    "deletable": true,
    "editable": true
   },
   "outputs": [],
   "source": [
    "# tee(list,number) function returns several independent iterators \n",
    "# (default number is 2) based on a single original input. In the following \n",
    "# example we use tee function to create two copies of b.\n",
    "t1,t2 = itertools.tee(list2)\n",
    "\n",
    "print t1,t2\n",
    "for v in t1:\n",
    "    print v,\n",
    "print\n",
    "for v in t2:\n",
    "    print v,"
   ]
  },
  {
   "cell_type": "code",
   "execution_count": null,
   "metadata": {
    "collapsed": false,
    "deletable": true,
    "editable": true
   },
   "outputs": [],
   "source": [
    "# Creates three copies of list2\n",
    "t1,t2,t3 = itertools.tee(list2,3) \n",
    "# for two copies you don't need to specify number of copies\n",
    "print t1,t2,t3\n",
    "for v in t1:\n",
    "    print v,\n",
    "print \n",
    "for v in t3:\n",
    "    print v,"
   ]
  },
  {
   "cell_type": "code",
   "execution_count": null,
   "metadata": {
    "collapsed": false,
    "deletable": true,
    "editable": true
   },
   "outputs": [],
   "source": [
    "# imap() function assigns elements from the input iterator(s) to a mapping \n",
    "# function and returns the results.\n",
    "for v in itertools.imap(lambda x:2*x, list1):\n",
    "    print v,"
   ]
  },
  {
   "cell_type": "code",
   "execution_count": null,
   "metadata": {
    "collapsed": false,
    "deletable": true,
    "editable": true
   },
   "outputs": [],
   "source": [
    "# starmap function is similar to imap, but instead of constructing a tuple \n",
    "# from multiple iterators, it splits up the terms in a single iterator and \n",
    "# assigns them as arguments to the mapping function that uses the * operation.\n",
    "c = [(0, 5), (1, 6), (2, 7), (3, 8), (4, 9)]\n",
    "for i in itertools.starmap(lambda x,y:(x, y, x*y),c ):\n",
    "    print  i,"
   ]
  },
  {
   "cell_type": "code",
   "execution_count": 3,
   "metadata": {
    "collapsed": false,
    "deletable": true,
    "editable": true
   },
   "outputs": [
    {
     "name": "stdout",
     "output_type": "stream",
     "text": [
      "Even number: -2\n",
      "Even number: 2\n",
      "Even number: 8\n",
      "Even number: -10\n"
     ]
    }
   ],
   "source": [
    "# ifilter() returns an iterator that works similar to the filter()\n",
    "def checkeven(x):\n",
    "    return (x%2==0)\n",
    "\n",
    "for i in itertools.ifilter(checkeven, [ -2, 1, 2, 5, 8, -10 ]): #ifilter effitiently searches for item in huge list wth million items\n",
    "    print 'Even number:', i"
   ]
  },
  {
   "cell_type": "code",
   "execution_count": null,
   "metadata": {
    "collapsed": true,
    "deletable": true,
    "editable": true
   },
   "outputs": [],
   "source": [
    "'''\n",
    "In-class activity\n",
    "\n",
    "You are given a dictionary dict1 = {1:'a',2:'c',3:'d'}\n",
    "You need to convert this into an iterator with multiple tuples \n",
    "in it and print \n",
    "(1, 'a')\n",
    "(2, 'c')\n",
    "(3, 'd')\n",
    "'''"
   ]
  },
  {
   "cell_type": "code",
   "execution_count": null,
   "metadata": {
    "collapsed": false,
    "deletable": true,
    "editable": true
   },
   "outputs": [],
   "source": [
    "'''\n",
    "Creating generators - so far we have see functions that return a single value. \n",
    "But sometimes we might want functions that yield a series of values. In an \n",
    "ordinary function, a return statement will return the control of execution \n",
    "to the point where the function was called. An yield statement means that \n",
    "the transfer of control is temporary and voluntary, and our function expects \n",
    "to regain it in the future.\n",
    "\n",
    "http://www.jeffknupp.com/blog/2013/04/07/improve-your-python-yield-and-generators-explained/\n",
    "\n",
    "'''"
   ]
  },
  {
   "cell_type": "code",
   "execution_count": null,
   "metadata": {
    "collapsed": false,
    "deletable": true,
    "editable": true
   },
   "outputs": [],
   "source": [
    "# Example of a simple generator\n",
    "def simple_generator():\n",
    "    yield 1\n",
    "    yield 2\n",
    "    yield 3\n",
    "    \n",
    "\n",
    "for item in simple_generator():\n",
    "    print item"
   ]
  },
  {
   "cell_type": "code",
   "execution_count": null,
   "metadata": {
    "collapsed": false,
    "deletable": true,
    "editable": true
   },
   "outputs": [],
   "source": [
    "# Check out the inner working of this using pythontutor.com\n",
    "def myiter(iters):\n",
    "    for i in iters:\n",
    "        print \"before \",i\n",
    "        yield i*i*i\n",
    "        # Statements after yield is executed\n",
    "        print \"after \",i\n",
    "        j = i+21\n",
    "        yield j\n",
    "        \n",
    "for items in myiter(xrange(2)):\n",
    "    print \"inside for-loop\",items"
   ]
  },
  {
   "cell_type": "code",
   "execution_count": null,
   "metadata": {
    "collapsed": false,
    "deletable": true,
    "editable": true
   },
   "outputs": [],
   "source": [
    "def squared_generator(listofnumbers):\n",
    "    for items in listofnumbers:\n",
    "        yield items*items\n",
    "        \n",
    "print squared_generator([5, 6, 7, 8])\n",
    "\n",
    "for items in squared_generator([5, 6, 7, 8]):\n",
    "    print items,"
   ]
  },
  {
   "cell_type": "code",
   "execution_count": null,
   "metadata": {
    "collapsed": false,
    "deletable": true,
    "editable": true
   },
   "outputs": [],
   "source": [
    "# Generator expressions (some refer to it as generator comprehension) \n",
    "# are high performance, memory efficient generalization of list comprehensions and generators.\n",
    "\n",
    "gen = (x*x for x in range(1,16))\n",
    "print gen\n",
    "\n",
    "for i in gen:\n",
    "    print i,"
   ]
  },
  {
   "cell_type": "code",
   "execution_count": null,
   "metadata": {
    "collapsed": true,
    "deletable": true,
    "editable": true
   },
   "outputs": [],
   "source": [
    "'''\n",
    "\n",
    "Iterator is a generalization of generator. Hence a generator is a iterator but not \n",
    "all iterators are generators. \n",
    "\n",
    "Syntactically, a generator uses yield keyword inside any function while an \n",
    "iterator uses __iter__() function.  The __iter__() is called when the objects is called\n",
    "in a loop. The __iter__() function may or may not use yield keyword to return.\n",
    "\n",
    "'''"
   ]
  },
  {
   "cell_type": "code",
   "execution_count": null,
   "metadata": {
    "collapsed": false,
    "deletable": true,
    "editable": true
   },
   "outputs": [],
   "source": [
    "class SquareIter(object):\n",
    "    def __init__(self, iterobj):\n",
    "        self.iterobj = iterobj\n",
    "        self.count = 0\n",
    "        \n",
    "    def __iter__(self):\n",
    "        return self\n",
    "    \n",
    "    # In Python 3, use __next__()\n",
    "    def next(self):        \n",
    "        if self.count >= len(self.iterobj):\n",
    "            raise StopIteration\n",
    "        else:\n",
    "            val = self.iterobj[self.count]\n",
    "            self.count += 1\n",
    "            return val*val\n",
    "       \n",
    "si = SquareIter([5, 6, 7, 8])\n",
    "for i in si:\n",
    "    print i,\n"
   ]
  },
  {
   "cell_type": "code",
   "execution_count": null,
   "metadata": {
    "collapsed": false,
    "deletable": true,
    "editable": true
   },
   "outputs": [],
   "source": [
    "'''\n",
    "In-class activity - \n",
    "\n",
    "You are given a dictionary dict1 = {1:'a',2:'c',3:'d'}\n",
    "You need to convert this into an generator with multiple tuples in it and print \n",
    "(1, 'a')\n",
    "(2, 'c')\n",
    "(3, 'd')\n",
    "\n",
    "'''"
   ]
  },
  {
   "cell_type": "code",
   "execution_count": null,
   "metadata": {
    "collapsed": true,
    "deletable": true,
    "editable": true
   },
   "outputs": [],
   "source": []
  }
 ],
 "metadata": {
  "kernelspec": {
   "display_name": "Python 2",
   "language": "python",
   "name": "python2"
  },
  "language_info": {
   "codemirror_mode": {
    "name": "ipython",
    "version": 2
   },
   "file_extension": ".py",
   "mimetype": "text/x-python",
   "name": "python",
   "nbconvert_exporter": "python",
   "pygments_lexer": "ipython2",
   "version": "2.7.13"
  }
 },
 "nbformat": 4,
 "nbformat_minor": 0
}
