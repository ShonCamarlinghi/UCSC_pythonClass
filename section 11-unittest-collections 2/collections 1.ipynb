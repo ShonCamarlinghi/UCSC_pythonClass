{
 "cells": [
  {
   "cell_type": "markdown",
   "metadata": {},
   "source": [
    "Collections module contains specialized data type that can be used in addition to basic data \n",
    "types such as list, dictionary, set and tuple.\n",
    "\n",
    "Some of the datatypes available in the collection modules are\n",
    "\n",
    "1. Counter\n",
    "2. Named Tuple\n",
    "3. Default Dictionary\n",
    "4. Ordered Dictionary\n",
    "5. Deque or Double Ended Queue (pronunciation: deck)\n",
    "\n",
    "References:\n",
    "\n",
    "https://docs.python.org/2/library/collections.html\n",
    "\n",
    "http://pymotw.com/2/collections/"
   ]
  },
  {
   "cell_type": "markdown",
   "metadata": {},
   "source": [
    "A counter keeps track of number of times an element appears. As the name \n",
    "indicates, a counter is used to count objects.  This can be implemented \n",
    "in multiple ways but counter is an efficient method"
   ]
  },
  {
   "cell_type": "code",
   "execution_count": 1,
   "metadata": {
    "collapsed": false
   },
   "outputs": [
    {
     "name": "stdout",
     "output_type": "stream",
     "text": [
      "Counter({'o': 3, ' ': 2, 'c': 1, 'i': 1, 'h': 1, 'l': 1, 'n': 1, 'P': 1, 's': 1, 't': 1, 'y': 1})\n"
     ]
    }
   ],
   "source": [
    "import collections\n",
    "c = collections.Counter(\"Python is cool\") \n",
    "print c # Prints the individual letter and also its frequency"
   ]
  },
  {
   "cell_type": "code",
   "execution_count": 2,
   "metadata": {
    "collapsed": false
   },
   "outputs": [
    {
     "name": "stdout",
     "output_type": "stream",
     "text": [
      "Counter({' ': 2, 'c': 1, 'i': 1, 'h': 1, 'l': 1, 'o': 1, 'n': 1, 'P': 1, 's': 1, 't': 1, 'y': 1})\n"
     ]
    }
   ],
   "source": [
    "# Resetting the value of 'o' to 1\n",
    "c['o'] = 1\n",
    "print c"
   ]
  },
  {
   "cell_type": "code",
   "execution_count": null,
   "metadata": {
    "collapsed": true
   },
   "outputs": [],
   "source": [
    "print c.values() # This will return all the values\n",
    "for k,v in c.iteritems(): # You can iterate through a counter like dictionary\n",
    "    print k,v"
   ]
  },
  {
   "cell_type": "code",
   "execution_count": null,
   "metadata": {
    "collapsed": true
   },
   "outputs": [],
   "source": [
    "# We can perform operations on a counter\n",
    "c1 = collections.Counter(['s', 'a', 'n', 'j', 'o', 's','e'])\n",
    "c2 = collections.Counter('santaclara')\n",
    "print c1\n",
    "print c2"
   ]
  },
  {
   "cell_type": "code",
   "execution_count": null,
   "metadata": {
    "collapsed": true
   },
   "outputs": [],
   "source": [
    "# Addition combines the values in the two containers\n",
    "print c1+c2 "
   ]
  },
  {
   "cell_type": "code",
   "execution_count": null,
   "metadata": {
    "collapsed": true
   },
   "outputs": [],
   "source": [
    "'''\n",
    "Subtraction removes the value from c1 that is present in c2\n",
    "If the difference between the value is negative that key is ignored\n",
    "'''\n",
    "print c1-c2 "
   ]
  },
  {
   "cell_type": "code",
   "execution_count": null,
   "metadata": {
    "collapsed": true
   },
   "outputs": [],
   "source": [
    "print c2-c1"
   ]
  },
  {
   "cell_type": "code",
   "execution_count": null,
   "metadata": {
    "collapsed": true
   },
   "outputs": [],
   "source": [
    "# Intersection finds the positive minimum value\n",
    "print c1 & c2 "
   ]
  },
  {
   "cell_type": "code",
   "execution_count": null,
   "metadata": {
    "collapsed": true
   },
   "outputs": [],
   "source": [
    "# Union keeps the highest value in one of the two in the final result\n",
    "print c1 | c2 "
   ]
  },
  {
   "cell_type": "markdown",
   "metadata": {},
   "source": [
    "Named tuple allows indexing of its content by name instead of numbers \n",
    "that is default in tuple."
   ]
  },
  {
   "cell_type": "code",
   "execution_count": 3,
   "metadata": {
    "collapsed": false
   },
   "outputs": [
    {
     "name": "stdout",
     "output_type": "stream",
     "text": [
      "Newton\n"
     ]
    }
   ],
   "source": [
    "basictuple = ('Newton',84,'Scientist')\n",
    "print basictuple[0] # To index, we need to use a number"
   ]
  },
  {
   "cell_type": "code",
   "execution_count": 4,
   "metadata": {
    "collapsed": false
   },
   "outputs": [
    {
     "name": "stdout",
     "output_type": "stream",
     "text": [
      "FamousPeople(name='Newton', age=84, occupation='Scientist')\n",
      "Newton\n"
     ]
    }
   ],
   "source": [
    "import collections\n",
    "FamousPeople = collections.namedtuple('FamousPeople','name age occupation') # Definition\n",
    "f1 = FamousPeople(name=\"Newton\",age=84,occupation=\"Scientist\") # Instance of the named tuple\n",
    "print f1\n",
    "print f1.name # We can access it using variable name instead of a number"
   ]
  },
  {
   "cell_type": "code",
   "execution_count": null,
   "metadata": {
    "collapsed": true
   },
   "outputs": [],
   "source": [
    "'''\n",
    "Named tuples are similar to C-style structure\n",
    "If you recall from our previous lecture on Python classes\n",
    "C style struct that has class variables but no methods \n",
    "'''\n",
    "\n",
    "class Person:\n",
    "    pass\n",
    "\n",
    "# Create an instance of Person class.  This is called object\n",
    "leo = Person()\n",
    "# we are giving class attributes here and there are no methods\n",
    "leo.name = 'Leo Euler' \n",
    "leo.zipcode = '95117'\n",
    "leo.ssn = '123-45-6789'\n",
    "\n",
    "print leo\n",
    "print leo.name, leo.zipcode, leo.ssn"
   ]
  },
  {
   "cell_type": "markdown",
   "metadata": {},
   "source": [
    "We can convert this into a named tuple. This version is more cleaner and also there\n",
    "is no monkey-patching, a process of adding code after the definition has been given.\n",
    "In the struct, the defintion is in the class Person but we add variables after the \n",
    "instance has been created."
   ]
  },
  {
   "cell_type": "code",
   "execution_count": null,
   "metadata": {
    "collapsed": true
   },
   "outputs": [],
   "source": [
    "import collections\n",
    "People = collections.namedtuple('People','name zipcode ssn')\n",
    "leo = People(name='Leo Euler', zipcode =  '95117', ssn = '123-45-6789')\n",
    "print leo\n",
    "print leo.name, leo.zipcode, leo.ssn"
   ]
  },
  {
   "cell_type": "markdown",
   "metadata": {},
   "source": [
    "Regular dictionary\n",
    "\n",
    "For versions before Python 3.6, Python dictionaries were not ordered. What does this mean?\n"
   ]
  },
  {
   "cell_type": "code",
   "execution_count": 5,
   "metadata": {
    "collapsed": false
   },
   "outputs": [
    {
     "name": "stdout",
     "output_type": "stream",
     "text": [
      "{'a': 2, 'x': -14, 'z': 12}\n"
     ]
    }
   ],
   "source": [
    "d1 = {'z':12, 'x':-14, 'a': 2}\n",
    "print d1"
   ]
  },
  {
   "cell_type": "markdown",
   "metadata": {},
   "source": [
    "Note - we defined key-values in a certain order but Python didn't follow that order while storing. Which is okay as long as the key-value association is preserved. "
   ]
  },
  {
   "cell_type": "code",
   "execution_count": null,
   "metadata": {
    "collapsed": true
   },
   "outputs": [],
   "source": [
    "Collections provides ordered dictionary.\n"
   ]
  },
  {
   "cell_type": "code",
   "execution_count": 6,
   "metadata": {
    "collapsed": false
   },
   "outputs": [
    {
     "name": "stdout",
     "output_type": "stream",
     "text": [
      "OrderedDict([('z', 12), ('x', -14), ('a', 2)])\n"
     ]
    }
   ],
   "source": [
    "# An example of ordered dictionary \n",
    "\n",
    "import collections\n",
    "d1 = collections.OrderedDict()\n",
    "d1['z'] = 12\n",
    "d1['x']  = -14\n",
    "d1['a'] = 2 \n",
    "print d1"
   ]
  },
  {
   "cell_type": "markdown",
   "metadata": {},
   "source": [
    "Default dictionary \n",
    "\n",
    "When we try to handle a key that is not in the dictionary, a KeyError exception will be raised. Default dictionary provides an alternative to handle missing keys.  Using it, we can set a default value so that the code will continue to run.\n",
    "\n",
    "Syntax\n",
    "```\n",
    "D1 = collections.defaultdict([default_factory])\n",
    "\n",
    "```\n",
    "default_factory must be a callable object. If we pass int, the default value will be 0. In case of list it will be an empty list, []. "
   ]
  },
  {
   "cell_type": "code",
   "execution_count": 15,
   "metadata": {
    "collapsed": false
   },
   "outputs": [
    {
     "name": "stdout",
     "output_type": "stream",
     "text": [
      "0\n"
     ]
    }
   ],
   "source": [
    "D1 = collections.defaultdict(int)\n",
    "D1['a'] = 10\n",
    "D1['w'] = 8\n",
    "print D1['f']"
   ]
  },
  {
   "cell_type": "code",
   "execution_count": 16,
   "metadata": {
    "collapsed": false
   },
   "outputs": [
    {
     "name": "stdout",
     "output_type": "stream",
     "text": [
      "[]\n"
     ]
    }
   ],
   "source": [
    "D1 = collections.defaultdict(list)\n",
    "D1['a'] = 10\n",
    "D1['w'] = 8\n",
    "print D1['f']"
   ]
  },
  {
   "cell_type": "code",
   "execution_count": 18,
   "metadata": {
    "collapsed": false
   },
   "outputs": [
    {
     "name": "stdout",
     "output_type": "stream",
     "text": [
      "-100\n"
     ]
    }
   ],
   "source": [
    "# Custom function\n",
    "\n",
    "D1 = collections.defaultdict(lambda : -100)\n",
    "D1['a'] = 10\n",
    "D1['w'] = 8\n",
    "print D1['f']"
   ]
  },
  {
   "cell_type": "markdown",
   "metadata": {},
   "source": [
    "Deque or Double Ended Queue (prononuciation: deck)"
   ]
  },
  {
   "cell_type": "code",
   "execution_count": 19,
   "metadata": {
    "collapsed": false
   },
   "outputs": [
    {
     "name": "stdout",
     "output_type": "stream",
     "text": [
      "Deque is empty\n"
     ]
    }
   ],
   "source": [
    "import collections\n",
    "d = collections.deque() # Creates an empty deque\n",
    "if d: # You can perform truthiness\n",
    "    print \"Deque not empty\"\n",
    "else:\n",
    "    print \"Deque is empty\""
   ]
  },
  {
   "cell_type": "code",
   "execution_count": 20,
   "metadata": {
    "collapsed": false
   },
   "outputs": [
    {
     "name": "stdout",
     "output_type": "stream",
     "text": [
      "deque(['P', 'y', 't', 'h', 'o', 'n', ' ', 'i', 's', ' ', 'c', 'o', 'o', 'l'])\n"
     ]
    }
   ],
   "source": [
    "import collections\n",
    "d = collections.deque('Python is cool')\n",
    "print d"
   ]
  },
  {
   "cell_type": "code",
   "execution_count": 21,
   "metadata": {
    "collapsed": false
   },
   "outputs": [
    {
     "name": "stdout",
     "output_type": "stream",
     "text": [
      "P\n",
      "l\n",
      "14\n"
     ]
    }
   ],
   "source": [
    "print d[0] # Accessing first element\n",
    "print d[-1] # Accessing the last element\n",
    "print len(d) # Length of deque"
   ]
  },
  {
   "cell_type": "code",
   "execution_count": 22,
   "metadata": {
    "collapsed": false
   },
   "outputs": [
    {
     "name": "stdout",
     "output_type": "stream",
     "text": [
      "P\n",
      "y\n",
      "t\n",
      "h\n",
      "o\n",
      "n\n",
      " \n",
      "i\n",
      "s\n",
      " \n",
      "c\n",
      "o\n",
      "o\n",
      "l\n"
     ]
    }
   ],
   "source": [
    "# Deque behaves like queue and you can iterate through elements\n",
    "for items in d: \n",
    "    print items"
   ]
  },
  {
   "cell_type": "code",
   "execution_count": 23,
   "metadata": {
    "collapsed": false
   },
   "outputs": [
    {
     "name": "stdout",
     "output_type": "stream",
     "text": [
      "deque(['P', 'y', 't', 'h', 'o', 'n', ' ', 'i', 's', ' ', 'c', 'o', 'o', 'l', 'Yes it is'])\n"
     ]
    }
   ],
   "source": [
    "d.append('Yes it is') # Append behaves like it works on list\n",
    "print d"
   ]
  },
  {
   "cell_type": "code",
   "execution_count": 24,
   "metadata": {
    "collapsed": false
   },
   "outputs": [
    {
     "name": "stdout",
     "output_type": "stream",
     "text": [
      "deque(['P', 'y', 't', 'h', 'o', 'n', ' ', 'i', 's', ' ', 'c', 'o', 'o', 'l', 'Y', 'e', 's', ' ', 'i', 't', ' ', 'i', 's'])\n"
     ]
    }
   ],
   "source": [
    "d = collections.deque('Python is cool')\n",
    "d.extend('Yes it is') #Extend behaves like it works on list\n",
    "print d"
   ]
  },
  {
   "cell_type": "code",
   "execution_count": 25,
   "metadata": {
    "collapsed": false
   },
   "outputs": [
    {
     "name": "stdout",
     "output_type": "stream",
     "text": [
      "deque(['CP', 'y', 't', 'h', 'o', 'n', ' ', 'i', 's', ' ', 'c', 'o', 'o', 'l', 'Y', 'e', 's', ' ', 'i', 't', ' ', 'i', 's'])\n"
     ]
    }
   ],
   "source": [
    "d[0] = 'CP' # Change the content of first index to CP\n",
    "print d"
   ]
  },
  {
   "cell_type": "markdown",
   "metadata": {},
   "source": [
    "The difference between deque and list is in the process by which the elements are consumed\n",
    "One can append and extend to either end of the queue using \n",
    "\n",
    "append - append to right\n",
    "\n",
    "appendleft - append to left\n",
    "\n",
    "extend - extend to right\n",
    "\n",
    "extendleft - extend to left"
   ]
  },
  {
   "cell_type": "code",
   "execution_count": 26,
   "metadata": {
    "collapsed": false
   },
   "outputs": [
    {
     "name": "stdout",
     "output_type": "stream",
     "text": [
      "deque(['P', 'y', 't', 'h', 'o', 'n', ' ', 'i', 's', ' ', 'c', 'o', 'o', 'l', 'Y', 'e', 's', ' ', 'i', 't', ' ', 'i', 's'])\n",
      "deque(['!', 'w', 'o', 'W', 'P', 'y', 't', 'h', 'o', 'n', ' ', 'i', 's', ' ', 'c', 'o', 'o', 'l', 'Y', 'e', 's', ' ', 'i', 't', ' ', 'i', 's'])\n"
     ]
    }
   ],
   "source": [
    "d = collections.deque('Python is cool')\n",
    "d.extend('Yes it is')\n",
    "print d\n",
    "\n",
    "d.extendleft('Wow!') # Notice the order in which the elements are added\n",
    "print d"
   ]
  },
  {
   "cell_type": "code",
   "execution_count": null,
   "metadata": {
    "collapsed": true
   },
   "outputs": [],
   "source": [
    "'''\n",
    "In-class activity - If l1 = ['d'], a deque. \n",
    "Add 'c', 'b', 'a' in that order to the left of l1 \n",
    "Add 'e', 'f', 'g' in that order to the right of 'd'.\n",
    "Print the new deque. Then remove 'a' and 'g' from the deque.\n",
    "'''"
   ]
  },
  {
   "cell_type": "code",
   "execution_count": null,
   "metadata": {
    "collapsed": true
   },
   "outputs": [],
   "source": [
    "'''\n",
    "In-class activity - Create a class named Student. Then pass attributes: \n",
    "name, age, city and major. Create an instance of the class and print the \n",
    "values. Then create a namedtuple called Student with the same attributes. \n",
    "Compare the number of lines of code written for the 2 cases. \n",
    "'''"
   ]
  }
 ],
 "metadata": {
  "kernelspec": {
   "display_name": "Python 2",
   "language": "python",
   "name": "python2"
  },
  "language_info": {
   "codemirror_mode": {
    "name": "ipython",
    "version": 2
   },
   "file_extension": ".py",
   "mimetype": "text/x-python",
   "name": "python",
   "nbconvert_exporter": "python",
   "pygments_lexer": "ipython2",
   "version": "2.7.11"
  }
 },
 "nbformat": 4,
 "nbformat_minor": 0
}
