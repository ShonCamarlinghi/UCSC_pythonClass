{
 "cells": [
  {
   "cell_type": "code",
   "execution_count": 74,
   "metadata": {
    "collapsed": false,
    "deletable": true,
    "editable": true
   },
   "outputs": [
    {
     "name": "stdout",
     "output_type": "stream",
     "text": [
      "Original data set  [30, 10, 6, 20, 6, 20, 25, 5, 25, 7, 50, 8, 5, 45, 8, 40, 7, 25, 30, 3, 35, 6, 17, 5, 5, 30, 12, 18, 20, 15]\n",
      "\n",
      "\n",
      "My ordered data set  [3, 5, 5, 5, 5, 6, 6, 6, 7, 7, 8, 8, 10, 12, 15, 17, 18, 20, 20, 20, 25, 25, 25, 30, 30, 30, 35, 40, 45, 50]\n",
      "There are 30 items in the list: \n",
      "30 is even.\n",
      "To get Median we add 14th and 15th points with values 15 and 17 respectively and divide sum by 2\n",
      "Median is  16\n",
      "\n",
      "\n",
      "My ordered data set  [3, 5, 5, 5, 5, 6, 6, 6, 7, 7, 8, 8, 10, 12, 15]\n",
      "There are 15 items in the list: \n",
      "15 is odd\n",
      "To get Median, find 8th point that divides data set in 2 halves\n",
      "Q1 is  6\n",
      "[17, 18, 20, 20, 20, 25, 25, 25, 30, 30, 30, 35, 40, 45, 50] 15\n",
      "\n",
      "\n",
      "My ordered data set  [17, 18, 20, 20, 20, 25, 25, 25, 30, 30, 30, 35, 40, 45, 50]\n",
      "There are 15 items in the list: \n",
      "15 is odd\n",
      "To get Median, find 8th point that divides data set in 2 halves\n",
      "Q3 is  25\n",
      "~~~~~~~~~~~~~~~~~~~~~~~~~~~~~~~~~~~~~~~~~~\n",
      "\n",
      "\n",
      "Q1 = 6, Q2 = 16, Q3 = 25.\n"
     ]
    }
   ],
   "source": [
    "d = {}\n",
    "sorted_d = {}\n",
    "\n",
    "\n",
    "listAll = [30, 10, 6, 20, 6, 20, 25, 5, 25, 7, 50, 8, 5, 45, 8, 40, 7, 25, 30, 3, 35, 6, 17, 5, 5, 30, 12, 18, 20, 15]\n",
    "print 'Original data set ', listAll\n",
    "listAll.sort()\n",
    "\n",
    "def main():\n",
    "    Q2 = findMiddle(listAll)  # also median\n",
    "    print('Median is '), Q2\n",
    "\n",
    "    listLower = listAll[0:len(listAll)/2]\n",
    "    Q1 = findMiddle(listLower)\n",
    "    print('Q1 is '), Q1\n",
    "    \n",
    "    listUpper = listAll[len(listAll)/2:]\n",
    "    print listUpper, len(listUpper)\n",
    "    Q3 = findMiddle(listUpper)\n",
    "    print('Q3 is '), Q3\n",
    "    print '~~~~~~~~~~~~~~~~~~~~~~~~~~~~~~~~~~~~~~~~~~'\n",
    "    print \"\\n\\nQ1 = %d, Q2 = %d, Q3 = %d.\" % (Q1, Q2, Q3)\n",
    "    \n",
    "\n",
    "\n",
    "\n",
    "def findMiddle(L):\n",
    "    print('\\n\\nMy ordered data set '), L\n",
    "    n = len(L) \n",
    "    print('There are %d items in the list: ')% n\n",
    "    if n%2==0:\n",
    "        print('%d is even.') % n \n",
    "        print ('To get Median we add %dth and %dth points with values %d and %d respectively and divide sum by 2') % ( (n/2)-1, n/2, L[n/2-1], L[n/2])     \n",
    "        middle = (L[n/2-1] + L[n/2])/2\n",
    "    else: \n",
    "        print('%d is odd')% n\n",
    "        middle = L[n/2-1]\n",
    "        print('To get Median, find %dth point that divides data set in 2 halves') % ((n/2+1))  \n",
    "    return middle\n",
    "\n",
    "        \n",
    "intero_set = set(listAll) \n",
    "for key in intero_set:\n",
    "    d[key] = listAll.count(key)\n",
    "# for key, value in sorted(d.iteritems(), key=lambda (v,k): (k,v)):\n",
    "#     print \"%s: %s\" % (key, value)   // sorted by value (frequency)\n",
    "for key in sorted(d.iterkeys()): print '%d: %d ' % (key, d[key]) \n",
    "for key in sorted(d.iterkeys()): sorted_d[key] = d[key]  \n",
    "print sorted_d\n",
    "sorted_d is not sorted anymore, even though I got key-value pairs from\n",
    "identical line above: for key in sorted(d.iterkeys()): print '%d: %d ' % (key, d[key]) \n",
    "    \n",
    "    \n",
    "if __name__ == '__main__':\n",
    "    main()\n",
    "    \n",
    "\n",
    "\n"
   ]
  },
  {
   "cell_type": "code",
   "execution_count": 5,
   "metadata": {
    "collapsed": false,
    "deletable": true,
    "editable": true
   },
   "outputs": [
    {
     "name": "stdout",
     "output_type": "stream",
     "text": [
      "Original data set  [30, 10, 6, 20, 6, 20, 25, 5, 25, 7, 50, 8, 5, 45, 8, 40, 7, 25, 30, 3, 35, 6, 17, 5, 5, 30, 12, 18, 20, 15]\n",
      "5: 4 \n",
      "6: 3 \n",
      "7: 2 \n",
      "8: 2 \n",
      "20: 3 \n",
      "25: 3 \n",
      "30: 3 \n"
     ]
    }
   ],
   "source": [
    "d = {}\n",
    "sorted_d = {}\n",
    "\n",
    "\n",
    "listAll = [30, 10, 6, 20, 6, 20, 25, 5, 25, 7, 50, 8, 5, 45, 8, 40, 7, 25, 30, 3, 35, 6, 17, 5, 5, 30, 12, 18, 20, 15]\n",
    "print 'Original data set ', listAll\n",
    "listAll.sort()\n",
    "\n",
    "def main(listAll):\n",
    "    intero_set = set(listAll) \n",
    "    for key in intero_set:\n",
    "        if listAll.count(key) > 1:\n",
    "            d[key] = listAll.count(key)\n",
    "#     for key, value in sorted(d.iteritems(), key=lambda (v,k): (k,v)):\n",
    "#         print \"%s: %s\" % (key, value)   # sorted by value (frequency)\n",
    "    for key in sorted(d.iterkeys()): print '%d: %d ' % (key, d[key]) \n",
    "        \n",
    "    # for key in sorted(d.iterkeys()): sorted_d[key] = d[key]  \n",
    "    # print sorted_d\n",
    " \n",
    "    \n",
    "if __name__ == '__main__':\n",
    "    main(listAll)\n",
    "    "
   ]
  },
  {
   "cell_type": "code",
   "execution_count": null,
   "metadata": {
    "collapsed": true,
    "deletable": true,
    "editable": true
   },
   "outputs": [],
   "source": []
  },
  {
   "cell_type": "code",
   "execution_count": null,
   "metadata": {
    "collapsed": true,
    "deletable": true,
    "editable": true
   },
   "outputs": [],
   "source": []
  }
 ],
 "metadata": {
  "kernelspec": {
   "display_name": "Python 2",
   "language": "python",
   "name": "python2"
  },
  "language_info": {
   "codemirror_mode": {
    "name": "ipython",
    "version": 2
   },
   "file_extension": ".py",
   "mimetype": "text/x-python",
   "name": "python",
   "nbconvert_exporter": "python",
   "pygments_lexer": "ipython2",
   "version": "2.7.13"
  }
 },
 "nbformat": 4,
 "nbformat_minor": 2
}
