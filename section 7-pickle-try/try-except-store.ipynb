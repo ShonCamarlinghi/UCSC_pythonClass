{
 "cells": [
  {
   "cell_type": "markdown",
   "metadata": {
    "collapsed": false,
    "deletable": true,
    "editable": true
   },
   "source": [
    "In this notebook we will discuss \n",
    "\n",
    "1. Error handling using try-except \n",
    "\n",
    "2. Creating custom exceptions \n",
    "\n",
    "3. Storing Python objects using \n",
    "\n",
    "    a. Pickle\n",
    "    \n",
    "    b. Shelve "
   ]
  },
  {
   "cell_type": "markdown",
   "metadata": {
    "collapsed": false,
    "deletable": true,
    "editable": true
   },
   "source": [
    "What is an exception?\n",
    "\n",
    "An exception is raised when a program has an error. Error handling is used to take care of \n",
    "exceptions so that when there is no exception then the program runs smoothly and in case \n",
    "of an error, the error handler can fix the problem or handle it so that the program can \n",
    "be continued. \n",
    "\n",
    "try-except is a construct that handles exceptions.\n",
    "\n",
    "Check this link \n",
    "http://www.python-course.eu/exception_handling.php\n",
    "\n",
    "List of Python builtin exceptions can be found at\n",
    "https://docs.python.org/2/library/exceptions.html"
   ]
  },
  {
   "cell_type": "code",
   "execution_count": 2,
   "metadata": {
    "collapsed": false,
    "deletable": true,
    "editable": true
   },
   "outputs": [
    {
     "ename": "ZeroDivisionError",
     "evalue": "integer division or modulo by zero",
     "output_type": "error",
     "traceback": [
      "\u001b[0;31m\u001b[0m",
      "\u001b[0;31mZeroDivisionError\u001b[0mTraceback (most recent call last)",
      "\u001b[0;32m<ipython-input-2-099a75842262>\u001b[0m in \u001b[0;36m<module>\u001b[0;34m()\u001b[0m\n\u001b[1;32m      1\u001b[0m \u001b[0ma\u001b[0m \u001b[0;34m=\u001b[0m \u001b[0;36m10\u001b[0m\u001b[0;34m\u001b[0m\u001b[0m\n\u001b[1;32m      2\u001b[0m \u001b[0mb\u001b[0m \u001b[0;34m=\u001b[0m \u001b[0;36m0\u001b[0m\u001b[0;34m\u001b[0m\u001b[0m\n\u001b[0;32m----> 3\u001b[0;31m \u001b[0mc\u001b[0m \u001b[0;34m=\u001b[0m \u001b[0ma\u001b[0m\u001b[0;34m/\u001b[0m\u001b[0mb\u001b[0m\u001b[0;34m\u001b[0m\u001b[0m\n\u001b[0m\u001b[1;32m      4\u001b[0m \u001b[0;34m\u001b[0m\u001b[0m\n\u001b[1;32m      5\u001b[0m \u001b[0;32mprint\u001b[0m \u001b[0mc\u001b[0m\u001b[0;34m\u001b[0m\u001b[0m\n",
      "\u001b[0;31mZeroDivisionError\u001b[0m: integer division or modulo by zero"
     ]
    }
   ],
   "source": [
    "a = 10\n",
    "b = 0\n",
    "c = a/b\n",
    "\n",
    "print c"
   ]
  },
  {
   "cell_type": "code",
   "execution_count": 3,
   "metadata": {
    "collapsed": false,
    "deletable": true,
    "editable": true
   },
   "outputs": [
    {
     "name": "stdout",
     "output_type": "stream",
     "text": [
      "10\n"
     ]
    }
   ],
   "source": [
    "'''\n",
    "Instead of quitting after encountering the ZeroDivisionError, in this \n",
    "case we are assigning a new value to c so that the program can continue.\n",
    "'''\n",
    "a = 10\n",
    "b = 0\n",
    "\n",
    "try:\n",
    "    c = a/b\n",
    "except ZeroDivisionError:\n",
    "    c = a\n",
    "\n",
    "# Instead of quitting after encountering the ZeroDivisionError, in this \n",
    "# case we are assigning a new value to c so that the program can continue.\n",
    "\n",
    "print c    "
   ]
  },
  {
   "cell_type": "code",
   "execution_count": 4,
   "metadata": {
    "collapsed": false,
    "deletable": true,
    "editable": true
   },
   "outputs": [
    {
     "ename": "ValueError",
     "evalue": "invalid literal for int() with base 10: '92384g'",
     "output_type": "error",
     "traceback": [
      "\u001b[0;31m\u001b[0m",
      "\u001b[0;31mValueError\u001b[0mTraceback (most recent call last)",
      "\u001b[0;32m<ipython-input-4-cffdcb38ac9f>\u001b[0m in \u001b[0;36m<module>\u001b[0;34m()\u001b[0m\n\u001b[1;32m      1\u001b[0m \u001b[0;31m# Since the string can't be converted to an int, ValueError exception\u001b[0m\u001b[0;34m\u001b[0m\u001b[0;34m\u001b[0m\u001b[0m\n\u001b[1;32m      2\u001b[0m \u001b[0;31m# will be raised\u001b[0m\u001b[0;34m\u001b[0m\u001b[0;34m\u001b[0m\u001b[0m\n\u001b[0;32m----> 3\u001b[0;31m \u001b[0ma\u001b[0m \u001b[0;34m=\u001b[0m \u001b[0mint\u001b[0m\u001b[0;34m(\u001b[0m\u001b[0;34m'92384g'\u001b[0m\u001b[0;34m)\u001b[0m\u001b[0;34m\u001b[0m\u001b[0m\n\u001b[0m\u001b[1;32m      4\u001b[0m \u001b[0;32mprint\u001b[0m \u001b[0ma\u001b[0m\u001b[0;34m,\u001b[0m \u001b[0mtype\u001b[0m\u001b[0;34m(\u001b[0m\u001b[0ma\u001b[0m\u001b[0;34m)\u001b[0m\u001b[0;34m\u001b[0m\u001b[0m\n",
      "\u001b[0;31mValueError\u001b[0m: invalid literal for int() with base 10: '92384g'"
     ]
    }
   ],
   "source": [
    "# Since the string can't be converted to an int, ValueError exception \n",
    "# will be raised\n",
    "a = int('92384g')\n",
    "print a, type(a)"
   ]
  },
  {
   "cell_type": "code",
   "execution_count": 5,
   "metadata": {
    "collapsed": false,
    "deletable": true,
    "editable": true
   },
   "outputs": [
    {
     "name": "stdout",
     "output_type": "stream",
     "text": [
      "The error message is - Not a number.\n",
      "The error message is - Cannot divide by zero.\n"
     ]
    }
   ],
   "source": [
    "try:\n",
    "    a = int('92384g')\n",
    "    b = 0\n",
    "    c = a/b\n",
    "except:\n",
    "    print 'The error message is - Not a number.'\n",
    "    print 'The error message is - Cannot divide by zero.'"
   ]
  },
  {
   "cell_type": "code",
   "execution_count": 1,
   "metadata": {
    "collapsed": false,
    "deletable": true,
    "editable": true
   },
   "outputs": [
    {
     "name": "stdout",
     "output_type": "stream",
     "text": [
      "Not a number.  The error message is invalid literal for int() with base 10: '92384g'\n"
     ]
    }
   ],
   "source": [
    "try:\n",
    "    a = int('92384g')\n",
    "    b = 12\n",
    "    c = 0\n",
    "    d = b/c\n",
    "except ValueError as v:\n",
    "    print 'Not a number.  The error message is',v\n",
    "except ZeroDivisionError as z:\n",
    "    print 'Cannot divide by zero.  The error message is',z  \n",
    "    "
   ]
  },
  {
   "cell_type": "code",
   "execution_count": 2,
   "metadata": {
    "collapsed": false,
    "deletable": true,
    "editable": true
   },
   "outputs": [
    {
     "name": "stdout",
     "output_type": "stream",
     "text": [
      "Not a number.  The error message is invalid literal for int() with base 10: '92384g'\n",
      "Cannot divide by zero.  The error message is integer division or modulo by zero\n"
     ]
    }
   ],
   "source": [
    "try:\n",
    "    a = int('92384g')\n",
    "except ValueError as v:\n",
    "    print 'Not a number.  The error message is',v\n",
    "    \n",
    "b = 12\n",
    "c = 0\n",
    "try:   \n",
    "    d = b/c\n",
    "except ZeroDivisionError as z:\n",
    "    print 'Cannot divide by zero.  The error message is',z"
   ]
  },
  {
   "cell_type": "code",
   "execution_count": 9,
   "metadata": {
    "collapsed": false,
    "deletable": true,
    "editable": true
   },
   "outputs": [
    {
     "ename": "TypeError",
     "evalue": "can only concatenate tuple (not \"int\") to tuple",
     "output_type": "error",
     "traceback": [
      "\u001b[0;31m\u001b[0m",
      "\u001b[0;31mTypeError\u001b[0mTraceback (most recent call last)",
      "\u001b[0;32m<ipython-input-9-9b6bd7f26c20>\u001b[0m in \u001b[0;36m<module>\u001b[0;34m()\u001b[0m\n\u001b[1;32m      1\u001b[0m \u001b[0mtuple1\u001b[0m \u001b[0;34m=\u001b[0m \u001b[0;34m(\u001b[0m\u001b[0;36m10\u001b[0m\u001b[0;34m,\u001b[0m\u001b[0;36m5\u001b[0m\u001b[0;34m)\u001b[0m\u001b[0;34m\u001b[0m\u001b[0m\n\u001b[0;32m----> 2\u001b[0;31m \u001b[0mtuple1\u001b[0m \u001b[0;34m=\u001b[0m \u001b[0mtuple1\u001b[0m \u001b[0;34m+\u001b[0m \u001b[0;36m1\u001b[0m\u001b[0;34m\u001b[0m\u001b[0m\n\u001b[0m",
      "\u001b[0;31mTypeError\u001b[0m: can only concatenate tuple (not \"int\") to tuple"
     ]
    }
   ],
   "source": [
    "tuple1 = (10,5)\n",
    "tuple1 = tuple1 + 1\n"
   ]
  },
  {
   "cell_type": "code",
   "execution_count": 8,
   "metadata": {
    "collapsed": false,
    "deletable": true,
    "editable": true
   },
   "outputs": [
    {
     "name": "stdout",
     "output_type": "stream",
     "text": [
      "This key is not in the dictionary 5\n"
     ]
    }
   ],
   "source": [
    "try:\n",
    "    D1 = {1:'a', 3:'k'}\n",
    "    print D1[5]\n",
    "except KeyError as m:\n",
    "    print \"This key is not in the dictionary\", m"
   ]
  },
  {
   "cell_type": "markdown",
   "metadata": {
    "collapsed": false,
    "deletable": true,
    "editable": true
   },
   "source": [
    "try-except-else: the else clause has to placed after all the exceptions and \n",
    "else clause will be executed when the try clause doesn't raise any exceptions\n",
    "\n",
    "syntax\n",
    "```\n",
    "try:\n",
    "    execute try statements\n",
    "    \n",
    "except exception1:\n",
    "    If there is exception1, then execute this block\n",
    "\n",
    "except exception2:\n",
    "    If there is exception2, then execute this block\n",
    "    \n",
    "else:\n",
    "    If there is no exception, then execute this block\n",
    "```"
   ]
  },
  {
   "cell_type": "code",
   "execution_count": null,
   "metadata": {
    "collapsed": true,
    "deletable": true,
    "editable": true
   },
   "outputs": [],
   "source": []
  },
  {
   "cell_type": "code",
   "execution_count": null,
   "metadata": {
    "collapsed": true,
    "deletable": true,
    "editable": true
   },
   "outputs": [],
   "source": [
    "try:\n",
    "    a = int('92')\n",
    "except ValueError:\n",
    "    a = 10\n",
    "    print 'a is not a number. Gave a new value = ', a\n",
    "else:\n",
    "    print 'Is a number'\n",
    "finally:\n",
    "    print \"I am all done\""
   ]
  },
  {
   "cell_type": "markdown",
   "metadata": {
    "collapsed": false,
    "deletable": true,
    "editable": true
   },
   "source": [
    "To enforce clean-up or termination clauses there is try-finally or \n",
    "try-except-finally. Finally clause will be executed no matter whether an \n",
    "exception occurs or not.\n",
    "\n",
    "syntax\n",
    "```\n",
    "try:\n",
    "    execute statements\n",
    "    \n",
    "    if an exception occurs, then this may be skipped\n",
    "    \n",
    "except e1:\n",
    "    statement to execute if there is an exception\n",
    "\n",
    "else:\n",
    "    statements to execute if no exceptions are not raised\n",
    "    \n",
    "finally:\n",
    "        this will always be executed no matter whether an exception is \n",
    "        raised or not\n",
    "```"
   ]
  },
  {
   "cell_type": "code",
   "execution_count": null,
   "metadata": {
    "collapsed": false,
    "deletable": true,
    "editable": true
   },
   "outputs": [],
   "source": [
    "try:\n",
    "    f = open(\"test1.txt\",\"r\")\n",
    "    f.readlines()\n",
    "    \n",
    "except IOError:\n",
    "    print \"File not found.\"\n",
    "    \n",
    "finally:\n",
    "    print \"There is no file by this name.\""
   ]
  },
  {
   "cell_type": "markdown",
   "metadata": {
    "collapsed": false,
    "deletable": true,
    "editable": true
   },
   "source": [
    "Note - the major difference between else clause and finally clause is that else clause will get executed only when no exceptions are raised. Whereas finally clause gets executed no matter whether an exception is raised or not. "
   ]
  },
  {
   "cell_type": "code",
   "execution_count": null,
   "metadata": {
    "collapsed": false,
    "deletable": true,
    "editable": true
   },
   "outputs": [],
   "source": [
    "a = 10\n",
    "b = 0\n",
    "try:\n",
    "    c = a/b\n",
    "except ZeroDivisionError:\n",
    "    c = a\n",
    "finally:\n",
    "    print c"
   ]
  },
  {
   "cell_type": "markdown",
   "metadata": {
    "deletable": true,
    "editable": true
   },
   "source": [
    "Custom Exceptions \n",
    "\n",
    "Custom exception has to be a class and it has to inherit from Python \n",
    "Exception class.\n",
    "\n",
    "Syntax for a simple custom exception without an error message\n",
    "\n",
    "```\n",
    "class exception_name(Exception):\n",
    "    pass\n",
    "```\n",
    "\n",
    "Syntax for a simple custom exception with an error message\n",
    "\n",
    "```\n",
    "class exception_name(Exception):\n",
    "    def __str__(self):\n",
    "        return \"custom message\"\n",
    "```"
   ]
  },
  {
   "cell_type": "code",
   "execution_count": 13,
   "metadata": {
    "collapsed": false,
    "deletable": true,
    "editable": true
   },
   "outputs": [
    {
     "name": "stdout",
     "output_type": "stream",
     "text": [
      "The value is too small\n"
     ]
    }
   ],
   "source": [
    "class TooSmallError(Exception):\n",
    "    def __str__(self):\n",
    "        return \"The value is too small\"\n",
    "\n",
    "    \n",
    "class TooLargeError(Exception):\n",
    "    def __str__(self):\n",
    "        return \"The value is too large\"\n",
    "\n",
    "    \n",
    "def checkval(val,limit):\n",
    "    if val < limit:\n",
    "        raise TooSmallError\n",
    "    else:\n",
    "        raise TooLargeError\n",
    "        \n",
    "limit = 100\n",
    "a = 0\n",
    "try:\n",
    "    checkval(a,limit)\n",
    "except TooSmallError as s:\n",
    "    print s\n",
    "except TooLargeError as l:\n",
    "    print l    "
   ]
  },
  {
   "cell_type": "code",
   "execution_count": 11,
   "metadata": {
    "collapsed": false,
    "deletable": true,
    "editable": true
   },
   "outputs": [
    {
     "name": "stdout",
     "output_type": "stream",
     "text": [
      "Please enter 2 leading coefficients of a quadratic equation: 5\n",
      "(5.0,)\n"
     ]
    }
   ],
   "source": [
    "'''\n",
    "In-class activity for custom exception\n",
    "\n",
    "You should ask user to input coefficients of a quadratic as a tuple. \n",
    "Then you check to see if the first coefficient is zero. If it is, \n",
    "then you should raise a custom exception. So you should write a \n",
    "custom exception class called CoeffZeroError. \n",
    "ax**2 + bx + c = 0\n",
    "\n",
    "'''\n",
    "\n",
    "class CoeffZeroError(Exception):\n",
    "    def __str__(self):\n",
    "        return \"First coeffiecient is 0, can not be 0.\"\n",
    "    \n",
    "# def coef(): \n",
    "#     T1 = ()\n",
    "#     for len(T1) < 2:\n",
    "#         a = (int(raw_input(\"Please enter 2 leading coefficients of a quadratic equation: \")))\n",
    "#         T1.append(a)\n",
    "#     if T1[0] == 0:\n",
    "#         raise CoeffZeroError\n",
    "\n",
    "input1 = raw_input(\"Please enter 2 leading coefficients of a quadratic equation: \")\n",
    "input2 = input1.split(',') # converts string input1 into a list os strings.\n",
    "input3 = tuple([float(i) for i in input2])\n",
    "print input3\n",
    "\n",
    "try:\n",
    "    if input3[0] == 0:\n",
    "       raise CoeffZeroError # has to 'raise' custom-built exception\n",
    "except CoeffZeroError as cz:  \n",
    "    print \"Hello!\", cz\n",
    "\n"
   ]
  },
  {
   "cell_type": "markdown",
   "metadata": {
    "collapsed": false,
    "deletable": true,
    "editable": true
   },
   "source": [
    "Pickle module\n",
    "\n",
    "A pickle converts Python objects to bytes that can be stored or transmitted \n",
    "(not secure). The CPickle module implemented using C is faster than pickle \n",
    "that is implemented using Python. Pickle can handle unicode objects. \n",
    "A \"shelf\" is a persistent, dictionary-like object. \n",
    "\n",
    "Check out the following links to learn more \n",
    "https://freepythontips.wordpress.com/2013/08/02/what-is-pickle-in-python/\n"
   ]
  },
  {
   "cell_type": "code",
   "execution_count": null,
   "metadata": {
    "collapsed": false,
    "deletable": true,
    "editable": true
   },
   "outputs": [],
   "source": [
    "try:\n",
    "   import cPickle as pickle\n",
    "except:\n",
    "   import pickle"
   ]
  },
  {
   "cell_type": "code",
   "execution_count": 23,
   "metadata": {
    "collapsed": false,
    "deletable": true,
    "editable": true
   },
   "outputs": [
    {
     "name": "stdout",
     "output_type": "stream",
     "text": [
      "Read values are: [{'a': '1', 'c': 3, 'b': 2}]\n",
      "{'e': 5, 'd': 4}\n"
     ]
    }
   ],
   "source": [
    "try:\n",
    "   import cPickle as pickle\n",
    "except:\n",
    "   import pickle\n",
    "\n",
    "d1 = [ { 'a':'1', 'b':2, 'c':3 } ]\n",
    "d2 = {'d':4,'e':5}\n",
    "\n",
    "f = open('pickle.ck','wb') #'wb' - write binary\n",
    "pickle.dump(d1,f) # this command dumps d1 into the binary file pickle.ck\n",
    "pickle.dump(d2,f) # this command dumps d2 into the binary file pickle.ck\n",
    "f.close()\n",
    "\n",
    "f = open('pickle.ck','rb') # read bianry file\n",
    "nd1 = pickle.load(f)  #fetch file\n",
    "nd2 = pickle.load(f)\n",
    "f.close()\n",
    "\n",
    "print 'Read values are:',\n",
    "print nd1\n",
    "print nd2"
   ]
  },
  {
   "cell_type": "code",
   "execution_count": null,
   "metadata": {
    "collapsed": false,
    "deletable": true,
    "editable": true
   },
   "outputs": [],
   "source": [
    "f = open('pickle.ck','rb')\n",
    "n1 = pickle.load(f)\n",
    "print n1\n",
    "n2 = pickle.load(f)\n",
    "print n2\n",
    "\n",
    "'''\n",
    "We have read all the information that needs to be read.  \n",
    "The following will give an error.\n",
    "'''\n",
    "\n",
    "#nd3 = pickle.load(f) \n",
    "f.close()"
   ]
  },
  {
   "cell_type": "code",
   "execution_count": null,
   "metadata": {
    "collapsed": false,
    "deletable": true,
    "editable": true
   },
   "outputs": [],
   "source": [
    "tuple1 = (-2,4,10,)\n",
    "f = open('pickle.ck','wb')\n",
    "pickle.dump(tuple1,f)"
   ]
  },
  {
   "cell_type": "code",
   "execution_count": null,
   "metadata": {
    "collapsed": false,
    "deletable": true,
    "editable": true
   },
   "outputs": [],
   "source": [
    "f = open('pickle.ck','rb')\n",
    "new1 = pickle.load(f)\n",
    "print new1"
   ]
  },
  {
   "cell_type": "code",
   "execution_count": 30,
   "metadata": {
    "collapsed": false,
    "deletable": true,
    "editable": true
   },
   "outputs": [
    {
     "name": "stdout",
     "output_type": "stream",
     "text": [
      "Leo sophomore\n",
      "Nonni ESL\n"
     ]
    }
   ],
   "source": [
    "'''\n",
    "In-class activity on pickle - create a class called studentcourse. The class \n",
    "has to take the information: student name, year in college \n",
    "(freshman, sophomore, junior or senior) and two \n",
    "courses. Now store the information in a pickle file. The open the pickle \n",
    "file and print the contents. \n",
    "'''\n",
    "import pickle\n",
    "\n",
    "class studentcourse(object):    \n",
    "    def __init__(self, name, year, course1, course2):\n",
    "        self.name = name\n",
    "        self.year = year\n",
    "        self.course1 = course1\n",
    "        self.course2 = course2\n",
    "        \n",
    "           \n",
    "c1 = studentcourse(\"Leo\", 'sophomore', 'math10', 'calculus')  \n",
    "c2 = studentcourse(\"Nonni\", 'junior', 'ESL', 'calculus')\n",
    "f = open('pickle_course.ck','wb') #'wb' - write binary\n",
    "pickle.dump(c1, f) # this command dumps  into the binary file pickle.ck\n",
    "pickle.dump(c2, f)\n",
    "f.close()\n",
    "f = open('pickle_course.ck','rb') # read bianry file\n",
    "rs1 = pickle.load(f)  #fetch file\n",
    "rs2 = pickle.load(f)        \n",
    "f.close() \n",
    "\n",
    "print rs1.name, rs1.year\n",
    "print rs2.name, rs2.course1\n",
    "                  \n",
    " "
   ]
  },
  {
   "cell_type": "markdown",
   "metadata": {
    "collapsed": false,
    "deletable": true,
    "editable": true
   },
   "source": [
    "Shelve module can be used to store and retrieve Python objects easily.\n",
    "Shelve uses anydbm to store the data. Check out the following link \n",
    "for more information.\n",
    "More reading material: \n",
    "http://pymotw.com/2/shelve/"
   ]
  },
  {
   "cell_type": "code",
   "execution_count": 31,
   "metadata": {
    "collapsed": false,
    "deletable": true,
    "editable": true
   },
   "outputs": [
    {
     "name": "stdout",
     "output_type": "stream",
     "text": [
      "{'second': ['apple', 'mango', 'pineapple'], 'first': {'a': '1', 'c': 3, 'b': 2}, 'firstdict': [{'a': '1', 'c': 3, 'b': 2}]}\n"
     ]
    }
   ],
   "source": [
    "import shelve\n",
    "d1 = { 'a':'1', 'b':2, 'c':3 }\n",
    "list1 = ['apple', 'mango', 'pineapple']\n",
    "s = shelve.open('fruit.sv') # opens the shelve in default 'write' mode\n",
    "try:\n",
    "    s['first'] = d1\n",
    "    s['second'] = list1\n",
    "finally:\n",
    "    print s\n",
    "    s.close()"
   ]
  },
  {
   "cell_type": "code",
   "execution_count": 32,
   "metadata": {
    "collapsed": false,
    "deletable": true,
    "editable": true
   },
   "outputs": [
    {
     "name": "stdout",
     "output_type": "stream",
     "text": [
      "{'a': '1', 'c': 3, 'b': 2}\n"
     ]
    }
   ],
   "source": [
    "import shelve\n",
    "s = shelve.open('fruit.sv','r')\n",
    "try:\n",
    "    newd = s['first']\n",
    "finally:\n",
    "    s.close()\n",
    "print newd"
   ]
  },
  {
   "cell_type": "code",
   "execution_count": 34,
   "metadata": {
    "collapsed": false,
    "deletable": true,
    "editable": true
   },
   "outputs": [
    {
     "name": "stdout",
     "output_type": "stream",
     "text": [
      "{'second': ['apple', 'mango', 'pineapple'], 'first': {'a': '1', 'c': 3, 'b': 2}, 'firstD': [{'a': '1', 'c': 3, 'b': 2}], 'firstdict': [{'a': '1', 'c': 3, 'b': 2}]}\n"
     ]
    }
   ],
   "source": [
    "import shelve\n",
    "d3 = [ { 'a':'1', 'b':2, 'c':3 } ]\n",
    "# Write back uses in-memory cache. All items in cache are written to the shelve \n",
    "# when it is closed.\n",
    "s = shelve.open('fruit.sv',writeback=True) # return to dataset , similar to COMMIT in SQL\n",
    "try:\n",
    "    s['firstD'] = d3\n",
    "finally:\n",
    "    print s\n",
    "    s.close()"
   ]
  },
  {
   "cell_type": "code",
   "execution_count": 35,
   "metadata": {
    "collapsed": false,
    "deletable": true,
    "editable": true
   },
   "outputs": [
    {
     "name": "stdout",
     "output_type": "stream",
     "text": [
      "['apple', 'mango', 'pineapple']\n"
     ]
    }
   ],
   "source": [
    "import shelve\n",
    "s = shelve.open('fruit.sv')\n",
    "if 'second' in s: # we are checking if the key second exists\n",
    "    print s['second']"
   ]
  },
  {
   "cell_type": "code",
   "execution_count": 36,
   "metadata": {
    "collapsed": false,
    "deletable": true,
    "editable": true
   },
   "outputs": [
    {
     "name": "stdout",
     "output_type": "stream",
     "text": [
      "[{'a': '1', 'c': 3, 'b': 2}]\n"
     ]
    }
   ],
   "source": [
    "import shelve\n",
    "s = shelve.open('fruit.sv')\n",
    "if 'firstdict' in s: # we are checking if the key firstdict exists\n",
    "    print s['firstdict']"
   ]
  },
  {
   "cell_type": "markdown",
   "metadata": {
    "collapsed": false,
    "deletable": true,
    "editable": true
   },
   "source": [
    "Note - the major difference between pickle and shelve is that pickle \n",
    "stores the objects one at a time and objects can only be retrieved in \n",
    "the order they were written. Whereas objects in shelve can be \n",
    "accessed in any order. "
   ]
  },
  {
   "cell_type": "code",
   "execution_count": 38,
   "metadata": {
    "collapsed": false,
    "deletable": true,
    "editable": true
   },
   "outputs": [
    {
     "name": "stdout",
     "output_type": "stream",
     "text": [
      "{'1': ['Leo', 'sophomore', 'math10'], '2': ['Nonni', 'junior', 'ESL']}\n"
     ]
    }
   ],
   "source": [
    "'''\n",
    "In-class activity on shelve - create a class called studentcourse. The \n",
    "class has to take the information: student name, year in college \n",
    "(freshman, sophomore, junior or senior) and two courses. Now store the \n",
    "information in a shelve file. The open the shelve file and print the \n",
    "contents. Use the code from the in-class activity for pickle and \n",
    "modify it.\n",
    "'''\n",
    "import shelve\n",
    "class studentcourse(object):\n",
    "    def __init__(self, name, year, course1, course2):\n",
    "        self.name = name\n",
    "        self.year = year\n",
    "        self.course1 = course1\n",
    "        self.course2 = course2\n",
    "        \n",
    "        \n",
    "c1 = studentcourse(\"Leo\", 'sophomore', 'math10', 'calculus')  \n",
    "c2 = studentcourse(\"Nonni\", 'junior', 'ESL', 'calculus')\n",
    "\n",
    "s = shelve.open('students.sv') # opens the shelve in default 'write' mode\n",
    "try:\n",
    "    s['1'] = [c1.name, c1.year, c1.course1]\n",
    "    s['2'] = [c2.name, c2.year, c2.course1]\n",
    "finally:\n",
    "    print s\n",
    "    s.close()\n",
    "        \n",
    "        "
   ]
  },
  {
   "cell_type": "code",
   "execution_count": 26,
   "metadata": {
    "collapsed": false,
    "deletable": true,
    "editable": true
   },
   "outputs": [
    {
     "name": "stdout",
     "output_type": "stream",
     "text": [
      "Please enter an exponent for base 2: s\n"
     ]
    },
    {
     "ename": "notInt",
     "evalue": "Your input was not an integer",
     "output_type": "error",
     "traceback": [
      "\u001b[0;31m\u001b[0m",
      "\u001b[0;31mnotInt\u001b[0mTraceback (most recent call last)",
      "\u001b[0;32m<ipython-input-26-18f891a82ef4>\u001b[0m in \u001b[0;36m<module>\u001b[0;34m()\u001b[0m\n\u001b[1;32m     29\u001b[0m \u001b[0;34m\u001b[0m\u001b[0m\n\u001b[1;32m     30\u001b[0m \u001b[0;32mexcept\u001b[0m \u001b[0mValueError\u001b[0m\u001b[0;34m:\u001b[0m\u001b[0;34m\u001b[0m\u001b[0m\n\u001b[0;32m---> 31\u001b[0;31m     \u001b[0;32mraise\u001b[0m \u001b[0mnotInt\u001b[0m\u001b[0;34m\u001b[0m\u001b[0m\n\u001b[0m\u001b[1;32m     32\u001b[0m \u001b[0;32mexcept\u001b[0m \u001b[0moutOfRange5and25\u001b[0m \u001b[0;32mas\u001b[0m \u001b[0mr\u001b[0m\u001b[0;34m:\u001b[0m\u001b[0;34m\u001b[0m\u001b[0m\n\u001b[1;32m     33\u001b[0m     \u001b[0;32mprint\u001b[0m \u001b[0;34m\"Hello!\"\u001b[0m\u001b[0;34m,\u001b[0m \u001b[0mr\u001b[0m\u001b[0;34m\u001b[0m\u001b[0m\n",
      "\u001b[0;31mnotInt\u001b[0m: Your input was not an integer"
     ]
    }
   ],
   "source": [
    "\n",
    "class outOfRange5and25(Exception):\n",
    "    def __str__(self):\n",
    "        return \"Your integer should be greater than or equal to 5 and less than or equal to 25\"\n",
    "\n",
    "class notInt(Exception):\n",
    "    def __str__(self):\n",
    "        return \"Your input was not an integer\"        \n",
    "        \n",
    "\n",
    "try: \n",
    "        \n",
    "    x = int(raw_input(\"Please enter an exponent for base 2: \"))\n",
    "\n",
    "    if 5 <= x <= 25:\n",
    "        print \"Bingo!  Your input %d is between 5 and 25\" % (x)\n",
    "        a = 2**x\n",
    "        print \"2 in %dth exponent is %d\" %(x, a) \n",
    "        b = 0\n",
    "        a = str(a)\n",
    "        for z in xrange(len(a)):\n",
    "            print a[z]\n",
    "            b += int(a[z])\n",
    "        print \"Sum of digits in %s is %d\" %(a, b)\n",
    "    else:    \n",
    "        raise outOfRange5and25 # has to 'raise' custom-built exception                  \n",
    "               \n",
    "except ValueError:\n",
    "    raise notInt\n",
    "except outOfRange5and25 as r:  \n",
    "    print \"Hello!\", r\n",
    "except notInt as i:\n",
    "    print i\n",
    "    \n",
    "\n",
    "\n",
    "\n",
    "\n"
   ]
  },
  {
   "cell_type": "code",
   "execution_count": null,
   "metadata": {
    "collapsed": true,
    "deletable": true,
    "editable": true
   },
   "outputs": [],
   "source": []
  },
  {
   "cell_type": "code",
   "execution_count": null,
   "metadata": {
    "collapsed": true,
    "deletable": true,
    "editable": true
   },
   "outputs": [],
   "source": []
  }
 ],
 "metadata": {
  "kernelspec": {
   "display_name": "Python 2",
   "language": "python",
   "name": "python2"
  },
  "language_info": {
   "codemirror_mode": {
    "name": "ipython",
    "version": 2
   },
   "file_extension": ".py",
   "mimetype": "text/x-python",
   "name": "python",
   "nbconvert_exporter": "python",
   "pygments_lexer": "ipython2",
   "version": "2.7.13"
  }
 },
 "nbformat": 4,
 "nbformat_minor": 0
}
